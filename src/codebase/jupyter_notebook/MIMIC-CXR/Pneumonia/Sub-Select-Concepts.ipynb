{
 "cells": [
  {
   "cell_type": "code",
   "execution_count": 1,
   "metadata": {},
   "outputs": [
    {
     "data": {
      "application/javascript": [
       "\n",
       "            setTimeout(function() {\n",
       "                var nbb_cell_id = 1;\n",
       "                var nbb_unformatted_code = \"%load_ext nb_black\\n\\nimport os\\nimport sys\\n\\nsys.path.append(\\n    os.path.abspath(\\\"/ocean/projects/asc170022p/shg121/PhD/ICLR-2022/codebase\\\")\\n)\\nimport torch.backends.cudnn as cudnn\\nimport random\\nfrom datetime import datetime\\nimport time\\nfrom collections import OrderedDict\\nimport pickle\\nimport numpy as np\\nimport pandas as pd\\nimport torch\\nimport torch.nn.functional as F\\nfrom torch.utils.data import DataLoader\\nfrom tqdm import tqdm\\nfrom torch.nn.functional import one_hot\\nimport utils\\n\\nfrom Explainer.loss_F import loss_fn_kd, entropy_loss\\nfrom Explainer.models.Gated_Logic_Net import Gated_Logic_Net\\nfrom Explainer.models.explainer import Explainer\\nfrom Explainer.models.pi import Pi\\nfrom dataset.dataset_cubs import Dataset_cub_for_explainer\\nfrom dataset.utils_dataset import get_dataset_with_image_and_attributes\\nfrom Explainer.loss_F import loss_fn_kd, entropy_loss, Selective_Distillation_Loss\\nfrom Explainer.models.concepts import Conceptizator\\nimport jupyter_notebook.stats_t as stats\\nimport matplotlib.pyplot as plt\\nimport warnings\\nimport sklearn.metrics as metrics\\n\\n# from ipython_utils import cal_acc, show_results\\nfrom ipywidgets import interact, interactive, fixed, interact_manual\\nfrom scipy.stats import percentileofscore\\nfrom sklearn.metrics import roc_auc_score, accuracy_score\\n\\nwarnings.filterwarnings(\\\"ignore\\\")\";\n",
       "                var nbb_formatted_code = \"%load_ext nb_black\\n\\nimport os\\nimport sys\\n\\nsys.path.append(\\n    os.path.abspath(\\\"/ocean/projects/asc170022p/shg121/PhD/ICLR-2022/codebase\\\")\\n)\\nimport torch.backends.cudnn as cudnn\\nimport random\\nfrom datetime import datetime\\nimport time\\nfrom collections import OrderedDict\\nimport pickle\\nimport numpy as np\\nimport pandas as pd\\nimport torch\\nimport torch.nn.functional as F\\nfrom torch.utils.data import DataLoader\\nfrom tqdm import tqdm\\nfrom torch.nn.functional import one_hot\\nimport utils\\n\\nfrom Explainer.loss_F import loss_fn_kd, entropy_loss\\nfrom Explainer.models.Gated_Logic_Net import Gated_Logic_Net\\nfrom Explainer.models.explainer import Explainer\\nfrom Explainer.models.pi import Pi\\nfrom dataset.dataset_cubs import Dataset_cub_for_explainer\\nfrom dataset.utils_dataset import get_dataset_with_image_and_attributes\\nfrom Explainer.loss_F import loss_fn_kd, entropy_loss, Selective_Distillation_Loss\\nfrom Explainer.models.concepts import Conceptizator\\nimport jupyter_notebook.stats_t as stats\\nimport matplotlib.pyplot as plt\\nimport warnings\\nimport sklearn.metrics as metrics\\n\\n# from ipython_utils import cal_acc, show_results\\nfrom ipywidgets import interact, interactive, fixed, interact_manual\\nfrom scipy.stats import percentileofscore\\nfrom sklearn.metrics import roc_auc_score, accuracy_score\\n\\nwarnings.filterwarnings(\\\"ignore\\\")\";\n",
       "                var nbb_cells = Jupyter.notebook.get_cells();\n",
       "                for (var i = 0; i < nbb_cells.length; ++i) {\n",
       "                    if (nbb_cells[i].input_prompt_number == nbb_cell_id) {\n",
       "                        if (nbb_cells[i].get_text() == nbb_unformatted_code) {\n",
       "                             nbb_cells[i].set_text(nbb_formatted_code);\n",
       "                        }\n",
       "                        break;\n",
       "                    }\n",
       "                }\n",
       "            }, 500);\n",
       "            "
      ],
      "text/plain": [
       "<IPython.core.display.Javascript object>"
      ]
     },
     "metadata": {},
     "output_type": "display_data"
    }
   ],
   "source": [
    "%load_ext nb_black\n",
    "\n",
    "import os\n",
    "import sys\n",
    "\n",
    "sys.path.append(\n",
    "    os.path.abspath(\"/ocean/projects/asc170022p/shg121/PhD/ICLR-2022/codebase\")\n",
    ")\n",
    "import torch.backends.cudnn as cudnn\n",
    "import random\n",
    "from datetime import datetime\n",
    "import time\n",
    "from collections import OrderedDict\n",
    "import pickle\n",
    "import numpy as np\n",
    "import pandas as pd\n",
    "import torch\n",
    "import torch.nn.functional as F\n",
    "from torch.utils.data import DataLoader\n",
    "from tqdm import tqdm\n",
    "from torch.nn.functional import one_hot\n",
    "import utils\n",
    "\n",
    "from Explainer.loss_F import loss_fn_kd, entropy_loss\n",
    "from Explainer.models.Gated_Logic_Net import Gated_Logic_Net\n",
    "from Explainer.models.explainer import Explainer\n",
    "from Explainer.models.pi import Pi\n",
    "from dataset.dataset_cubs import Dataset_cub_for_explainer\n",
    "from dataset.utils_dataset import get_dataset_with_image_and_attributes\n",
    "from Explainer.loss_F import loss_fn_kd, entropy_loss, Selective_Distillation_Loss\n",
    "from Explainer.models.concepts import Conceptizator\n",
    "import jupyter_notebook.stats_t as stats\n",
    "import matplotlib.pyplot as plt\n",
    "import warnings\n",
    "import sklearn.metrics as metrics\n",
    "\n",
    "# from ipython_utils import cal_acc, show_results\n",
    "from ipywidgets import interact, interactive, fixed, interact_manual\n",
    "from scipy.stats import percentileofscore\n",
    "from sklearn.metrics import roc_auc_score, accuracy_score\n",
    "\n",
    "warnings.filterwarnings(\"ignore\")"
   ]
  },
  {
   "cell_type": "code",
   "execution_count": 2,
   "metadata": {},
   "outputs": [
    {
     "name": "stdout",
     "output_type": "stream",
     "text": [
      "torch.Size([24072, 107]) torch.Size([24072, 107]) torch.Size([24072, 107]) torch.Size([48144]) torch.Size([24072, 1])\n",
      "\n",
      "torch.Size([187548, 107]) torch.Size([187548, 107]) torch.Size([187548, 107]) torch.Size([375096]) torch.Size([187548, 1])\n",
      "\n",
      "torch.Size([23449, 107]) torch.Size([23449, 107]) torch.Size([23449, 107]) torch.Size([46898]) torch.Size([23449, 1])\n"
     ]
    },
    {
     "data": {
      "application/javascript": [
       "\n",
       "            setTimeout(function() {\n",
       "                var nbb_cell_id = 2;\n",
       "                var nbb_unformatted_code = \"disease = \\\"pneumonia\\\"\\npath = f\\\"/ocean/projects/asc170022p/shg121/PhD/ICLR-2022/out/mimic_cxr/t/lr_0.01_epochs_60_loss_BCE_W_flattening_type_flatten_layer_features_denseblock4/densenet121/{disease}\\\"\\ntest_attr = torch.load(os.path.join(path, \\\"dataset_g\\\", \\\"test_attributes.pt\\\"))\\ntest_proba_concept = torch.load(os.path.join(path, \\\"dataset_g\\\", \\\"test_proba_concepts.pt\\\"))\\ntest_logits_concept = torch.load(os.path.join(path, \\\"dataset_g\\\", \\\"test_logits_concepts.pt\\\"))\\ntest_logits_bb = torch.load(os.path.join(path, \\\"dataset_g\\\", \\\"test_logits_bb.pt\\\"))\\ntest_class_labels = torch.load(os.path.join(path, \\\"dataset_g\\\", \\\"test_class_labels.pt\\\"))\\n\\ntrain_attr = torch.load(os.path.join(path, \\\"dataset_g\\\", \\\"train_attributes.pt\\\"))\\ntrain_proba_concept = torch.load(os.path.join(path, \\\"dataset_g\\\", \\\"train_proba_concepts.pt\\\"))\\ntrain_logits_concept = torch.load(os.path.join(path, \\\"dataset_g\\\", \\\"train_logits_concepts.pt\\\"))\\ntrain_logits_bb = torch.load(os.path.join(path, \\\"dataset_g\\\", \\\"train_logits_bb.pt\\\"))\\ntrain_class_labels = torch.load(os.path.join(path, \\\"dataset_g\\\", \\\"train_class_labels.pt\\\"))\\n\\nval_attr = torch.load(os.path.join(path, \\\"dataset_g\\\", \\\"val_attributes.pt\\\"))\\nval_proba_concept = torch.load(os.path.join(path, \\\"dataset_g\\\", \\\"val_proba_concepts.pt\\\"))\\nval_logits_concept = torch.load(os.path.join(path, \\\"dataset_g\\\", \\\"val_logits_concepts.pt\\\"))\\nval_logits_bb = torch.load(os.path.join(path, \\\"dataset_g\\\", \\\"val_logits_bb.pt\\\"))\\nval_class_labels = torch.load(os.path.join(path, \\\"dataset_g\\\", \\\"val_class_labels.pt\\\"))\\n\\nprint(\\n    test_attr.size(), test_proba_concept.size(), test_logits_concept.size(),\\n    test_logits_bb.size(), test_class_labels.size()\\n)\\nprint()\\nprint(\\n    train_attr.size(), train_proba_concept.size(), train_logits_concept.size(),\\n    train_logits_bb.size(), train_class_labels.size()\\n)\\nprint()\\nprint(\\n    val_attr.size(), val_proba_concept.size(), val_logits_concept.size(),\\n    val_logits_bb.size(), val_class_labels.size()\\n)\\n\\nwith open(os.path.join(path, \\\"MIMIC_test_configs.pkl\\\"), \\\"rb\\\") as input_file:\\n    args = pickle.load(input_file)\\n\\nconcepts = args.landmark_names_spec + args.abnorm_obs_concepts\";\n",
       "                var nbb_formatted_code = \"disease = \\\"pneumonia\\\"\\npath = f\\\"/ocean/projects/asc170022p/shg121/PhD/ICLR-2022/out/mimic_cxr/t/lr_0.01_epochs_60_loss_BCE_W_flattening_type_flatten_layer_features_denseblock4/densenet121/{disease}\\\"\\ntest_attr = torch.load(os.path.join(path, \\\"dataset_g\\\", \\\"test_attributes.pt\\\"))\\ntest_proba_concept = torch.load(\\n    os.path.join(path, \\\"dataset_g\\\", \\\"test_proba_concepts.pt\\\")\\n)\\ntest_logits_concept = torch.load(\\n    os.path.join(path, \\\"dataset_g\\\", \\\"test_logits_concepts.pt\\\")\\n)\\ntest_logits_bb = torch.load(os.path.join(path, \\\"dataset_g\\\", \\\"test_logits_bb.pt\\\"))\\ntest_class_labels = torch.load(os.path.join(path, \\\"dataset_g\\\", \\\"test_class_labels.pt\\\"))\\n\\ntrain_attr = torch.load(os.path.join(path, \\\"dataset_g\\\", \\\"train_attributes.pt\\\"))\\ntrain_proba_concept = torch.load(\\n    os.path.join(path, \\\"dataset_g\\\", \\\"train_proba_concepts.pt\\\")\\n)\\ntrain_logits_concept = torch.load(\\n    os.path.join(path, \\\"dataset_g\\\", \\\"train_logits_concepts.pt\\\")\\n)\\ntrain_logits_bb = torch.load(os.path.join(path, \\\"dataset_g\\\", \\\"train_logits_bb.pt\\\"))\\ntrain_class_labels = torch.load(\\n    os.path.join(path, \\\"dataset_g\\\", \\\"train_class_labels.pt\\\")\\n)\\n\\nval_attr = torch.load(os.path.join(path, \\\"dataset_g\\\", \\\"val_attributes.pt\\\"))\\nval_proba_concept = torch.load(os.path.join(path, \\\"dataset_g\\\", \\\"val_proba_concepts.pt\\\"))\\nval_logits_concept = torch.load(\\n    os.path.join(path, \\\"dataset_g\\\", \\\"val_logits_concepts.pt\\\")\\n)\\nval_logits_bb = torch.load(os.path.join(path, \\\"dataset_g\\\", \\\"val_logits_bb.pt\\\"))\\nval_class_labels = torch.load(os.path.join(path, \\\"dataset_g\\\", \\\"val_class_labels.pt\\\"))\\n\\nprint(\\n    test_attr.size(),\\n    test_proba_concept.size(),\\n    test_logits_concept.size(),\\n    test_logits_bb.size(),\\n    test_class_labels.size(),\\n)\\nprint()\\nprint(\\n    train_attr.size(),\\n    train_proba_concept.size(),\\n    train_logits_concept.size(),\\n    train_logits_bb.size(),\\n    train_class_labels.size(),\\n)\\nprint()\\nprint(\\n    val_attr.size(),\\n    val_proba_concept.size(),\\n    val_logits_concept.size(),\\n    val_logits_bb.size(),\\n    val_class_labels.size(),\\n)\\n\\nwith open(os.path.join(path, \\\"MIMIC_test_configs.pkl\\\"), \\\"rb\\\") as input_file:\\n    args = pickle.load(input_file)\\n\\nconcepts = args.landmark_names_spec + args.abnorm_obs_concepts\";\n",
       "                var nbb_cells = Jupyter.notebook.get_cells();\n",
       "                for (var i = 0; i < nbb_cells.length; ++i) {\n",
       "                    if (nbb_cells[i].input_prompt_number == nbb_cell_id) {\n",
       "                        if (nbb_cells[i].get_text() == nbb_unformatted_code) {\n",
       "                             nbb_cells[i].set_text(nbb_formatted_code);\n",
       "                        }\n",
       "                        break;\n",
       "                    }\n",
       "                }\n",
       "            }, 500);\n",
       "            "
      ],
      "text/plain": [
       "<IPython.core.display.Javascript object>"
      ]
     },
     "metadata": {},
     "output_type": "display_data"
    }
   ],
   "source": [
    "disease = \"pneumonia\"\n",
    "path = f\"/ocean/projects/asc170022p/shg121/PhD/ICLR-2022/out/mimic_cxr/t/lr_0.01_epochs_60_loss_BCE_W_flattening_type_flatten_layer_features_denseblock4/densenet121/{disease}\"\n",
    "test_attr = torch.load(os.path.join(path, \"dataset_g\", \"test_attributes.pt\"))\n",
    "test_proba_concept = torch.load(os.path.join(path, \"dataset_g\", \"test_proba_concepts.pt\"))\n",
    "test_logits_concept = torch.load(os.path.join(path, \"dataset_g\", \"test_logits_concepts.pt\"))\n",
    "test_logits_bb = torch.load(os.path.join(path, \"dataset_g\", \"test_logits_bb.pt\"))\n",
    "test_class_labels = torch.load(os.path.join(path, \"dataset_g\", \"test_class_labels.pt\"))\n",
    "\n",
    "train_attr = torch.load(os.path.join(path, \"dataset_g\", \"train_attributes.pt\"))\n",
    "train_proba_concept = torch.load(os.path.join(path, \"dataset_g\", \"train_proba_concepts.pt\"))\n",
    "train_logits_concept = torch.load(os.path.join(path, \"dataset_g\", \"train_logits_concepts.pt\"))\n",
    "train_logits_bb = torch.load(os.path.join(path, \"dataset_g\", \"train_logits_bb.pt\"))\n",
    "train_class_labels = torch.load(os.path.join(path, \"dataset_g\", \"train_class_labels.pt\"))\n",
    "\n",
    "val_attr = torch.load(os.path.join(path, \"dataset_g\", \"val_attributes.pt\"))\n",
    "val_proba_concept = torch.load(os.path.join(path, \"dataset_g\", \"val_proba_concepts.pt\"))\n",
    "val_logits_concept = torch.load(os.path.join(path, \"dataset_g\", \"val_logits_concepts.pt\"))\n",
    "val_logits_bb = torch.load(os.path.join(path, \"dataset_g\", \"val_logits_bb.pt\"))\n",
    "val_class_labels = torch.load(os.path.join(path, \"dataset_g\", \"val_class_labels.pt\"))\n",
    "\n",
    "print(\n",
    "    test_attr.size(), test_proba_concept.size(), test_logits_concept.size(),\n",
    "    test_logits_bb.size(), test_class_labels.size()\n",
    ")\n",
    "print()\n",
    "print(\n",
    "    train_attr.size(), train_proba_concept.size(), train_logits_concept.size(),\n",
    "    train_logits_bb.size(), train_class_labels.size()\n",
    ")\n",
    "print()\n",
    "print(\n",
    "    val_attr.size(), val_proba_concept.size(), val_logits_concept.size(),\n",
    "    val_logits_bb.size(), val_class_labels.size()\n",
    ")\n",
    "\n",
    "with open(os.path.join(path, \"MIMIC_test_configs.pkl\"), \"rb\") as input_file:\n",
    "    args = pickle.load(input_file)\n",
    "\n",
    "concepts = args.landmark_names_spec + args.abnorm_obs_concepts\n"
   ]
  },
  {
   "cell_type": "code",
   "execution_count": null,
   "metadata": {},
   "outputs": [],
   "source": []
  },
  {
   "cell_type": "code",
   "execution_count": 8,
   "metadata": {},
   "outputs": [
    {
     "name": "stdout",
     "output_type": "stream",
     "text": [
      "left_hilar(1), auroc: 0.7168489777872639, recall: 0.4818181818181818\n",
      "right_hilar(2), auroc: 0.7016499235415614, recall: 0.43727598566308246\n",
      "hilar_unspec(3), auroc: 0.7404369941926842, recall: 0.4804560260586319\n",
      "left_pleural(4), auroc: 0.8113331363550131, recall: 0.6753554502369669\n",
      "right_pleural(5), auroc: 0.844205517828665, recall: 0.7074527252502781\n",
      "pleural_unspec(6), auroc: 0.8021465042509425, recall: 0.7409826753763136\n",
      "heart_size(7), auroc: 0.7330779741424278, recall: 0.6182795698924731\n",
      "left_diaphragm(9), auroc: 0.7497197141272534, recall: 0.42891566265060244\n",
      "right_diaphragm(10), auroc: 0.811617653920448, recall: 0.6407185628742516\n",
      "diaphragm_unspec(11), auroc: 0.720052901126311, recall: 0.5164835164835165\n",
      "retrocardiac(12), auroc: 0.7435754212670047, recall: 0.6032811334824758\n",
      "lower_left_lobe(13), auroc: 0.7214500942402027, recall: 0.45985401459854014\n",
      "upper_left_lobe(14), auroc: 0.7034597422248304, recall: 0.4365079365079365\n",
      "lower_right_lobe(15), auroc: 0.7131875016475984, recall: 0.5357142857142857\n",
      "middle_right_lobe(16), auroc: 0.7547278839575325, recall: 0.47058823529411764\n",
      "upper_right_lobe(17), auroc: 0.7915476879003847, recall: 0.5609243697478992\n",
      "left_lower_lung(18), auroc: 0.6594926634460418, recall: 0.4710941232680363\n",
      "left_upper_lung(20), auroc: 0.6781897311242826, recall: 0.30303030303030304\n",
      "left_apical_lung(21), auroc: 0.7205513818484921, recall: 0.45806451612903226\n",
      "left_lung_unspec(22), auroc: 0.7153444538761373, recall: 0.48660084626234135\n",
      "right_lower_lung(23), auroc: 0.7282568226309636, recall: 0.6278493557978196\n",
      "right_mid_lung(24), auroc: 0.6754379607908847, recall: 0.385\n",
      "right_upper_lung(25), auroc: 0.7448256108033409, recall: 0.4161073825503356\n",
      "right_apical_lung(26), auroc: 0.7464564909028578, recall: 0.46882217090069284\n",
      "right_lung_unspec(27), auroc: 0.729793100043109, recall: 0.6335797254487856\n",
      "lung_apices(28), auroc: 0.7131969315116946, recall: 0.373015873015873\n",
      "lung_bases(29), auroc: 0.7378418572253368, recall: 0.6446495529276031\n",
      "left_costophrenic(30), auroc: 0.68008038964865, recall: 0.30275229357798167\n",
      "right_costophrenic(31), auroc: 0.6686958210093569, recall: 0.3277777777777778\n",
      "costophrenic_unspec(32), auroc: 0.6600738691407705, recall: 0.41203703703703703\n",
      "mediastinal(34), auroc: 0.7222368824755424, recall: 0.5858453473132372\n",
      "spine(35), auroc: 0.7384547758425273, recall: 0.5900195694716243\n",
      "rib(36), auroc: 0.6713160657289852, recall: 0.40987654320987654\n",
      "right_atrium(37), auroc: 0.8267833508555253, recall: 0.6205882352941177\n",
      "right_ventricle(38), auroc: 0.936259828487493, recall: 0.7911392405063291\n",
      "aorta(39), auroc: 0.7955910423614364, recall: 0.6187643020594966\n",
      "svc(40), auroc: 0.7303602283216661, recall: 0.6020916334661355\n",
      "interstitium(41), auroc: 0.8029944471238892, recall: 0.6417445482866043\n",
      "parenchymal(42), auroc: 0.8195217183327357, recall: 0.6640316205533597\n",
      "cavoatrial_junction(43), auroc: 0.702354519895892, recall: 0.4785276073619632\n",
      "stomach(44), auroc: 0.813767297143956, recall: 0.6484848484848484\n",
      "effusion(46), auroc: 0.8635510018991165, recall: 0.7949847509318875\n",
      "opacity(47), auroc: 0.7107516337048889, recall: 0.5943900267141585\n",
      "edema(48), auroc: 0.8608821261426214, recall: 0.8023097826086957\n",
      "atelectasis(49), auroc: 0.7340838040299458, recall: 0.7061781609195402\n",
      "tube(50), auroc: 0.9038568654184669, recall: 0.8648409893992933\n",
      "consolidation(51), auroc: 0.7808488451385203, recall: 0.6492969396195203\n",
      "process(52), auroc: 0.7604361579303581, recall: 0.5\n",
      "abnormality(53), auroc: 0.7519375220596644, recall: 0.48028673835125446\n",
      "enlarge(54), auroc: 0.7478887107699188, recall: 0.6532801961986512\n",
      "tip(55), auroc: 0.757700169767225, recall: 0.5877610846463907\n",
      "low(56), auroc: 0.8528706656600937, recall: 0.7667774086378738\n",
      "line(57), auroc: 0.7917621843892271, recall: 0.7495805369127517\n",
      "congestion(58), auroc: 0.7833546255922975, recall: 0.6535714285714286\n",
      "catheter(59), auroc: 0.7661761226765442, recall: 0.6489459211732356\n",
      "cardiomegaly(60), auroc: 0.79618905657248, recall: 0.7249275362318841\n",
      "fracture(61), auroc: 0.6639619848824523, recall: 0.3921302578018996\n",
      "air(62), auroc: 0.7579329027520251, recall: 0.5117370892018779\n",
      "tortuous(63), auroc: 0.8233230704365669, recall: 0.5887445887445888\n",
      "lead(64), auroc: 0.9215698079153684, recall: 0.7561374795417348\n",
      "disease(65), auroc: 0.7652635329217863, recall: 0.50920245398773\n",
      "calcification(66), auroc: 0.7676835348261741, recall: 0.6283643892339544\n",
      "device(68), auroc: 0.8407163368645196, recall: 0.6399383191981496\n",
      "engorgement(69), auroc: 0.755915407809292, recall: 0.502970297029703\n",
      "picc(70), auroc: 0.6870395786078533, recall: 0.40237691001697795\n",
      "clip(71), auroc: 0.7335782268551265, recall: 0.49261083743842365\n",
      "elevation(72), auroc: 0.7326706357766568, recall: 0.4637096774193548\n",
      "nodule(73), auroc: 0.71831680853196, recall: 0.4409221902017291\n",
      "wire(74), auroc: 0.9001413405573045, recall: 0.7216931216931217\n",
      "fluid(75), auroc: 0.7227664484757058, recall: 0.5083207261724659\n",
      "degenerative(76), auroc: 0.7779118863943784, recall: 0.6272855133614628\n",
      "pacemaker(77), auroc: 0.9455310296854421, recall: 0.8026172300981461\n",
      "thicken(78), auroc: 0.7217979165542182, recall: 0.5335051546391752\n",
      "marking(79), auroc: 0.7485506440624203, recall: 0.5101626016260162\n",
      "scar(80), auroc: 0.7766165553728483, recall: 0.5361552028218695\n",
      "blunt(81), auroc: 0.6764187646310915, recall: 0.43884892086330934\n",
      "loss(82), auroc: 0.6944121709556672, recall: 0.504424778761062\n",
      "widen(83), auroc: 0.7591577728198488, recall: 0.5821256038647343\n",
      "collapse(84), auroc: 0.8351800901118649, recall: 0.6816901408450704\n",
      "emphysema(86), auroc: 0.8299940409684256, recall: 0.58311345646438\n",
      "aerate(87), auroc: 0.6556327706653536, recall: 0.3409090909090909\n",
      "mass(88), auroc: 0.7941370993404303, recall: 0.5517241379310345\n",
      "crowd(89), auroc: 0.8181891645264772, recall: 0.6466666666666666\n",
      "infiltrate(90), auroc: 0.7527202255677874, recall: 0.4369747899159664\n",
      "obscure(91), auroc: 0.7089903076380523, recall: 0.4678030303030303\n",
      "deformity(92), auroc: 0.7563892371433206, recall: 0.5028901734104047\n",
      "hernia(93), auroc: 0.7927594790112338, recall: 0.45614035087719296\n",
      "drainage(94), auroc: 0.7463781531783292, recall: 0.4444444444444444\n",
      "distention(95), auroc: 0.778989537706887, recall: 0.45662100456621\n",
      "shift(96), auroc: 0.8653868485064418, recall: 0.6995708154506438\n",
      "pressure(98), auroc: 0.764192595080178, recall: 0.544\n",
      "lesion(99), auroc: 0.6842893835616438, recall: 0.4296875\n",
      "hardware(102), auroc: 0.6509579927280229, recall: 0.3317307692307692\n",
      "chf(104), auroc: 0.7839076357459983, recall: 0.5463917525773195\n",
      "redistribution(105), auroc: 0.6993995148234581, recall: 0.4660633484162896\n",
      "aspiration(106), auroc: 0.7311334763916266, recall: 0.32786885245901637\n",
      "96\n"
     ]
    },
    {
     "data": {
      "text/plain": [
       "(0.7591573778251801, 0.5514740411925244)"
      ]
     },
     "execution_count": 8,
     "metadata": {},
     "output_type": "execute_result"
    },
    {
     "data": {
      "application/javascript": [
       "\n",
       "            setTimeout(function() {\n",
       "                var nbb_cell_id = 8;\n",
       "                var nbb_unformatted_code = \"data_GT = test_attr.cpu().numpy()\\ndata_PRED = test_proba_concept.cpu().numpy()\\ny_pred = np.where(data_PRED > 0.5, 1, 0)\\nsub_auroc = []\\nsub_recall = []\\nall_auroc = []\\ncnt = 0\\nfor i in range(len(concepts)):\\n    auroc_val = metrics.roc_auc_score(data_GT[:, i], data_PRED[:, i])\\n    recall_val = metrics.recall_score(data_GT[:, i], y_pred[:, i])\\n    all_auroc.append(auroc_val)\\n    if auroc_val >= 0.65:\\n        print(f\\\"{concepts[i]}({i}), auroc: {auroc_val}, recall: {recall_val}\\\")\\n        sub_auroc.append(auroc_val)\\n        sub_recall.append(recall_val)\\n        cnt += 1\\n\\nprint(cnt)\\nnp.mean(np.array(sub_auroc)), np.mean(np.array(sub_recall))\";\n",
       "                var nbb_formatted_code = \"data_GT = test_attr.cpu().numpy()\\ndata_PRED = test_proba_concept.cpu().numpy()\\ny_pred = np.where(data_PRED > 0.5, 1, 0)\\nsub_auroc = []\\nsub_recall = []\\nall_auroc = []\\ncnt = 0\\nfor i in range(len(concepts)):\\n    auroc_val = metrics.roc_auc_score(data_GT[:, i], data_PRED[:, i])\\n    recall_val = metrics.recall_score(data_GT[:, i], y_pred[:, i])\\n    all_auroc.append(auroc_val)\\n    if auroc_val >= 0.65:\\n        print(f\\\"{concepts[i]}({i}), auroc: {auroc_val}, recall: {recall_val}\\\")\\n        sub_auroc.append(auroc_val)\\n        sub_recall.append(recall_val)\\n        cnt += 1\\n\\nprint(cnt)\\nnp.mean(np.array(sub_auroc)), np.mean(np.array(sub_recall))\";\n",
       "                var nbb_cells = Jupyter.notebook.get_cells();\n",
       "                for (var i = 0; i < nbb_cells.length; ++i) {\n",
       "                    if (nbb_cells[i].input_prompt_number == nbb_cell_id) {\n",
       "                        if (nbb_cells[i].get_text() == nbb_unformatted_code) {\n",
       "                             nbb_cells[i].set_text(nbb_formatted_code);\n",
       "                        }\n",
       "                        break;\n",
       "                    }\n",
       "                }\n",
       "            }, 500);\n",
       "            "
      ],
      "text/plain": [
       "<IPython.core.display.Javascript object>"
      ]
     },
     "metadata": {},
     "output_type": "display_data"
    }
   ],
   "source": [
    "data_GT = test_attr.cpu().numpy()\n",
    "data_PRED = test_proba_concept.cpu().numpy()\n",
    "y_pred = np.where(data_PRED > 0.5, 1, 0)\n",
    "sub_auroc = []\n",
    "sub_recall = []\n",
    "all_auroc = []\n",
    "cnt = 0\n",
    "for i in range(len(concepts)):\n",
    "    auroc_val = metrics.roc_auc_score(data_GT[:, i], data_PRED[:, i])\n",
    "    recall_val = metrics.recall_score(data_GT[:, i], y_pred[:, i])\n",
    "    all_auroc.append(auroc_val)\n",
    "    if auroc_val >= 0.65:\n",
    "        print(f\"{concepts[i]}({i}), auroc: {auroc_val}, recall: {recall_val}\")\n",
    "        sub_auroc.append(auroc_val)\n",
    "        sub_recall.append(recall_val)\n",
    "        cnt += 1\n",
    "\n",
    "print(cnt)\n",
    "np.mean(np.array(sub_auroc)), np.mean(np.array(sub_recall))"
   ]
  },
  {
   "cell_type": "code",
   "execution_count": 9,
   "metadata": {},
   "outputs": [
    {
     "data": {
      "text/plain": [
       "(tensor(96), torch.Size([107]))"
      ]
     },
     "execution_count": 9,
     "metadata": {},
     "output_type": "execute_result"
    },
    {
     "data": {
      "application/javascript": [
       "\n",
       "            setTimeout(function() {\n",
       "                var nbb_cell_id = 9;\n",
       "                var nbb_unformatted_code = \"mask_select = np.array(all_auroc) >= 0.65\\n\\ntorch_mask = torch.from_numpy(mask_select)\\ntorch_mask.sum(), torch_mask.size()\";\n",
       "                var nbb_formatted_code = \"mask_select = np.array(all_auroc) >= 0.65\\n\\ntorch_mask = torch.from_numpy(mask_select)\\ntorch_mask.sum(), torch_mask.size()\";\n",
       "                var nbb_cells = Jupyter.notebook.get_cells();\n",
       "                for (var i = 0; i < nbb_cells.length; ++i) {\n",
       "                    if (nbb_cells[i].input_prompt_number == nbb_cell_id) {\n",
       "                        if (nbb_cells[i].get_text() == nbb_unformatted_code) {\n",
       "                             nbb_cells[i].set_text(nbb_formatted_code);\n",
       "                        }\n",
       "                        break;\n",
       "                    }\n",
       "                }\n",
       "            }, 500);\n",
       "            "
      ],
      "text/plain": [
       "<IPython.core.display.Javascript object>"
      ]
     },
     "metadata": {},
     "output_type": "display_data"
    }
   ],
   "source": [
    "mask_select = np.array(all_auroc) >= 0.65\n",
    "\n",
    "torch_mask = torch.from_numpy(mask_select)\n",
    "torch_mask.sum(), torch_mask.size()"
   ]
  },
  {
   "cell_type": "code",
   "execution_count": 4,
   "metadata": {},
   "outputs": [
    {
     "name": "stdout",
     "output_type": "stream",
     "text": [
      "trachea(0), auroc: 0.6338102541684264, recall: 0.3137254901960784\n",
      "heart_border(8), auroc: 0.6262221862511925, recall: 0.20207253886010362\n",
      "left_lower_lung(18), auroc: 0.6594926634460418, recall: 0.4710941232680363\n",
      "left_mid_lung(19), auroc: 0.6422545512530895, recall: 0.30456852791878175\n",
      "left_upper_lung(20), auroc: 0.6781897311242826, recall: 0.30303030303030304\n",
      "right_mid_lung(24), auroc: 0.6754379607908847, recall: 0.385\n",
      "left_costophrenic(30), auroc: 0.68008038964865, recall: 0.30275229357798167\n",
      "right_costophrenic(31), auroc: 0.6686958210093569, recall: 0.3277777777777778\n",
      "costophrenic_unspec(32), auroc: 0.6600738691407705, recall: 0.41203703703703703\n",
      "cardiophrenic_sulcus(33), auroc: 0.6065578851816592, recall: 0.10638297872340426\n",
      "rib(36), auroc: 0.6713160657289852, recall: 0.40987654320987654\n",
      "clavicle(45), auroc: 0.5720441572658321, recall: 0.2653061224489796\n",
      "fracture(61), auroc: 0.6639619848824523, recall: 0.3921302578018996\n",
      "prominence(67), auroc: 0.642757862322522, recall: 0.4745762711864407\n",
      "picc(70), auroc: 0.6870395786078533, recall: 0.40237691001697795\n",
      "blunt(81), auroc: 0.6764187646310915, recall: 0.43884892086330934\n",
      "loss(82), auroc: 0.6944121709556672, recall: 0.504424778761062\n",
      "density(85), auroc: 0.5640683648388835, recall: 0.2973621103117506\n",
      "aerate(87), auroc: 0.6556327706653536, recall: 0.3409090909090909\n",
      "stent(97), auroc: 0.6024746407565418, recall: 0.22448979591836735\n",
      "lesion(99), auroc: 0.6842893835616438, recall: 0.4296875\n",
      "finding(100), auroc: 0.5774276591156375, recall: 0.19117647058823528\n",
      "borderline(101), auroc: 0.6432180437373636, recall: 0.39932885906040266\n",
      "hardware(102), auroc: 0.6509579927280229, recall: 0.3317307692307692\n",
      "dilation(103), auroc: 0.6496348902266006, recall: 0.3082191780821918\n",
      "redistribution(105), auroc: 0.6993995148234581, recall: 0.4660633484162896\n",
      "26\n"
     ]
    },
    {
     "data": {
      "text/plain": [
       "(0.7591573778251801, 0.5514740411925244)"
      ]
     },
     "execution_count": 4,
     "metadata": {},
     "output_type": "execute_result"
    },
    {
     "data": {
      "application/javascript": [
       "\n",
       "            setTimeout(function() {\n",
       "                var nbb_cell_id = 4;\n",
       "                var nbb_unformatted_code = \"data_GT = test_attr.cpu().numpy()\\ndata_PRED = test_proba_concept.cpu().numpy()\\ny_pred = np.where(data_PRED > 0.5, 1, 0)\\nbad_auroc = []\\nbad_recall = []\\ncnt = 0\\nfor i in range(len(concepts)):\\n    auroc_val = metrics.roc_auc_score(data_GT[:, i], data_PRED[:, i])\\n    recall_val = metrics.recall_score(data_GT[:, i], y_pred[:, i])\\n    if auroc_val <= 0.7:\\n        print(f\\\"{concepts[i]}({i}), auroc: {auroc_val}, recall: {recall_val}\\\")\\n        cnt += 1\\n        bad_auroc.append(auroc_val)\\n        bad_recall.append(recall_val)\\n\\nprint(cnt)\\nnp.mean(np.array(sub_auroc)), np.mean(np.array(sub_recall))\";\n",
       "                var nbb_formatted_code = \"data_GT = test_attr.cpu().numpy()\\ndata_PRED = test_proba_concept.cpu().numpy()\\ny_pred = np.where(data_PRED > 0.5, 1, 0)\\nbad_auroc = []\\nbad_recall = []\\ncnt = 0\\nfor i in range(len(concepts)):\\n    auroc_val = metrics.roc_auc_score(data_GT[:, i], data_PRED[:, i])\\n    recall_val = metrics.recall_score(data_GT[:, i], y_pred[:, i])\\n    if auroc_val <= 0.7:\\n        print(f\\\"{concepts[i]}({i}), auroc: {auroc_val}, recall: {recall_val}\\\")\\n        cnt += 1\\n        bad_auroc.append(auroc_val)\\n        bad_recall.append(recall_val)\\n\\nprint(cnt)\\nnp.mean(np.array(sub_auroc)), np.mean(np.array(sub_recall))\";\n",
       "                var nbb_cells = Jupyter.notebook.get_cells();\n",
       "                for (var i = 0; i < nbb_cells.length; ++i) {\n",
       "                    if (nbb_cells[i].input_prompt_number == nbb_cell_id) {\n",
       "                        if (nbb_cells[i].get_text() == nbb_unformatted_code) {\n",
       "                             nbb_cells[i].set_text(nbb_formatted_code);\n",
       "                        }\n",
       "                        break;\n",
       "                    }\n",
       "                }\n",
       "            }, 500);\n",
       "            "
      ],
      "text/plain": [
       "<IPython.core.display.Javascript object>"
      ]
     },
     "metadata": {},
     "output_type": "display_data"
    }
   ],
   "source": [
    "data_GT = test_attr.cpu().numpy()\n",
    "data_PRED = test_proba_concept.cpu().numpy()\n",
    "y_pred = np.where(data_PRED > 0.5, 1, 0)\n",
    "bad_auroc = []\n",
    "bad_recall = []\n",
    "cnt = 0\n",
    "for i in range(len(concepts)):\n",
    "    auroc_val = metrics.roc_auc_score(data_GT[:, i], data_PRED[:, i])\n",
    "    recall_val = metrics.recall_score(data_GT[:, i], y_pred[:, i])\n",
    "    if auroc_val <= 0.7:\n",
    "        print(f\"{concepts[i]}({i}), auroc: {auroc_val}, recall: {recall_val}\")\n",
    "        cnt += 1\n",
    "        bad_auroc.append(auroc_val)\n",
    "        bad_recall.append(recall_val)\n",
    "\n",
    "print(cnt)\n",
    "np.mean(np.array(sub_auroc)), np.mean(np.array(sub_recall))"
   ]
  },
  {
   "cell_type": "code",
   "execution_count": 5,
   "metadata": {},
   "outputs": [
    {
     "name": "stdout",
     "output_type": "stream",
     "text": [
      "107\n"
     ]
    },
    {
     "data": {
      "text/plain": [
       "(0.7442951286573369, 0.5236328625960476)"
      ]
     },
     "execution_count": 5,
     "metadata": {},
     "output_type": "execute_result"
    },
    {
     "data": {
      "application/javascript": [
       "\n",
       "            setTimeout(function() {\n",
       "                var nbb_cell_id = 5;\n",
       "                var nbb_unformatted_code = \"data_GT = test_attr.cpu().numpy()\\ndata_PRED = test_proba_concept.cpu().numpy()\\ny_pred = np.where(data_PRED > 0.5, 1, 0)\\nauroc = []\\nrecall = []\\nfor i in range(len(concepts)):\\n    try:\\n        auroc.append(metrics.roc_auc_score(data_GT[:, i], data_PRED[:, i]))\\n        recall.append(metrics.recall_score(data_GT[:, i], y_pred[:, i]))\\n    except ValueError:\\n        pass\\n\\nprint(len(auroc))\\n\\nmean_auroc = np.mean(np.array(auroc))\\nmean_recall = np.mean(np.array(recall))\\nmean_auroc, mean_recall\";\n",
       "                var nbb_formatted_code = \"data_GT = test_attr.cpu().numpy()\\ndata_PRED = test_proba_concept.cpu().numpy()\\ny_pred = np.where(data_PRED > 0.5, 1, 0)\\nauroc = []\\nrecall = []\\nfor i in range(len(concepts)):\\n    try:\\n        auroc.append(metrics.roc_auc_score(data_GT[:, i], data_PRED[:, i]))\\n        recall.append(metrics.recall_score(data_GT[:, i], y_pred[:, i]))\\n    except ValueError:\\n        pass\\n\\nprint(len(auroc))\\n\\nmean_auroc = np.mean(np.array(auroc))\\nmean_recall = np.mean(np.array(recall))\\nmean_auroc, mean_recall\";\n",
       "                var nbb_cells = Jupyter.notebook.get_cells();\n",
       "                for (var i = 0; i < nbb_cells.length; ++i) {\n",
       "                    if (nbb_cells[i].input_prompt_number == nbb_cell_id) {\n",
       "                        if (nbb_cells[i].get_text() == nbb_unformatted_code) {\n",
       "                             nbb_cells[i].set_text(nbb_formatted_code);\n",
       "                        }\n",
       "                        break;\n",
       "                    }\n",
       "                }\n",
       "            }, 500);\n",
       "            "
      ],
      "text/plain": [
       "<IPython.core.display.Javascript object>"
      ]
     },
     "metadata": {},
     "output_type": "display_data"
    }
   ],
   "source": [
    "data_GT = test_attr.cpu().numpy()\n",
    "data_PRED = test_proba_concept.cpu().numpy()\n",
    "y_pred = np.where(data_PRED > 0.5, 1, 0)\n",
    "auroc = []\n",
    "recall = []\n",
    "for i in range(len(concepts)):\n",
    "    try:\n",
    "        auroc.append(metrics.roc_auc_score(data_GT[:, i], data_PRED[:, i]))\n",
    "        recall.append(metrics.recall_score(data_GT[:, i], y_pred[:, i]))\n",
    "    except ValueError:\n",
    "        pass\n",
    "\n",
    "print(len(auroc))\n",
    "\n",
    "mean_auroc = np.mean(np.array(auroc))\n",
    "mean_recall = np.mean(np.array(recall))\n",
    "mean_auroc, mean_recall"
   ]
  },
  {
   "cell_type": "code",
   "execution_count": null,
   "metadata": {},
   "outputs": [],
   "source": []
  },
  {
   "cell_type": "code",
   "execution_count": 10,
   "metadata": {},
   "outputs": [
    {
     "name": "stdout",
     "output_type": "stream",
     "text": [
      "Test sizes: \n",
      "torch.Size([24072, 96])\n",
      "torch.Size([24072, 96])\n",
      "torch.Size([24072, 96])\n",
      "Val sizes: \n",
      "torch.Size([23449, 96])\n",
      "torch.Size([23449, 96])\n",
      "torch.Size([23449, 96])\n",
      "Train sizes: \n",
      "torch.Size([187548, 96])\n",
      "torch.Size([187548, 96])\n",
      "torch.Size([187548, 96])\n",
      "96\n"
     ]
    },
    {
     "data": {
      "application/javascript": [
       "\n",
       "            setTimeout(function() {\n",
       "                var nbb_cell_id = 10;\n",
       "                var nbb_unformatted_code = \"cnt = 0\\nth = 0.65\\nconcept_select = []\\n\\ntest_select_attr = []\\ntest_select_proba_concept = []\\ntest_select_logits_concept = []\\n\\n\\nval_select_attr = []\\nval_select_proba_concept = []\\nval_select_logits_concept = []\\n\\n\\ntrain_select_attr = []\\ntrain_select_proba_concept = []\\ntrain_select_logits_concept = []\\n\\n\\ntest_select_proba_concept = []\\nfor i in range(len(concepts)):\\n    if auroc[i] >= th:\\n        test_select_attr.append(test_attr[:, i])\\n        test_select_proba_concept.append(test_proba_concept[:, i])\\n        test_select_logits_concept.append(test_logits_concept[:, i])\\n\\n        val_select_attr.append(val_attr[:, i])\\n        val_select_proba_concept.append(val_proba_concept[:, i])\\n        val_select_logits_concept.append(val_logits_concept[:, i])\\n\\n        train_select_attr.append(train_attr[:, i])\\n        train_select_proba_concept.append(train_proba_concept[:, i])\\n        train_select_logits_concept.append(train_logits_concept[:, i])\\n\\n        concept_select.append(concepts[i])\\n        cnt += 1\\n\\ntest_select_attr = torch.stack(test_select_attr, dim=1)\\ntest_select_proba_concept = torch.stack(test_select_proba_concept, dim=1)\\ntest_select_logits_concept = torch.stack(test_select_logits_concept, dim=1)\\nval_select_attr = torch.stack(val_select_attr, dim=1)\\nval_select_proba_concept = torch.stack(val_select_proba_concept, dim=1)\\nval_select_logits_concept = torch.stack(val_select_logits_concept, dim=1)\\ntrain_select_attr = torch.stack(train_select_attr, dim=1)\\ntrain_select_proba_concept = torch.stack(train_select_proba_concept, dim=1)\\ntrain_select_logits_concept = torch.stack(train_select_logits_concept, dim=1)\\n\\n\\nprint(\\\"Test sizes: \\\")\\nprint(test_select_attr.size())\\nprint(test_select_proba_concept.size())\\nprint(test_select_logits_concept.size())\\nprint(\\\"Val sizes: \\\")\\nprint(val_select_attr.size())\\nprint(val_select_proba_concept.size())\\nprint(val_select_logits_concept.size())\\nprint(\\\"Train sizes: \\\")\\nprint(train_select_attr.size())\\nprint(train_select_proba_concept.size())\\nprint(train_select_logits_concept.size())\\nprint(cnt)\";\n",
       "                var nbb_formatted_code = \"cnt = 0\\nth = 0.65\\nconcept_select = []\\n\\ntest_select_attr = []\\ntest_select_proba_concept = []\\ntest_select_logits_concept = []\\n\\n\\nval_select_attr = []\\nval_select_proba_concept = []\\nval_select_logits_concept = []\\n\\n\\ntrain_select_attr = []\\ntrain_select_proba_concept = []\\ntrain_select_logits_concept = []\\n\\n\\ntest_select_proba_concept = []\\nfor i in range(len(concepts)):\\n    if auroc[i] >= th:\\n        test_select_attr.append(test_attr[:, i])\\n        test_select_proba_concept.append(test_proba_concept[:, i])\\n        test_select_logits_concept.append(test_logits_concept[:, i])\\n\\n        val_select_attr.append(val_attr[:, i])\\n        val_select_proba_concept.append(val_proba_concept[:, i])\\n        val_select_logits_concept.append(val_logits_concept[:, i])\\n\\n        train_select_attr.append(train_attr[:, i])\\n        train_select_proba_concept.append(train_proba_concept[:, i])\\n        train_select_logits_concept.append(train_logits_concept[:, i])\\n\\n        concept_select.append(concepts[i])\\n        cnt += 1\\n\\ntest_select_attr = torch.stack(test_select_attr, dim=1)\\ntest_select_proba_concept = torch.stack(test_select_proba_concept, dim=1)\\ntest_select_logits_concept = torch.stack(test_select_logits_concept, dim=1)\\nval_select_attr = torch.stack(val_select_attr, dim=1)\\nval_select_proba_concept = torch.stack(val_select_proba_concept, dim=1)\\nval_select_logits_concept = torch.stack(val_select_logits_concept, dim=1)\\ntrain_select_attr = torch.stack(train_select_attr, dim=1)\\ntrain_select_proba_concept = torch.stack(train_select_proba_concept, dim=1)\\ntrain_select_logits_concept = torch.stack(train_select_logits_concept, dim=1)\\n\\n\\nprint(\\\"Test sizes: \\\")\\nprint(test_select_attr.size())\\nprint(test_select_proba_concept.size())\\nprint(test_select_logits_concept.size())\\nprint(\\\"Val sizes: \\\")\\nprint(val_select_attr.size())\\nprint(val_select_proba_concept.size())\\nprint(val_select_logits_concept.size())\\nprint(\\\"Train sizes: \\\")\\nprint(train_select_attr.size())\\nprint(train_select_proba_concept.size())\\nprint(train_select_logits_concept.size())\\nprint(cnt)\";\n",
       "                var nbb_cells = Jupyter.notebook.get_cells();\n",
       "                for (var i = 0; i < nbb_cells.length; ++i) {\n",
       "                    if (nbb_cells[i].input_prompt_number == nbb_cell_id) {\n",
       "                        if (nbb_cells[i].get_text() == nbb_unformatted_code) {\n",
       "                             nbb_cells[i].set_text(nbb_formatted_code);\n",
       "                        }\n",
       "                        break;\n",
       "                    }\n",
       "                }\n",
       "            }, 500);\n",
       "            "
      ],
      "text/plain": [
       "<IPython.core.display.Javascript object>"
      ]
     },
     "metadata": {},
     "output_type": "display_data"
    }
   ],
   "source": [
    "cnt = 0\n",
    "th = 0.65\n",
    "concept_select = []\n",
    "\n",
    "test_select_attr = []\n",
    "test_select_proba_concept = []\n",
    "test_select_logits_concept = []\n",
    "\n",
    "\n",
    "val_select_attr = []\n",
    "val_select_proba_concept = []\n",
    "val_select_logits_concept = []\n",
    "\n",
    "\n",
    "train_select_attr = []\n",
    "train_select_proba_concept = []\n",
    "train_select_logits_concept = []\n",
    "\n",
    "\n",
    "test_select_proba_concept = []\n",
    "for i in range(len(concepts)):\n",
    "    if auroc[i] >= th:\n",
    "        test_select_attr.append(test_attr[:, i])\n",
    "        test_select_proba_concept.append(test_proba_concept[:, i])\n",
    "        test_select_logits_concept.append(test_logits_concept[:, i])\n",
    "\n",
    "        val_select_attr.append(val_attr[:, i])\n",
    "        val_select_proba_concept.append(val_proba_concept[:, i])\n",
    "        val_select_logits_concept.append(val_logits_concept[:, i])\n",
    "\n",
    "        train_select_attr.append(train_attr[:, i])\n",
    "        train_select_proba_concept.append(train_proba_concept[:, i])\n",
    "        train_select_logits_concept.append(train_logits_concept[:, i])\n",
    "\n",
    "        concept_select.append(concepts[i])\n",
    "        cnt += 1\n",
    "\n",
    "test_select_attr = torch.stack(test_select_attr, dim=1)\n",
    "test_select_proba_concept = torch.stack(test_select_proba_concept, dim=1)\n",
    "test_select_logits_concept = torch.stack(test_select_logits_concept, dim=1)\n",
    "val_select_attr = torch.stack(val_select_attr, dim=1)\n",
    "val_select_proba_concept = torch.stack(val_select_proba_concept, dim=1)\n",
    "val_select_logits_concept = torch.stack(val_select_logits_concept, dim=1)\n",
    "train_select_attr = torch.stack(train_select_attr, dim=1)\n",
    "train_select_proba_concept = torch.stack(train_select_proba_concept, dim=1)\n",
    "train_select_logits_concept = torch.stack(train_select_logits_concept, dim=1)\n",
    "\n",
    "\n",
    "print(\"Test sizes: \")\n",
    "print(test_select_attr.size())\n",
    "print(test_select_proba_concept.size())\n",
    "print(test_select_logits_concept.size())\n",
    "print(\"Val sizes: \")\n",
    "print(val_select_attr.size())\n",
    "print(val_select_proba_concept.size())\n",
    "print(val_select_logits_concept.size())\n",
    "print(\"Train sizes: \")\n",
    "print(train_select_attr.size())\n",
    "print(train_select_proba_concept.size())\n",
    "print(train_select_logits_concept.size())\n",
    "print(cnt)"
   ]
  },
  {
   "cell_type": "code",
   "execution_count": 12,
   "metadata": {},
   "outputs": [
    {
     "name": "stdout",
     "output_type": "stream",
     "text": [
      "/ocean/projects/asc170022p/shg121/PhD/ICLR-2022/out/mimic_cxr/t/lr_0.01_epochs_60_loss_BCE_W_flattening_type_flatten_layer_features_denseblock4/densenet121/pneumonia/dataset_g\n"
     ]
    },
    {
     "data": {
      "application/javascript": [
       "\n",
       "            setTimeout(function() {\n",
       "                var nbb_cell_id = 12;\n",
       "                var nbb_unformatted_code = \"metric = \\\"auroc\\\"\\nutils.save_tensor(\\n    path=os.path.join(path, \\\"dataset_g\\\", f\\\"torch_concepts_mask_{metric}.pt\\\"),\\n    tensor_to_save=torch_mask,\\n)\\n\\nutils.save_tensor(\\n    path=os.path.join(path, \\\"dataset_g\\\", f\\\"test_select_{metric}_attributes.pt\\\"),\\n    tensor_to_save=test_select_attr,\\n)\\nutils.save_tensor(\\n    path=os.path.join(path, \\\"dataset_g\\\", f\\\"test_select_proba_{metric}_concepts.pt\\\"),\\n    tensor_to_save=test_select_proba_concept,\\n)\\nutils.save_tensor(\\n    path=os.path.join(path, \\\"dataset_g\\\", f\\\"test_select_logits_{metric}_concepts.pt\\\"),\\n    tensor_to_save=test_select_logits_concept,\\n)\\n\\nutils.save_tensor(\\n    path=os.path.join(path, \\\"dataset_g\\\", f\\\"val_select_{metric}_attributes.pt\\\"),\\n    tensor_to_save=val_select_attr,\\n)\\nutils.save_tensor(\\n    path=os.path.join(path, \\\"dataset_g\\\", f\\\"val_select_proba_{metric}_concepts.pt\\\"),\\n    tensor_to_save=val_select_proba_concept,\\n)\\nutils.save_tensor(\\n    path=os.path.join(path, \\\"dataset_g\\\", f\\\"val_select_logits_{metric}_concepts.pt\\\"),\\n    tensor_to_save=val_select_logits_concept,\\n)\\n\\nutils.save_tensor(\\n    path=os.path.join(path, \\\"dataset_g\\\", f\\\"train_select_{metric}_attributes.pt\\\"),\\n    tensor_to_save=train_select_attr,\\n)\\nutils.save_tensor(\\n    path=os.path.join(path, \\\"dataset_g\\\", f\\\"train_select_proba_{metric}_concepts.pt\\\"),\\n    tensor_to_save=train_select_proba_concept,\\n)\\nutils.save_tensor(\\n    path=os.path.join(path, \\\"dataset_g\\\", f\\\"train_select_logits_{metric}_concepts.pt\\\"),\\n    tensor_to_save=train_select_logits_concept,\\n)\\n\\npickle.dump(\\n    concept_select,\\n    open(os.path.join(path, \\\"dataset_g\\\", f\\\"selected_concepts_{metric}.pkl\\\"), \\\"wb\\\"),\\n)\\nprint(os.path.join(path, \\\"dataset_g\\\"))\";\n",
       "                var nbb_formatted_code = \"metric = \\\"auroc\\\"\\nutils.save_tensor(\\n    path=os.path.join(path, \\\"dataset_g\\\", f\\\"torch_concepts_mask_{metric}.pt\\\"),\\n    tensor_to_save=torch_mask,\\n)\\n\\nutils.save_tensor(\\n    path=os.path.join(path, \\\"dataset_g\\\", f\\\"test_select_{metric}_attributes.pt\\\"),\\n    tensor_to_save=test_select_attr,\\n)\\nutils.save_tensor(\\n    path=os.path.join(path, \\\"dataset_g\\\", f\\\"test_select_proba_{metric}_concepts.pt\\\"),\\n    tensor_to_save=test_select_proba_concept,\\n)\\nutils.save_tensor(\\n    path=os.path.join(path, \\\"dataset_g\\\", f\\\"test_select_logits_{metric}_concepts.pt\\\"),\\n    tensor_to_save=test_select_logits_concept,\\n)\\n\\nutils.save_tensor(\\n    path=os.path.join(path, \\\"dataset_g\\\", f\\\"val_select_{metric}_attributes.pt\\\"),\\n    tensor_to_save=val_select_attr,\\n)\\nutils.save_tensor(\\n    path=os.path.join(path, \\\"dataset_g\\\", f\\\"val_select_proba_{metric}_concepts.pt\\\"),\\n    tensor_to_save=val_select_proba_concept,\\n)\\nutils.save_tensor(\\n    path=os.path.join(path, \\\"dataset_g\\\", f\\\"val_select_logits_{metric}_concepts.pt\\\"),\\n    tensor_to_save=val_select_logits_concept,\\n)\\n\\nutils.save_tensor(\\n    path=os.path.join(path, \\\"dataset_g\\\", f\\\"train_select_{metric}_attributes.pt\\\"),\\n    tensor_to_save=train_select_attr,\\n)\\nutils.save_tensor(\\n    path=os.path.join(path, \\\"dataset_g\\\", f\\\"train_select_proba_{metric}_concepts.pt\\\"),\\n    tensor_to_save=train_select_proba_concept,\\n)\\nutils.save_tensor(\\n    path=os.path.join(path, \\\"dataset_g\\\", f\\\"train_select_logits_{metric}_concepts.pt\\\"),\\n    tensor_to_save=train_select_logits_concept,\\n)\\n\\npickle.dump(\\n    concept_select,\\n    open(os.path.join(path, \\\"dataset_g\\\", f\\\"selected_concepts_{metric}.pkl\\\"), \\\"wb\\\"),\\n)\\nprint(os.path.join(path, \\\"dataset_g\\\"))\";\n",
       "                var nbb_cells = Jupyter.notebook.get_cells();\n",
       "                for (var i = 0; i < nbb_cells.length; ++i) {\n",
       "                    if (nbb_cells[i].input_prompt_number == nbb_cell_id) {\n",
       "                        if (nbb_cells[i].get_text() == nbb_unformatted_code) {\n",
       "                             nbb_cells[i].set_text(nbb_formatted_code);\n",
       "                        }\n",
       "                        break;\n",
       "                    }\n",
       "                }\n",
       "            }, 500);\n",
       "            "
      ],
      "text/plain": [
       "<IPython.core.display.Javascript object>"
      ]
     },
     "metadata": {},
     "output_type": "display_data"
    }
   ],
   "source": [
    "metric = \"auroc\"\n",
    "utils.save_tensor(\n",
    "    path=os.path.join(path, \"dataset_g\", f\"torch_concepts_mask_{metric}.pt\"),\n",
    "    tensor_to_save=torch_mask,\n",
    ")\n",
    "\n",
    "utils.save_tensor(\n",
    "    path=os.path.join(path, \"dataset_g\", f\"test_select_{metric}_attributes.pt\"),\n",
    "    tensor_to_save=test_select_attr,\n",
    ")\n",
    "utils.save_tensor(\n",
    "    path=os.path.join(path, \"dataset_g\", f\"test_select_proba_{metric}_concepts.pt\"),\n",
    "    tensor_to_save=test_select_proba_concept,\n",
    ")\n",
    "utils.save_tensor(\n",
    "    path=os.path.join(path, \"dataset_g\", f\"test_select_logits_{metric}_concepts.pt\"),\n",
    "    tensor_to_save=test_select_logits_concept,\n",
    ")\n",
    "\n",
    "utils.save_tensor(\n",
    "    path=os.path.join(path, \"dataset_g\", f\"val_select_{metric}_attributes.pt\"),\n",
    "    tensor_to_save=val_select_attr,\n",
    ")\n",
    "utils.save_tensor(\n",
    "    path=os.path.join(path, \"dataset_g\", f\"val_select_proba_{metric}_concepts.pt\"),\n",
    "    tensor_to_save=val_select_proba_concept,\n",
    ")\n",
    "utils.save_tensor(\n",
    "    path=os.path.join(path, \"dataset_g\", f\"val_select_logits_{metric}_concepts.pt\"),\n",
    "    tensor_to_save=val_select_logits_concept,\n",
    ")\n",
    "\n",
    "utils.save_tensor(\n",
    "    path=os.path.join(path, \"dataset_g\", f\"train_select_{metric}_attributes.pt\"),\n",
    "    tensor_to_save=train_select_attr,\n",
    ")\n",
    "utils.save_tensor(\n",
    "    path=os.path.join(path, \"dataset_g\", f\"train_select_proba_{metric}_concepts.pt\"),\n",
    "    tensor_to_save=train_select_proba_concept,\n",
    ")\n",
    "utils.save_tensor(\n",
    "    path=os.path.join(path, \"dataset_g\", f\"train_select_logits_{metric}_concepts.pt\"),\n",
    "    tensor_to_save=train_select_logits_concept,\n",
    ")\n",
    "\n",
    "pickle.dump(\n",
    "    concept_select,\n",
    "    open(os.path.join(path, \"dataset_g\", f\"selected_concepts_{metric}.pkl\"), \"wb\"),\n",
    ")\n",
    "print(os.path.join(path, \"dataset_g\"))"
   ]
  },
  {
   "cell_type": "code",
   "execution_count": 13,
   "metadata": {},
   "outputs": [
    {
     "data": {
      "text/plain": [
       "['left_hilar',\n",
       " 'right_hilar',\n",
       " 'hilar_unspec',\n",
       " 'left_pleural',\n",
       " 'right_pleural',\n",
       " 'pleural_unspec',\n",
       " 'heart_size',\n",
       " 'left_diaphragm',\n",
       " 'right_diaphragm',\n",
       " 'diaphragm_unspec',\n",
       " 'retrocardiac',\n",
       " 'lower_left_lobe',\n",
       " 'upper_left_lobe',\n",
       " 'lower_right_lobe',\n",
       " 'middle_right_lobe',\n",
       " 'upper_right_lobe',\n",
       " 'left_lower_lung',\n",
       " 'left_upper_lung',\n",
       " 'left_apical_lung',\n",
       " 'left_lung_unspec',\n",
       " 'right_lower_lung',\n",
       " 'right_mid_lung',\n",
       " 'right_upper_lung',\n",
       " 'right_apical_lung',\n",
       " 'right_lung_unspec',\n",
       " 'lung_apices',\n",
       " 'lung_bases',\n",
       " 'left_costophrenic',\n",
       " 'right_costophrenic',\n",
       " 'costophrenic_unspec',\n",
       " 'mediastinal',\n",
       " 'spine',\n",
       " 'rib',\n",
       " 'right_atrium',\n",
       " 'right_ventricle',\n",
       " 'aorta',\n",
       " 'svc',\n",
       " 'interstitium',\n",
       " 'parenchymal',\n",
       " 'cavoatrial_junction',\n",
       " 'stomach',\n",
       " 'effusion',\n",
       " 'opacity',\n",
       " 'edema',\n",
       " 'atelectasis',\n",
       " 'tube',\n",
       " 'consolidation',\n",
       " 'process',\n",
       " 'abnormality',\n",
       " 'enlarge',\n",
       " 'tip',\n",
       " 'low',\n",
       " 'line',\n",
       " 'congestion',\n",
       " 'catheter',\n",
       " 'cardiomegaly',\n",
       " 'fracture',\n",
       " 'air',\n",
       " 'tortuous',\n",
       " 'lead',\n",
       " 'disease',\n",
       " 'calcification',\n",
       " 'device',\n",
       " 'engorgement',\n",
       " 'picc',\n",
       " 'clip',\n",
       " 'elevation',\n",
       " 'nodule',\n",
       " 'wire',\n",
       " 'fluid',\n",
       " 'degenerative',\n",
       " 'pacemaker',\n",
       " 'thicken',\n",
       " 'marking',\n",
       " 'scar',\n",
       " 'blunt',\n",
       " 'loss',\n",
       " 'widen',\n",
       " 'collapse',\n",
       " 'emphysema',\n",
       " 'aerate',\n",
       " 'mass',\n",
       " 'crowd',\n",
       " 'infiltrate',\n",
       " 'obscure',\n",
       " 'deformity',\n",
       " 'hernia',\n",
       " 'drainage',\n",
       " 'distention',\n",
       " 'shift',\n",
       " 'pressure',\n",
       " 'lesion',\n",
       " 'hardware',\n",
       " 'chf',\n",
       " 'redistribution',\n",
       " 'aspiration']"
      ]
     },
     "execution_count": 13,
     "metadata": {},
     "output_type": "execute_result"
    },
    {
     "data": {
      "application/javascript": [
       "\n",
       "            setTimeout(function() {\n",
       "                var nbb_cell_id = 13;\n",
       "                var nbb_unformatted_code = \"concept_select\";\n",
       "                var nbb_formatted_code = \"concept_select\";\n",
       "                var nbb_cells = Jupyter.notebook.get_cells();\n",
       "                for (var i = 0; i < nbb_cells.length; ++i) {\n",
       "                    if (nbb_cells[i].input_prompt_number == nbb_cell_id) {\n",
       "                        if (nbb_cells[i].get_text() == nbb_unformatted_code) {\n",
       "                             nbb_cells[i].set_text(nbb_formatted_code);\n",
       "                        }\n",
       "                        break;\n",
       "                    }\n",
       "                }\n",
       "            }, 500);\n",
       "            "
      ],
      "text/plain": [
       "<IPython.core.display.Javascript object>"
      ]
     },
     "metadata": {},
     "output_type": "display_data"
    }
   ],
   "source": [
    "concept_select"
   ]
  },
  {
   "cell_type": "code",
   "execution_count": 14,
   "metadata": {},
   "outputs": [
    {
     "data": {
      "text/plain": [
       "(tensor([6449]), tensor([181099]))"
      ]
     },
     "execution_count": 14,
     "metadata": {},
     "output_type": "execute_result"
    },
    {
     "data": {
      "application/javascript": [
       "\n",
       "            setTimeout(function() {\n",
       "                var nbb_cell_id = 14;\n",
       "                var nbb_unformatted_code = \"y_gt_tr = torch.load(os.path.join(path, \\\"dataset_g\\\", f\\\"train_class_labels.pt\\\"))\\n(y_gt_tr == 1).sum(dim=0), (y_gt_tr == 0).sum(dim=0)\";\n",
       "                var nbb_formatted_code = \"y_gt_tr = torch.load(os.path.join(path, \\\"dataset_g\\\", f\\\"train_class_labels.pt\\\"))\\n(y_gt_tr == 1).sum(dim=0), (y_gt_tr == 0).sum(dim=0)\";\n",
       "                var nbb_cells = Jupyter.notebook.get_cells();\n",
       "                for (var i = 0; i < nbb_cells.length; ++i) {\n",
       "                    if (nbb_cells[i].input_prompt_number == nbb_cell_id) {\n",
       "                        if (nbb_cells[i].get_text() == nbb_unformatted_code) {\n",
       "                             nbb_cells[i].set_text(nbb_formatted_code);\n",
       "                        }\n",
       "                        break;\n",
       "                    }\n",
       "                }\n",
       "            }, 500);\n",
       "            "
      ],
      "text/plain": [
       "<IPython.core.display.Javascript object>"
      ]
     },
     "metadata": {},
     "output_type": "display_data"
    }
   ],
   "source": [
    "y_gt_tr = torch.load(os.path.join(path, \"dataset_g\", f\"train_class_labels.pt\"))\n",
    "(y_gt_tr == 1).sum(dim=0), (y_gt_tr == 0).sum(dim=0)"
   ]
  },
  {
   "cell_type": "code",
   "execution_count": 15,
   "metadata": {},
   "outputs": [
    {
     "data": {
      "text/plain": [
       "0.034385863691568375"
      ]
     },
     "execution_count": 15,
     "metadata": {},
     "output_type": "execute_result"
    },
    {
     "data": {
      "application/javascript": [
       "\n",
       "            setTimeout(function() {\n",
       "                var nbb_cell_id = 15;\n",
       "                var nbb_unformatted_code = \"((y_gt_tr == 1).sum(dim=0) / y_gt_tr.size(0)).item()\";\n",
       "                var nbb_formatted_code = \"((y_gt_tr == 1).sum(dim=0) / y_gt_tr.size(0)).item()\";\n",
       "                var nbb_cells = Jupyter.notebook.get_cells();\n",
       "                for (var i = 0; i < nbb_cells.length; ++i) {\n",
       "                    if (nbb_cells[i].input_prompt_number == nbb_cell_id) {\n",
       "                        if (nbb_cells[i].get_text() == nbb_unformatted_code) {\n",
       "                             nbb_cells[i].set_text(nbb_formatted_code);\n",
       "                        }\n",
       "                        break;\n",
       "                    }\n",
       "                }\n",
       "            }, 500);\n",
       "            "
      ],
      "text/plain": [
       "<IPython.core.display.Javascript object>"
      ]
     },
     "metadata": {},
     "output_type": "display_data"
    }
   ],
   "source": [
    "((y_gt_tr == 1).sum(dim=0) / y_gt_tr.size(0)).item()"
   ]
  }
 ],
 "metadata": {
  "kernelspec": {
   "display_name": "python_3_7",
   "language": "python",
   "name": "python_3_7"
  },
  "language_info": {
   "codemirror_mode": {
    "name": "ipython",
    "version": 3
   },
   "file_extension": ".py",
   "mimetype": "text/x-python",
   "name": "python",
   "nbconvert_exporter": "python",
   "pygments_lexer": "ipython3",
   "version": "3.7.11"
  }
 },
 "nbformat": 4,
 "nbformat_minor": 4
}
