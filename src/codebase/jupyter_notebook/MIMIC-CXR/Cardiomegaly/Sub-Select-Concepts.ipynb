{
 "cells": [
  {
   "cell_type": "code",
   "execution_count": 1,
   "metadata": {},
   "outputs": [
    {
     "data": {
      "application/javascript": [
       "\n",
       "            setTimeout(function() {\n",
       "                var nbb_cell_id = 1;\n",
       "                var nbb_unformatted_code = \"%load_ext nb_black\\n\\nimport os\\nimport sys\\n\\nsys.path.append(\\n    os.path.abspath(\\\"/ocean/projects/asc170022p/shg121/PhD/ICLR-2022/codebase\\\")\\n)\\nimport torch.backends.cudnn as cudnn\\nimport random\\nfrom datetime import datetime\\nimport time\\nfrom collections import OrderedDict\\nimport pickle\\nimport numpy as np\\nimport pandas as pd\\nimport torch\\nimport torch.nn.functional as F\\nfrom torch.utils.data import DataLoader\\nfrom tqdm import tqdm\\nfrom torch.nn.functional import one_hot\\nimport utils\\n\\nfrom Explainer.loss_F import loss_fn_kd, entropy_loss\\nfrom Explainer.models.Gated_Logic_Net import Gated_Logic_Net\\nfrom Explainer.models.explainer import Explainer\\nfrom Explainer.models.pi import Pi\\nfrom dataset.dataset_cubs import Dataset_cub_for_explainer\\nfrom dataset.utils_dataset import get_dataset_with_image_and_attributes\\nfrom Explainer.loss_F import loss_fn_kd, entropy_loss, Selective_Distillation_Loss\\nfrom Explainer.models.concepts import Conceptizator\\nimport jupyter_notebook.stats_t as stats\\nimport matplotlib.pyplot as plt\\nimport warnings\\nimport sklearn.metrics as metrics\\n\\n# from ipython_utils import cal_acc, show_results\\nfrom ipywidgets import interact, interactive, fixed, interact_manual\\nfrom scipy.stats import percentileofscore\\nfrom sklearn.metrics import roc_auc_score, accuracy_score\\n\\nwarnings.filterwarnings(\\\"ignore\\\")\";\n",
       "                var nbb_formatted_code = \"%load_ext nb_black\\n\\nimport os\\nimport sys\\n\\nsys.path.append(\\n    os.path.abspath(\\\"/ocean/projects/asc170022p/shg121/PhD/ICLR-2022/codebase\\\")\\n)\\nimport torch.backends.cudnn as cudnn\\nimport random\\nfrom datetime import datetime\\nimport time\\nfrom collections import OrderedDict\\nimport pickle\\nimport numpy as np\\nimport pandas as pd\\nimport torch\\nimport torch.nn.functional as F\\nfrom torch.utils.data import DataLoader\\nfrom tqdm import tqdm\\nfrom torch.nn.functional import one_hot\\nimport utils\\n\\nfrom Explainer.loss_F import loss_fn_kd, entropy_loss\\nfrom Explainer.models.Gated_Logic_Net import Gated_Logic_Net\\nfrom Explainer.models.explainer import Explainer\\nfrom Explainer.models.pi import Pi\\nfrom dataset.dataset_cubs import Dataset_cub_for_explainer\\nfrom dataset.utils_dataset import get_dataset_with_image_and_attributes\\nfrom Explainer.loss_F import loss_fn_kd, entropy_loss, Selective_Distillation_Loss\\nfrom Explainer.models.concepts import Conceptizator\\nimport jupyter_notebook.stats_t as stats\\nimport matplotlib.pyplot as plt\\nimport warnings\\nimport sklearn.metrics as metrics\\n\\n# from ipython_utils import cal_acc, show_results\\nfrom ipywidgets import interact, interactive, fixed, interact_manual\\nfrom scipy.stats import percentileofscore\\nfrom sklearn.metrics import roc_auc_score, accuracy_score\\n\\nwarnings.filterwarnings(\\\"ignore\\\")\";\n",
       "                var nbb_cells = Jupyter.notebook.get_cells();\n",
       "                for (var i = 0; i < nbb_cells.length; ++i) {\n",
       "                    if (nbb_cells[i].input_prompt_number == nbb_cell_id) {\n",
       "                        if (nbb_cells[i].get_text() == nbb_unformatted_code) {\n",
       "                             nbb_cells[i].set_text(nbb_formatted_code);\n",
       "                        }\n",
       "                        break;\n",
       "                    }\n",
       "                }\n",
       "            }, 500);\n",
       "            "
      ],
      "text/plain": [
       "<IPython.core.display.Javascript object>"
      ]
     },
     "metadata": {},
     "output_type": "display_data"
    }
   ],
   "source": [
    "%load_ext nb_black\n",
    "\n",
    "import os\n",
    "import sys\n",
    "\n",
    "sys.path.append(\n",
    "    os.path.abspath(\"/ocean/projects/asc170022p/shg121/PhD/ICLR-2022/codebase\")\n",
    ")\n",
    "import torch.backends.cudnn as cudnn\n",
    "import random\n",
    "from datetime import datetime\n",
    "import time\n",
    "from collections import OrderedDict\n",
    "import pickle\n",
    "import numpy as np\n",
    "import pandas as pd\n",
    "import torch\n",
    "import torch.nn.functional as F\n",
    "from torch.utils.data import DataLoader\n",
    "from tqdm import tqdm\n",
    "from torch.nn.functional import one_hot\n",
    "import utils\n",
    "\n",
    "from Explainer.loss_F import loss_fn_kd, entropy_loss\n",
    "from Explainer.models.Gated_Logic_Net import Gated_Logic_Net\n",
    "from Explainer.models.explainer import Explainer\n",
    "from Explainer.models.pi import Pi\n",
    "from dataset.dataset_cubs import Dataset_cub_for_explainer\n",
    "from dataset.utils_dataset import get_dataset_with_image_and_attributes\n",
    "from Explainer.loss_F import loss_fn_kd, entropy_loss, Selective_Distillation_Loss\n",
    "from Explainer.models.concepts import Conceptizator\n",
    "import jupyter_notebook.stats_t as stats\n",
    "import matplotlib.pyplot as plt\n",
    "import warnings\n",
    "import sklearn.metrics as metrics\n",
    "\n",
    "# from ipython_utils import cal_acc, show_results\n",
    "from ipywidgets import interact, interactive, fixed, interact_manual\n",
    "from scipy.stats import percentileofscore\n",
    "from sklearn.metrics import roc_auc_score, accuracy_score\n",
    "\n",
    "warnings.filterwarnings(\"ignore\")"
   ]
  },
  {
   "cell_type": "code",
   "execution_count": 2,
   "metadata": {},
   "outputs": [
    {
     "name": "stdout",
     "output_type": "stream",
     "text": [
      "torch.Size([24072, 107]) torch.Size([24072, 107]) torch.Size([24072, 107]) torch.Size([48144]) torch.Size([24072, 1])\n",
      "\n",
      "torch.Size([187548, 107]) torch.Size([187548, 107]) torch.Size([187548, 107]) torch.Size([375096]) torch.Size([187548, 1])\n",
      "\n",
      "torch.Size([23449, 107]) torch.Size([23449, 107]) torch.Size([23449, 107]) torch.Size([46898]) torch.Size([23449, 1])\n"
     ]
    },
    {
     "data": {
      "application/javascript": [
       "\n",
       "            setTimeout(function() {\n",
       "                var nbb_cell_id = 2;\n",
       "                var nbb_unformatted_code = \"disease = \\\"cardiomegaly\\\"\\npath = f\\\"/ocean/projects/asc170022p/shg121/PhD/ICLR-2022/out/mimic_cxr/t/lr_0.01_epochs_60_loss_BCE_W_flattening_type_flatten_layer_features_denseblock4/densenet121/{disease}\\\"\\ntest_attr = torch.load(os.path.join(path, \\\"dataset_g\\\", \\\"test_attributes.pt\\\"))\\ntest_proba_concept = torch.load(os.path.join(path, \\\"dataset_g\\\", \\\"test_proba_concepts.pt\\\"))\\ntest_logits_concept = torch.load(os.path.join(path, \\\"dataset_g\\\", \\\"test_logits_concepts.pt\\\"))\\ntest_logits_bb = torch.load(os.path.join(path, \\\"dataset_g\\\", \\\"test_logits_bb.pt\\\"))\\ntest_class_labels = torch.load(os.path.join(path, \\\"dataset_g\\\", \\\"test_class_labels.pt\\\"))\\n\\ntrain_attr = torch.load(os.path.join(path, \\\"dataset_g\\\", \\\"train_attributes.pt\\\"))\\ntrain_proba_concept = torch.load(os.path.join(path, \\\"dataset_g\\\", \\\"train_proba_concepts.pt\\\"))\\ntrain_logits_concept = torch.load(os.path.join(path, \\\"dataset_g\\\", \\\"train_logits_concepts.pt\\\"))\\ntrain_logits_bb = torch.load(os.path.join(path, \\\"dataset_g\\\", \\\"train_logits_bb.pt\\\"))\\ntrain_class_labels = torch.load(os.path.join(path, \\\"dataset_g\\\", \\\"train_class_labels.pt\\\"))\\n\\nval_attr = torch.load(os.path.join(path, \\\"dataset_g\\\", \\\"val_attributes.pt\\\"))\\nval_proba_concept = torch.load(os.path.join(path, \\\"dataset_g\\\", \\\"val_proba_concepts.pt\\\"))\\nval_logits_concept = torch.load(os.path.join(path, \\\"dataset_g\\\", \\\"val_logits_concepts.pt\\\"))\\nval_logits_bb = torch.load(os.path.join(path, \\\"dataset_g\\\", \\\"val_logits_bb.pt\\\"))\\nval_class_labels = torch.load(os.path.join(path, \\\"dataset_g\\\", \\\"val_class_labels.pt\\\"))\\n\\nprint(\\n    test_attr.size(), test_proba_concept.size(), test_logits_concept.size(),\\n    test_logits_bb.size(), test_class_labels.size()\\n)\\nprint()\\nprint(\\n    train_attr.size(), train_proba_concept.size(), train_logits_concept.size(),\\n    train_logits_bb.size(), train_class_labels.size()\\n)\\nprint()\\nprint(\\n    val_attr.size(), val_proba_concept.size(), val_logits_concept.size(),\\n    val_logits_bb.size(), val_class_labels.size()\\n)\";\n",
       "                var nbb_formatted_code = \"disease = \\\"cardiomegaly\\\"\\npath = f\\\"/ocean/projects/asc170022p/shg121/PhD/ICLR-2022/out/mimic_cxr/t/lr_0.01_epochs_60_loss_BCE_W_flattening_type_flatten_layer_features_denseblock4/densenet121/{disease}\\\"\\ntest_attr = torch.load(os.path.join(path, \\\"dataset_g\\\", \\\"test_attributes.pt\\\"))\\ntest_proba_concept = torch.load(\\n    os.path.join(path, \\\"dataset_g\\\", \\\"test_proba_concepts.pt\\\")\\n)\\ntest_logits_concept = torch.load(\\n    os.path.join(path, \\\"dataset_g\\\", \\\"test_logits_concepts.pt\\\")\\n)\\ntest_logits_bb = torch.load(os.path.join(path, \\\"dataset_g\\\", \\\"test_logits_bb.pt\\\"))\\ntest_class_labels = torch.load(os.path.join(path, \\\"dataset_g\\\", \\\"test_class_labels.pt\\\"))\\n\\ntrain_attr = torch.load(os.path.join(path, \\\"dataset_g\\\", \\\"train_attributes.pt\\\"))\\ntrain_proba_concept = torch.load(\\n    os.path.join(path, \\\"dataset_g\\\", \\\"train_proba_concepts.pt\\\")\\n)\\ntrain_logits_concept = torch.load(\\n    os.path.join(path, \\\"dataset_g\\\", \\\"train_logits_concepts.pt\\\")\\n)\\ntrain_logits_bb = torch.load(os.path.join(path, \\\"dataset_g\\\", \\\"train_logits_bb.pt\\\"))\\ntrain_class_labels = torch.load(\\n    os.path.join(path, \\\"dataset_g\\\", \\\"train_class_labels.pt\\\")\\n)\\n\\nval_attr = torch.load(os.path.join(path, \\\"dataset_g\\\", \\\"val_attributes.pt\\\"))\\nval_proba_concept = torch.load(os.path.join(path, \\\"dataset_g\\\", \\\"val_proba_concepts.pt\\\"))\\nval_logits_concept = torch.load(\\n    os.path.join(path, \\\"dataset_g\\\", \\\"val_logits_concepts.pt\\\")\\n)\\nval_logits_bb = torch.load(os.path.join(path, \\\"dataset_g\\\", \\\"val_logits_bb.pt\\\"))\\nval_class_labels = torch.load(os.path.join(path, \\\"dataset_g\\\", \\\"val_class_labels.pt\\\"))\\n\\nprint(\\n    test_attr.size(),\\n    test_proba_concept.size(),\\n    test_logits_concept.size(),\\n    test_logits_bb.size(),\\n    test_class_labels.size(),\\n)\\nprint()\\nprint(\\n    train_attr.size(),\\n    train_proba_concept.size(),\\n    train_logits_concept.size(),\\n    train_logits_bb.size(),\\n    train_class_labels.size(),\\n)\\nprint()\\nprint(\\n    val_attr.size(),\\n    val_proba_concept.size(),\\n    val_logits_concept.size(),\\n    val_logits_bb.size(),\\n    val_class_labels.size(),\\n)\";\n",
       "                var nbb_cells = Jupyter.notebook.get_cells();\n",
       "                for (var i = 0; i < nbb_cells.length; ++i) {\n",
       "                    if (nbb_cells[i].input_prompt_number == nbb_cell_id) {\n",
       "                        if (nbb_cells[i].get_text() == nbb_unformatted_code) {\n",
       "                             nbb_cells[i].set_text(nbb_formatted_code);\n",
       "                        }\n",
       "                        break;\n",
       "                    }\n",
       "                }\n",
       "            }, 500);\n",
       "            "
      ],
      "text/plain": [
       "<IPython.core.display.Javascript object>"
      ]
     },
     "metadata": {},
     "output_type": "display_data"
    }
   ],
   "source": [
    "disease = \"cardiomegaly\"\n",
    "path = f\"/ocean/projects/asc170022p/shg121/PhD/ICLR-2022/out/mimic_cxr/t/lr_0.01_epochs_60_loss_BCE_W_flattening_type_flatten_layer_features_denseblock4/densenet121/{disease}\"\n",
    "test_attr = torch.load(os.path.join(path, \"dataset_g\", \"test_attributes.pt\"))\n",
    "test_proba_concept = torch.load(os.path.join(path, \"dataset_g\", \"test_proba_concepts.pt\"))\n",
    "test_logits_concept = torch.load(os.path.join(path, \"dataset_g\", \"test_logits_concepts.pt\"))\n",
    "test_logits_bb = torch.load(os.path.join(path, \"dataset_g\", \"test_logits_bb.pt\"))\n",
    "test_class_labels = torch.load(os.path.join(path, \"dataset_g\", \"test_class_labels.pt\"))\n",
    "\n",
    "train_attr = torch.load(os.path.join(path, \"dataset_g\", \"train_attributes.pt\"))\n",
    "train_proba_concept = torch.load(os.path.join(path, \"dataset_g\", \"train_proba_concepts.pt\"))\n",
    "train_logits_concept = torch.load(os.path.join(path, \"dataset_g\", \"train_logits_concepts.pt\"))\n",
    "train_logits_bb = torch.load(os.path.join(path, \"dataset_g\", \"train_logits_bb.pt\"))\n",
    "train_class_labels = torch.load(os.path.join(path, \"dataset_g\", \"train_class_labels.pt\"))\n",
    "\n",
    "val_attr = torch.load(os.path.join(path, \"dataset_g\", \"val_attributes.pt\"))\n",
    "val_proba_concept = torch.load(os.path.join(path, \"dataset_g\", \"val_proba_concepts.pt\"))\n",
    "val_logits_concept = torch.load(os.path.join(path, \"dataset_g\", \"val_logits_concepts.pt\"))\n",
    "val_logits_bb = torch.load(os.path.join(path, \"dataset_g\", \"val_logits_bb.pt\"))\n",
    "val_class_labels = torch.load(os.path.join(path, \"dataset_g\", \"val_class_labels.pt\"))\n",
    "\n",
    "print(\n",
    "    test_attr.size(), test_proba_concept.size(), test_logits_concept.size(),\n",
    "    test_logits_bb.size(), test_class_labels.size()\n",
    ")\n",
    "print()\n",
    "print(\n",
    "    train_attr.size(), train_proba_concept.size(), train_logits_concept.size(),\n",
    "    train_logits_bb.size(), train_class_labels.size()\n",
    ")\n",
    "print()\n",
    "print(\n",
    "    val_attr.size(), val_proba_concept.size(), val_logits_concept.size(),\n",
    "    val_logits_bb.size(), val_class_labels.size()\n",
    ")\n"
   ]
  },
  {
   "cell_type": "code",
   "execution_count": 6,
   "metadata": {},
   "outputs": [
    {
     "name": "stdout",
     "output_type": "stream",
     "text": [
      "cpu\n",
      "cpu\n",
      "cpu\n",
      "cpu\n",
      "cpu\n"
     ]
    },
    {
     "data": {
      "application/javascript": [
       "\n",
       "            setTimeout(function() {\n",
       "                var nbb_cell_id = 6;\n",
       "                var nbb_unformatted_code = \"print(test_attr.device)\\nprint(test_proba_concept.device)\\nprint(test_logits_concept.device)\\nprint(test_logits_bb.device)\\nprint(test_class_labels.device)\";\n",
       "                var nbb_formatted_code = \"print(test_attr.device)\\nprint(test_proba_concept.device)\\nprint(test_logits_concept.device)\\nprint(test_logits_bb.device)\\nprint(test_class_labels.device)\";\n",
       "                var nbb_cells = Jupyter.notebook.get_cells();\n",
       "                for (var i = 0; i < nbb_cells.length; ++i) {\n",
       "                    if (nbb_cells[i].input_prompt_number == nbb_cell_id) {\n",
       "                        if (nbb_cells[i].get_text() == nbb_unformatted_code) {\n",
       "                             nbb_cells[i].set_text(nbb_formatted_code);\n",
       "                        }\n",
       "                        break;\n",
       "                    }\n",
       "                }\n",
       "            }, 500);\n",
       "            "
      ],
      "text/plain": [
       "<IPython.core.display.Javascript object>"
      ]
     },
     "metadata": {},
     "output_type": "display_data"
    }
   ],
   "source": [
    "print(test_attr.device)\n",
    "print(test_proba_concept.device)\n",
    "print(test_logits_concept.device)\n",
    "print(test_logits_bb.device)\n",
    "print(test_class_labels.device)"
   ]
  },
  {
   "cell_type": "code",
   "execution_count": 7,
   "metadata": {},
   "outputs": [
    {
     "data": {
      "application/javascript": [
       "\n",
       "            setTimeout(function() {\n",
       "                var nbb_cell_id = 7;\n",
       "                var nbb_unformatted_code = \"with open(os.path.join(path, \\\"MIMIC_test_configs.pkl\\\"), \\\"rb\\\") as input_file:\\n    args = pickle.load(input_file)\\n\\nconcepts = args.landmark_names_spec + args.abnorm_obs_concepts\";\n",
       "                var nbb_formatted_code = \"with open(os.path.join(path, \\\"MIMIC_test_configs.pkl\\\"), \\\"rb\\\") as input_file:\\n    args = pickle.load(input_file)\\n\\nconcepts = args.landmark_names_spec + args.abnorm_obs_concepts\";\n",
       "                var nbb_cells = Jupyter.notebook.get_cells();\n",
       "                for (var i = 0; i < nbb_cells.length; ++i) {\n",
       "                    if (nbb_cells[i].input_prompt_number == nbb_cell_id) {\n",
       "                        if (nbb_cells[i].get_text() == nbb_unformatted_code) {\n",
       "                             nbb_cells[i].set_text(nbb_formatted_code);\n",
       "                        }\n",
       "                        break;\n",
       "                    }\n",
       "                }\n",
       "            }, 500);\n",
       "            "
      ],
      "text/plain": [
       "<IPython.core.display.Javascript object>"
      ]
     },
     "metadata": {},
     "output_type": "display_data"
    }
   ],
   "source": [
    "with open(os.path.join(path, \"MIMIC_test_configs.pkl\"), \"rb\") as input_file:\n",
    "    args = pickle.load(input_file)\n",
    "\n",
    "concepts = args.landmark_names_spec + args.abnorm_obs_concepts"
   ]
  },
  {
   "cell_type": "code",
   "execution_count": 8,
   "metadata": {},
   "outputs": [
    {
     "data": {
      "text/plain": [
       "60"
      ]
     },
     "execution_count": 8,
     "metadata": {},
     "output_type": "execute_result"
    },
    {
     "data": {
      "application/javascript": [
       "\n",
       "            setTimeout(function() {\n",
       "                var nbb_cell_id = 8;\n",
       "                var nbb_unformatted_code = \"concepts.index(disease)\";\n",
       "                var nbb_formatted_code = \"concepts.index(disease)\";\n",
       "                var nbb_cells = Jupyter.notebook.get_cells();\n",
       "                for (var i = 0; i < nbb_cells.length; ++i) {\n",
       "                    if (nbb_cells[i].input_prompt_number == nbb_cell_id) {\n",
       "                        if (nbb_cells[i].get_text() == nbb_unformatted_code) {\n",
       "                             nbb_cells[i].set_text(nbb_formatted_code);\n",
       "                        }\n",
       "                        break;\n",
       "                    }\n",
       "                }\n",
       "            }, 500);\n",
       "            "
      ],
      "text/plain": [
       "<IPython.core.display.Javascript object>"
      ]
     },
     "metadata": {},
     "output_type": "display_data"
    }
   ],
   "source": [
    "concepts.index(disease)"
   ]
  },
  {
   "cell_type": "code",
   "execution_count": 9,
   "metadata": {},
   "outputs": [
    {
     "name": "stdout",
     "output_type": "stream",
     "text": [
      "107\n"
     ]
    },
    {
     "data": {
      "text/plain": [
       "(0.719555520328648, 0.6094397876977458)"
      ]
     },
     "execution_count": 9,
     "metadata": {},
     "output_type": "execute_result"
    },
    {
     "data": {
      "application/javascript": [
       "\n",
       "            setTimeout(function() {\n",
       "                var nbb_cell_id = 9;\n",
       "                var nbb_unformatted_code = \"data_GT = test_attr.cpu().numpy()\\ndata_PRED = test_proba_concept.cpu().numpy()\\ny_pred = np.where(data_PRED > 0.5, 1, 0)\\nauroc = []\\nrecall = []\\n\\nfor i in range(len(concepts)):\\n    try:\\n        auroc.append(metrics.roc_auc_score(data_GT[:, i], data_PRED[:, i]))\\n        recall.append(metrics.recall_score(data_GT[:, i], y_pred[:, i]))\\n    except ValueError:\\n        pass\\n\\nprint(len(auroc))\\n\\nmean_auroc = np.mean(np.array(auroc))\\nmean_recall = np.mean(np.array(recall))\\nmean_auroc, mean_recall\";\n",
       "                var nbb_formatted_code = \"data_GT = test_attr.cpu().numpy()\\ndata_PRED = test_proba_concept.cpu().numpy()\\ny_pred = np.where(data_PRED > 0.5, 1, 0)\\nauroc = []\\nrecall = []\\n\\nfor i in range(len(concepts)):\\n    try:\\n        auroc.append(metrics.roc_auc_score(data_GT[:, i], data_PRED[:, i]))\\n        recall.append(metrics.recall_score(data_GT[:, i], y_pred[:, i]))\\n    except ValueError:\\n        pass\\n\\nprint(len(auroc))\\n\\nmean_auroc = np.mean(np.array(auroc))\\nmean_recall = np.mean(np.array(recall))\\nmean_auroc, mean_recall\";\n",
       "                var nbb_cells = Jupyter.notebook.get_cells();\n",
       "                for (var i = 0; i < nbb_cells.length; ++i) {\n",
       "                    if (nbb_cells[i].input_prompt_number == nbb_cell_id) {\n",
       "                        if (nbb_cells[i].get_text() == nbb_unformatted_code) {\n",
       "                             nbb_cells[i].set_text(nbb_formatted_code);\n",
       "                        }\n",
       "                        break;\n",
       "                    }\n",
       "                }\n",
       "            }, 500);\n",
       "            "
      ],
      "text/plain": [
       "<IPython.core.display.Javascript object>"
      ]
     },
     "metadata": {},
     "output_type": "display_data"
    }
   ],
   "source": [
    "data_GT = test_attr.cpu().numpy()\n",
    "data_PRED = test_proba_concept.cpu().numpy()\n",
    "y_pred = np.where(data_PRED > 0.5, 1, 0)\n",
    "auroc = []\n",
    "recall = []\n",
    "\n",
    "for i in range(len(concepts)):\n",
    "    try:\n",
    "        auroc.append(metrics.roc_auc_score(data_GT[:, i], data_PRED[:, i]))\n",
    "        recall.append(metrics.recall_score(data_GT[:, i], y_pred[:, i]))\n",
    "    except ValueError:\n",
    "        pass\n",
    "\n",
    "print(len(auroc))\n",
    "\n",
    "mean_auroc = np.mean(np.array(auroc))\n",
    "mean_recall = np.mean(np.array(recall))\n",
    "mean_auroc, mean_recall"
   ]
  },
  {
   "cell_type": "code",
   "execution_count": 10,
   "metadata": {},
   "outputs": [
    {
     "data": {
      "text/plain": [
       "0.719555520328648"
      ]
     },
     "execution_count": 10,
     "metadata": {},
     "output_type": "execute_result"
    },
    {
     "data": {
      "application/javascript": [
       "\n",
       "            setTimeout(function() {\n",
       "                var nbb_cell_id = 10;\n",
       "                var nbb_unformatted_code = \"mean_auroc = np.mean(np.array(auroc))\\nmean_auroc\";\n",
       "                var nbb_formatted_code = \"mean_auroc = np.mean(np.array(auroc))\\nmean_auroc\";\n",
       "                var nbb_cells = Jupyter.notebook.get_cells();\n",
       "                for (var i = 0; i < nbb_cells.length; ++i) {\n",
       "                    if (nbb_cells[i].input_prompt_number == nbb_cell_id) {\n",
       "                        if (nbb_cells[i].get_text() == nbb_unformatted_code) {\n",
       "                             nbb_cells[i].set_text(nbb_formatted_code);\n",
       "                        }\n",
       "                        break;\n",
       "                    }\n",
       "                }\n",
       "            }, 500);\n",
       "            "
      ],
      "text/plain": [
       "<IPython.core.display.Javascript object>"
      ]
     },
     "metadata": {},
     "output_type": "display_data"
    }
   ],
   "source": [
    "mean_auroc = np.mean(np.array(auroc))\n",
    "mean_auroc"
   ]
  },
  {
   "cell_type": "code",
   "execution_count": 11,
   "metadata": {},
   "outputs": [
    {
     "data": {
      "text/plain": [
       "(60, 'cardiomegaly')"
      ]
     },
     "execution_count": 11,
     "metadata": {},
     "output_type": "execute_result"
    },
    {
     "data": {
      "application/javascript": [
       "\n",
       "            setTimeout(function() {\n",
       "                var nbb_cell_id = 11;\n",
       "                var nbb_unformatted_code = \"disease_index = concepts.index(disease)\\nconcepts.index(disease), concepts[concepts.index(disease)]\";\n",
       "                var nbb_formatted_code = \"disease_index = concepts.index(disease)\\nconcepts.index(disease), concepts[concepts.index(disease)]\";\n",
       "                var nbb_cells = Jupyter.notebook.get_cells();\n",
       "                for (var i = 0; i < nbb_cells.length; ++i) {\n",
       "                    if (nbb_cells[i].input_prompt_number == nbb_cell_id) {\n",
       "                        if (nbb_cells[i].get_text() == nbb_unformatted_code) {\n",
       "                             nbb_cells[i].set_text(nbb_formatted_code);\n",
       "                        }\n",
       "                        break;\n",
       "                    }\n",
       "                }\n",
       "            }, 500);\n",
       "            "
      ],
      "text/plain": [
       "<IPython.core.display.Javascript object>"
      ]
     },
     "metadata": {},
     "output_type": "display_data"
    }
   ],
   "source": [
    "disease_index = concepts.index(disease)\n",
    "concepts.index(disease), concepts[concepts.index(disease)]"
   ]
  },
  {
   "cell_type": "code",
   "execution_count": 12,
   "metadata": {},
   "outputs": [
    {
     "name": "stdout",
     "output_type": "stream",
     "text": [
      "hilar_unspec(3), auroc: 0.7111611979327944, recall: 0.6563517915309446\n",
      "left_pleural(4), auroc: 0.8237385888786507, recall: 0.7612559241706162\n",
      "right_pleural(5), auroc: 0.8347063341857299, recall: 0.7708565072302559\n",
      "pleural_unspec(6), auroc: 0.8058717908112611, recall: 0.6637318943481966\n",
      "heart_size(7), auroc: 0.7658428910303774, recall: 0.8036219581211093\n",
      "left_diaphragm(9), auroc: 0.7843479425585844, recall: 0.6795180722891566\n",
      "right_diaphragm(10), auroc: 0.8262234175745069, recall: 0.6107784431137725\n",
      "retrocardiac(12), auroc: 0.7474675033234892, recall: 0.7307979120059657\n",
      "left_apical_lung(21), auroc: 0.705325798034813, recall: 0.5612903225806452\n",
      "left_lung_unspec(22), auroc: 0.7144111147484766, recall: 0.6671368124118476\n",
      "right_apical_lung(26), auroc: 0.700273269395596, recall: 0.5773672055427251\n",
      "right_lung_unspec(27), auroc: 0.7148470929694971, recall: 0.7534318901795143\n",
      "lung_apices(28), auroc: 0.7050514652650215, recall: 0.5634920634920635\n",
      "lung_bases(29), auroc: 0.7178861224704912, recall: 0.67637727141621\n",
      "mediastinal(34), auroc: 0.7210012406265611, recall: 0.6120576671035387\n",
      "spine(35), auroc: 0.703007713173523, recall: 0.6634050880626223\n",
      "right_atrium(37), auroc: 0.8012334432297993, recall: 0.6333333333333333\n",
      "right_ventricle(38), auroc: 0.9289101314425195, recall: 0.8132911392405063\n",
      "aorta(39), auroc: 0.78638001158227, recall: 0.6951945080091533\n",
      "svc(40), auroc: 0.7008315879881488, recall: 0.647410358565737\n",
      "interstitium(41), auroc: 0.7769400069556203, recall: 0.6947040498442367\n",
      "parenchymal(42), auroc: 0.7794474453884289, recall: 0.6936758893280632\n",
      "stomach(44), auroc: 0.7961147409772393, recall: 0.7403263403263404\n",
      "effusion(46), auroc: 0.8650754284761543, recall: 0.7912572009488309\n",
      "edema(48), auroc: 0.8611227820875451, recall: 0.8620923913043478\n",
      "atelectasis(49), auroc: 0.7035122793813453, recall: 0.6797772988505747\n",
      "tube(50), auroc: 0.8921695012901937, recall: 0.855565371024735\n",
      "consolidation(51), auroc: 0.707200081674687, recall: 0.707196029776675\n",
      "process(52), auroc: 0.7000396309794824, recall: 0.5434782608695652\n",
      "enlarge(54), auroc: 0.7829113794451625, recall: 0.7685469037400368\n",
      "tip(55), auroc: 0.7368957913279733, recall: 0.7830707218761451\n",
      "low(56), auroc: 0.8551264562684888, recall: 0.7940199335548173\n",
      "line(57), auroc: 0.7600195260763383, recall: 0.7189597315436241\n",
      "congestion(58), auroc: 0.787253156820244, recall: 0.7\n",
      "catheter(59), auroc: 0.7262914020146564, recall: 0.7786434463794684\n",
      "tortuous(63), auroc: 0.8233361422653215, recall: 0.703030303030303\n",
      "lead(64), auroc: 0.9192929506369557, recall: 0.8330605564648118\n",
      "disease(65), auroc: 0.7162318329105736, recall: 0.5766871165644172\n",
      "calcification(66), auroc: 0.7414179614017601, recall: 0.5445134575569358\n",
      "device(68), auroc: 0.8248630505083503, recall: 0.8373168851195065\n",
      "engorgement(69), auroc: 0.748922452817268, recall: 0.699009900990099\n",
      "elevation(72), auroc: 0.7342888916084045, recall: 0.6599462365591398\n",
      "wire(74), auroc: 0.7899301144382651, recall: 0.7238095238095238\n",
      "degenerative(76), auroc: 0.737551424107076, recall: 0.7215189873417721\n",
      "pacemaker(77), auroc: 0.9302581554725669, recall: 0.8157033805888768\n",
      "scar(80), auroc: 0.7212212719197049, recall: 0.4497354497354497\n",
      "widen(83), auroc: 0.7646728563184805, recall: 0.6521739130434783\n",
      "collapse(84), auroc: 0.8178750370418317, recall: 0.7295774647887324\n",
      "emphysema(86), auroc: 0.7760799505815763, recall: 0.6965699208443272\n",
      "mass(88), auroc: 0.7501429248148576, recall: 0.7543103448275862\n",
      "crowd(89), auroc: 0.8093467483231263, recall: 0.6733333333333333\n",
      "infiltrate(90), auroc: 0.7068194121050082, recall: 0.6470588235294118\n",
      "obscure(91), auroc: 0.7286604417003881, recall: 0.6268939393939394\n",
      "deformity(92), auroc: 0.7221903338646074, recall: 0.6763005780346821\n",
      "hernia(93), auroc: 0.7621073895525595, recall: 0.4780701754385965\n",
      "drainage(94), auroc: 0.7219821630399682, recall: 0.5879629629629629\n",
      "distention(95), auroc: 0.7699590547659972, recall: 0.680365296803653\n",
      "shift(96), auroc: 0.861615123052768, recall: 0.6909871244635193\n",
      "pressure(98), auroc: 0.762784820753925, recall: 0.68\n",
      "chf(104), auroc: 0.786661363318749, recall: 0.8041237113402062\n",
      "60\n"
     ]
    },
    {
     "data": {
      "text/plain": [
       "(0.7726141688950959, 0.6932345519780105)"
      ]
     },
     "execution_count": 12,
     "metadata": {},
     "output_type": "execute_result"
    },
    {
     "data": {
      "application/javascript": [
       "\n",
       "            setTimeout(function() {\n",
       "                var nbb_cell_id = 12;\n",
       "                var nbb_unformatted_code = \"data_GT = test_attr.cpu().numpy()\\ndata_PRED = test_proba_concept.cpu().numpy()\\ny_pred = np.where(data_PRED > 0.5, 1, 0)\\nsub_auroc = []\\nsub_recall = []\\nall_auroc = []\\ncnt = 0\\nfor i in range(len(concepts)):\\n    auroc_val = metrics.roc_auc_score(data_GT[:, i], data_PRED[:, i])\\n    recall_val = metrics.recall_score(data_GT[:, i], y_pred[:, i])\\n    all_auroc.append(auroc_val)\\n    if auroc_val >= 0.7 and i != disease_index:\\n        print(f\\\"{concepts[i]}({i}), auroc: {auroc_val}, recall: {recall_val}\\\")\\n        sub_auroc.append(auroc_val)\\n        sub_recall.append(recall_val)\\n        cnt += 1\\n\\nprint(cnt)\\nnp.mean(np.array(sub_auroc)), np.mean(np.array(sub_recall))\";\n",
       "                var nbb_formatted_code = \"data_GT = test_attr.cpu().numpy()\\ndata_PRED = test_proba_concept.cpu().numpy()\\ny_pred = np.where(data_PRED > 0.5, 1, 0)\\nsub_auroc = []\\nsub_recall = []\\nall_auroc = []\\ncnt = 0\\nfor i in range(len(concepts)):\\n    auroc_val = metrics.roc_auc_score(data_GT[:, i], data_PRED[:, i])\\n    recall_val = metrics.recall_score(data_GT[:, i], y_pred[:, i])\\n    all_auroc.append(auroc_val)\\n    if auroc_val >= 0.7 and i != disease_index:\\n        print(f\\\"{concepts[i]}({i}), auroc: {auroc_val}, recall: {recall_val}\\\")\\n        sub_auroc.append(auroc_val)\\n        sub_recall.append(recall_val)\\n        cnt += 1\\n\\nprint(cnt)\\nnp.mean(np.array(sub_auroc)), np.mean(np.array(sub_recall))\";\n",
       "                var nbb_cells = Jupyter.notebook.get_cells();\n",
       "                for (var i = 0; i < nbb_cells.length; ++i) {\n",
       "                    if (nbb_cells[i].input_prompt_number == nbb_cell_id) {\n",
       "                        if (nbb_cells[i].get_text() == nbb_unformatted_code) {\n",
       "                             nbb_cells[i].set_text(nbb_formatted_code);\n",
       "                        }\n",
       "                        break;\n",
       "                    }\n",
       "                }\n",
       "            }, 500);\n",
       "            "
      ],
      "text/plain": [
       "<IPython.core.display.Javascript object>"
      ]
     },
     "metadata": {},
     "output_type": "display_data"
    }
   ],
   "source": [
    "data_GT = test_attr.cpu().numpy()\n",
    "data_PRED = test_proba_concept.cpu().numpy()\n",
    "y_pred = np.where(data_PRED > 0.5, 1, 0)\n",
    "sub_auroc = []\n",
    "sub_recall = []\n",
    "all_auroc = []\n",
    "cnt = 0\n",
    "for i in range(len(concepts)):\n",
    "    auroc_val = metrics.roc_auc_score(data_GT[:, i], data_PRED[:, i])\n",
    "    recall_val = metrics.recall_score(data_GT[:, i], y_pred[:, i])\n",
    "    all_auroc.append(auroc_val)\n",
    "    if auroc_val >= 0.7 and i != disease_index:\n",
    "        print(f\"{concepts[i]}({i}), auroc: {auroc_val}, recall: {recall_val}\")\n",
    "        sub_auroc.append(auroc_val)\n",
    "        sub_recall.append(recall_val)\n",
    "        cnt += 1\n",
    "\n",
    "print(cnt)\n",
    "np.mean(np.array(sub_auroc)), np.mean(np.array(sub_recall))"
   ]
  },
  {
   "cell_type": "code",
   "execution_count": 13,
   "metadata": {},
   "outputs": [
    {
     "name": "stdout",
     "output_type": "stream",
     "text": [
      "trachea(0), auroc: 0.6088573246824026, recall: 0.30196078431372547\n",
      "left_hilar(1), auroc: 0.6928121140975408, recall: 0.5363636363636364\n",
      "right_hilar(2), auroc: 0.6542108933277114, recall: 0.5627240143369175\n",
      "heart_border(8), auroc: 0.6258498426978677, recall: 0.37305699481865284\n",
      "diaphragm_unspec(11), auroc: 0.6985448908426588, recall: 0.7057387057387058\n",
      "lower_left_lobe(13), auroc: 0.6956058678956796, recall: 0.7339821573398215\n",
      "upper_left_lobe(14), auroc: 0.661523936361448, recall: 0.5846560846560847\n",
      "lower_right_lobe(15), auroc: 0.6694290223998072, recall: 0.4491758241758242\n",
      "middle_right_lobe(16), auroc: 0.6608848878016607, recall: 0.5705882352941176\n",
      "upper_right_lobe(17), auroc: 0.6996044942811842, recall: 0.38445378151260506\n",
      "left_lower_lung(18), auroc: 0.6583255414699264, recall: 0.5418060200668896\n",
      "left_mid_lung(19), auroc: 0.5881714726127516, recall: 0.4619289340101523\n",
      "left_upper_lung(20), auroc: 0.6652825337595705, recall: 0.37373737373737376\n",
      "right_lower_lung(23), auroc: 0.6809570288011866, recall: 0.6595639246778989\n",
      "right_mid_lung(24), auroc: 0.5837439259383378, recall: 0.55\n",
      "right_upper_lung(25), auroc: 0.6723194970889544, recall: 0.3624161073825503\n",
      "left_costophrenic(30), auroc: 0.6913609780599566, recall: 0.481651376146789\n",
      "right_costophrenic(31), auroc: 0.5775678051230537, recall: 0.3388888888888889\n",
      "costophrenic_unspec(32), auroc: 0.6700515593561368, recall: 0.5046296296296297\n",
      "cardiophrenic_sulcus(33), auroc: 0.6345012951933935, recall: 0.3617021276595745\n",
      "rib(36), auroc: 0.6218279480867965, recall: 0.408641975308642\n",
      "cavoatrial_junction(43), auroc: 0.6682566879846473, recall: 0.5644171779141104\n",
      "clavicle(45), auroc: 0.5581990204650303, recall: 0.4489795918367347\n",
      "opacity(47), auroc: 0.6635058439940131, recall: 0.6789848619768477\n",
      "abnormality(53), auroc: 0.6995045529339298, recall: 0.7168458781362007\n",
      "fracture(61), auroc: 0.6432369484753802, recall: 0.46132971506105835\n",
      "air(62), auroc: 0.6959439130557126, recall: 0.3615023474178404\n",
      "prominence(67), auroc: 0.5902902683390435, recall: 0.5480225988700564\n",
      "picc(70), auroc: 0.6390230493655527, recall: 0.3684210526315789\n",
      "clip(71), auroc: 0.661776491069046, recall: 0.5899014778325123\n",
      "nodule(73), auroc: 0.6487999805650114, recall: 0.6080691642651297\n",
      "fluid(75), auroc: 0.6970235425360578, recall: 0.6475037821482602\n",
      "thicken(78), auroc: 0.6729887570363742, recall: 0.5773195876288659\n",
      "marking(79), auroc: 0.6944046215271314, recall: 0.6178861788617886\n",
      "blunt(81), auroc: 0.6370778780955505, recall: 0.3039568345323741\n",
      "loss(82), auroc: 0.6968543356130785, recall: 0.5168141592920354\n",
      "density(85), auroc: 0.5389993648708175, recall: 0.4556354916067146\n",
      "aerate(87), auroc: 0.6725883528497569, recall: 0.6068181818181818\n",
      "stent(97), auroc: 0.583673897644843, recall: 0.4530612244897959\n",
      "lesion(99), auroc: 0.6381488447001336, recall: 0.5078125\n",
      "finding(100), auroc: 0.5430516482547026, recall: 0.16176470588235295\n",
      "borderline(101), auroc: 0.6780811534567965, recall: 0.39932885906040266\n",
      "hardware(102), auroc: 0.5899494168880064, recall: 0.34134615384615385\n",
      "dilation(103), auroc: 0.632772681521449, recall: 0.5\n",
      "redistribution(105), auroc: 0.690837497730537, recall: 0.669683257918552\n",
      "aspiration(106), auroc: 0.6534450398758491, recall: 0.4426229508196721\n",
      "46\n"
     ]
    },
    {
     "data": {
      "text/plain": [
       "(0.7726141688950959, 0.6932345519780105)"
      ]
     },
     "execution_count": 13,
     "metadata": {},
     "output_type": "execute_result"
    },
    {
     "data": {
      "application/javascript": [
       "\n",
       "            setTimeout(function() {\n",
       "                var nbb_cell_id = 13;\n",
       "                var nbb_unformatted_code = \"data_GT = test_attr.cpu().numpy()\\ndata_PRED = test_proba_concept.cpu().numpy()\\ny_pred = np.where(data_PRED > 0.5, 1, 0)\\nbad_auroc = []\\nbad_recall = []\\ncnt = 0\\nfor i in range(len(concepts)):\\n    auroc_val = metrics.roc_auc_score(data_GT[:, i], data_PRED[:, i])\\n    recall_val = metrics.recall_score(data_GT[:, i], y_pred[:, i])\\n    if auroc_val <= 0.7:\\n        print(f\\\"{concepts[i]}({i}), auroc: {auroc_val}, recall: {recall_val}\\\")\\n        cnt += 1\\n        bad_auroc.append(auroc_val)\\n        bad_recall.append(recall_val)\\n\\nprint(cnt)\\nnp.mean(np.array(sub_auroc)), np.mean(np.array(sub_recall))\";\n",
       "                var nbb_formatted_code = \"data_GT = test_attr.cpu().numpy()\\ndata_PRED = test_proba_concept.cpu().numpy()\\ny_pred = np.where(data_PRED > 0.5, 1, 0)\\nbad_auroc = []\\nbad_recall = []\\ncnt = 0\\nfor i in range(len(concepts)):\\n    auroc_val = metrics.roc_auc_score(data_GT[:, i], data_PRED[:, i])\\n    recall_val = metrics.recall_score(data_GT[:, i], y_pred[:, i])\\n    if auroc_val <= 0.7:\\n        print(f\\\"{concepts[i]}({i}), auroc: {auroc_val}, recall: {recall_val}\\\")\\n        cnt += 1\\n        bad_auroc.append(auroc_val)\\n        bad_recall.append(recall_val)\\n\\nprint(cnt)\\nnp.mean(np.array(sub_auroc)), np.mean(np.array(sub_recall))\";\n",
       "                var nbb_cells = Jupyter.notebook.get_cells();\n",
       "                for (var i = 0; i < nbb_cells.length; ++i) {\n",
       "                    if (nbb_cells[i].input_prompt_number == nbb_cell_id) {\n",
       "                        if (nbb_cells[i].get_text() == nbb_unformatted_code) {\n",
       "                             nbb_cells[i].set_text(nbb_formatted_code);\n",
       "                        }\n",
       "                        break;\n",
       "                    }\n",
       "                }\n",
       "            }, 500);\n",
       "            "
      ],
      "text/plain": [
       "<IPython.core.display.Javascript object>"
      ]
     },
     "metadata": {},
     "output_type": "display_data"
    }
   ],
   "source": [
    "data_GT = test_attr.cpu().numpy()\n",
    "data_PRED = test_proba_concept.cpu().numpy()\n",
    "y_pred = np.where(data_PRED > 0.5, 1, 0)\n",
    "bad_auroc = []\n",
    "bad_recall = []\n",
    "cnt = 0\n",
    "for i in range(len(concepts)):\n",
    "    auroc_val = metrics.roc_auc_score(data_GT[:, i], data_PRED[:, i])\n",
    "    recall_val = metrics.recall_score(data_GT[:, i], y_pred[:, i])\n",
    "    if auroc_val <= 0.7:\n",
    "        print(f\"{concepts[i]}({i}), auroc: {auroc_val}, recall: {recall_val}\")\n",
    "        cnt += 1\n",
    "        bad_auroc.append(auroc_val)\n",
    "        bad_recall.append(recall_val)\n",
    "\n",
    "print(cnt)\n",
    "np.mean(np.array(sub_auroc)), np.mean(np.array(sub_recall))"
   ]
  },
  {
   "cell_type": "code",
   "execution_count": 16,
   "metadata": {},
   "outputs": [
    {
     "data": {
      "text/plain": [
       "(tensor(60), torch.Size([107]))"
      ]
     },
     "execution_count": 16,
     "metadata": {},
     "output_type": "execute_result"
    },
    {
     "data": {
      "application/javascript": [
       "\n",
       "            setTimeout(function() {\n",
       "                var nbb_cell_id = 16;\n",
       "                var nbb_unformatted_code = \"mask_select = np.array(all_auroc) >= 0.7\\nmask_select[disease_index] = False\\n\\ntorch_mask = torch.from_numpy(mask_select)\\ntorch_mask.sum(), torch_mask.size()\";\n",
       "                var nbb_formatted_code = \"mask_select = np.array(all_auroc) >= 0.7\\nmask_select[disease_index] = False\\n\\ntorch_mask = torch.from_numpy(mask_select)\\ntorch_mask.sum(), torch_mask.size()\";\n",
       "                var nbb_cells = Jupyter.notebook.get_cells();\n",
       "                for (var i = 0; i < nbb_cells.length; ++i) {\n",
       "                    if (nbb_cells[i].input_prompt_number == nbb_cell_id) {\n",
       "                        if (nbb_cells[i].get_text() == nbb_unformatted_code) {\n",
       "                             nbb_cells[i].set_text(nbb_formatted_code);\n",
       "                        }\n",
       "                        break;\n",
       "                    }\n",
       "                }\n",
       "            }, 500);\n",
       "            "
      ],
      "text/plain": [
       "<IPython.core.display.Javascript object>"
      ]
     },
     "metadata": {},
     "output_type": "display_data"
    }
   ],
   "source": [
    "mask_select = np.array(all_auroc) >= 0.7\n",
    "mask_select[disease_index] = False\n",
    "\n",
    "torch_mask = torch.from_numpy(mask_select)\n",
    "torch_mask.sum(), torch_mask.size()"
   ]
  },
  {
   "cell_type": "code",
   "execution_count": 17,
   "metadata": {},
   "outputs": [
    {
     "name": "stdout",
     "output_type": "stream",
     "text": [
      "Test sizes: \n",
      "torch.Size([24072, 60])\n",
      "torch.Size([24072, 60])\n",
      "torch.Size([24072, 60])\n",
      "Val sizes: \n",
      "torch.Size([23449, 60])\n",
      "torch.Size([23449, 60])\n",
      "torch.Size([23449, 60])\n",
      "Train sizes: \n",
      "torch.Size([187548, 60])\n",
      "torch.Size([187548, 60])\n",
      "torch.Size([187548, 60])\n",
      "60\n"
     ]
    },
    {
     "data": {
      "application/javascript": [
       "\n",
       "            setTimeout(function() {\n",
       "                var nbb_cell_id = 17;\n",
       "                var nbb_unformatted_code = \"cnt = 0\\nth = 0.7\\nconcept_select = []\\nmetric = \\\"auroc\\\"\\n\\ntest_select_attr = []\\ntest_select_proba_concept = []\\ntest_select_logits_concept = []\\n\\n\\nval_select_attr = []\\nval_select_proba_concept = []\\nval_select_logits_concept = []\\n\\n\\ntrain_select_attr = []\\ntrain_select_proba_concept = []\\ntrain_select_logits_concept = []\\n\\n\\ntest_select_proba_concept = []\\nfor i in range(len(concepts)):\\n    val = auroc[i] if metric == \\\"auroc\\\" else recall[i]\\n\\n    if val >= th and concepts[i] != disease:\\n        test_select_attr.append(test_attr[:, i])\\n        test_select_proba_concept.append(test_proba_concept[:, i])\\n        test_select_logits_concept.append(test_logits_concept[:, i])\\n\\n        val_select_attr.append(val_attr[:, i])\\n        val_select_proba_concept.append(val_proba_concept[:, i])\\n        val_select_logits_concept.append(val_logits_concept[:, i])\\n\\n        train_select_attr.append(train_attr[:, i])\\n        train_select_proba_concept.append(train_proba_concept[:, i])\\n        train_select_logits_concept.append(train_logits_concept[:, i])\\n\\n        concept_select.append(concepts[i])\\n        cnt += 1\\n\\ntest_select_attr = torch.stack(test_select_attr, dim=1)\\ntest_select_proba_concept = torch.stack(test_select_proba_concept, dim=1)\\ntest_select_logits_concept = torch.stack(test_select_logits_concept, dim=1)\\nval_select_attr = torch.stack(val_select_attr, dim=1)\\nval_select_proba_concept = torch.stack(val_select_proba_concept, dim=1)\\nval_select_logits_concept = torch.stack(val_select_logits_concept, dim=1)\\ntrain_select_attr = torch.stack(train_select_attr, dim=1)\\ntrain_select_proba_concept = torch.stack(train_select_proba_concept, dim=1)\\ntrain_select_logits_concept = torch.stack(train_select_logits_concept, dim=1)\\n\\n\\nprint(\\\"Test sizes: \\\")\\nprint(test_select_attr.size())\\nprint(test_select_proba_concept.size())\\nprint(test_select_logits_concept.size())\\nprint(\\\"Val sizes: \\\")\\nprint(val_select_attr.size())\\nprint(val_select_proba_concept.size())\\nprint(val_select_logits_concept.size())\\nprint(\\\"Train sizes: \\\")\\nprint(train_select_attr.size())\\nprint(train_select_proba_concept.size())\\nprint(train_select_logits_concept.size())\\nprint(cnt)\";\n",
       "                var nbb_formatted_code = \"cnt = 0\\nth = 0.7\\nconcept_select = []\\nmetric = \\\"auroc\\\"\\n\\ntest_select_attr = []\\ntest_select_proba_concept = []\\ntest_select_logits_concept = []\\n\\n\\nval_select_attr = []\\nval_select_proba_concept = []\\nval_select_logits_concept = []\\n\\n\\ntrain_select_attr = []\\ntrain_select_proba_concept = []\\ntrain_select_logits_concept = []\\n\\n\\ntest_select_proba_concept = []\\nfor i in range(len(concepts)):\\n    val = auroc[i] if metric == \\\"auroc\\\" else recall[i]\\n\\n    if val >= th and concepts[i] != disease:\\n        test_select_attr.append(test_attr[:, i])\\n        test_select_proba_concept.append(test_proba_concept[:, i])\\n        test_select_logits_concept.append(test_logits_concept[:, i])\\n\\n        val_select_attr.append(val_attr[:, i])\\n        val_select_proba_concept.append(val_proba_concept[:, i])\\n        val_select_logits_concept.append(val_logits_concept[:, i])\\n\\n        train_select_attr.append(train_attr[:, i])\\n        train_select_proba_concept.append(train_proba_concept[:, i])\\n        train_select_logits_concept.append(train_logits_concept[:, i])\\n\\n        concept_select.append(concepts[i])\\n        cnt += 1\\n\\ntest_select_attr = torch.stack(test_select_attr, dim=1)\\ntest_select_proba_concept = torch.stack(test_select_proba_concept, dim=1)\\ntest_select_logits_concept = torch.stack(test_select_logits_concept, dim=1)\\nval_select_attr = torch.stack(val_select_attr, dim=1)\\nval_select_proba_concept = torch.stack(val_select_proba_concept, dim=1)\\nval_select_logits_concept = torch.stack(val_select_logits_concept, dim=1)\\ntrain_select_attr = torch.stack(train_select_attr, dim=1)\\ntrain_select_proba_concept = torch.stack(train_select_proba_concept, dim=1)\\ntrain_select_logits_concept = torch.stack(train_select_logits_concept, dim=1)\\n\\n\\nprint(\\\"Test sizes: \\\")\\nprint(test_select_attr.size())\\nprint(test_select_proba_concept.size())\\nprint(test_select_logits_concept.size())\\nprint(\\\"Val sizes: \\\")\\nprint(val_select_attr.size())\\nprint(val_select_proba_concept.size())\\nprint(val_select_logits_concept.size())\\nprint(\\\"Train sizes: \\\")\\nprint(train_select_attr.size())\\nprint(train_select_proba_concept.size())\\nprint(train_select_logits_concept.size())\\nprint(cnt)\";\n",
       "                var nbb_cells = Jupyter.notebook.get_cells();\n",
       "                for (var i = 0; i < nbb_cells.length; ++i) {\n",
       "                    if (nbb_cells[i].input_prompt_number == nbb_cell_id) {\n",
       "                        if (nbb_cells[i].get_text() == nbb_unformatted_code) {\n",
       "                             nbb_cells[i].set_text(nbb_formatted_code);\n",
       "                        }\n",
       "                        break;\n",
       "                    }\n",
       "                }\n",
       "            }, 500);\n",
       "            "
      ],
      "text/plain": [
       "<IPython.core.display.Javascript object>"
      ]
     },
     "metadata": {},
     "output_type": "display_data"
    }
   ],
   "source": [
    "cnt = 0\n",
    "th = 0.7\n",
    "concept_select = []\n",
    "metric = \"auroc\"\n",
    "\n",
    "test_select_attr = []\n",
    "test_select_proba_concept = []\n",
    "test_select_logits_concept = []\n",
    "\n",
    "\n",
    "val_select_attr = []\n",
    "val_select_proba_concept = []\n",
    "val_select_logits_concept = []\n",
    "\n",
    "\n",
    "train_select_attr = []\n",
    "train_select_proba_concept = []\n",
    "train_select_logits_concept = []\n",
    "\n",
    "\n",
    "test_select_proba_concept = []\n",
    "for i in range(len(concepts)):\n",
    "    val = auroc[i] if metric == \"auroc\" else recall[i]\n",
    "\n",
    "    if val >= th and concepts[i] != disease:\n",
    "        test_select_attr.append(test_attr[:, i])\n",
    "        test_select_proba_concept.append(test_proba_concept[:, i])\n",
    "        test_select_logits_concept.append(test_logits_concept[:, i])\n",
    "\n",
    "        val_select_attr.append(val_attr[:, i])\n",
    "        val_select_proba_concept.append(val_proba_concept[:, i])\n",
    "        val_select_logits_concept.append(val_logits_concept[:, i])\n",
    "\n",
    "        train_select_attr.append(train_attr[:, i])\n",
    "        train_select_proba_concept.append(train_proba_concept[:, i])\n",
    "        train_select_logits_concept.append(train_logits_concept[:, i])\n",
    "\n",
    "        concept_select.append(concepts[i])\n",
    "        cnt += 1\n",
    "\n",
    "test_select_attr = torch.stack(test_select_attr, dim=1)\n",
    "test_select_proba_concept = torch.stack(test_select_proba_concept, dim=1)\n",
    "test_select_logits_concept = torch.stack(test_select_logits_concept, dim=1)\n",
    "val_select_attr = torch.stack(val_select_attr, dim=1)\n",
    "val_select_proba_concept = torch.stack(val_select_proba_concept, dim=1)\n",
    "val_select_logits_concept = torch.stack(val_select_logits_concept, dim=1)\n",
    "train_select_attr = torch.stack(train_select_attr, dim=1)\n",
    "train_select_proba_concept = torch.stack(train_select_proba_concept, dim=1)\n",
    "train_select_logits_concept = torch.stack(train_select_logits_concept, dim=1)\n",
    "\n",
    "\n",
    "print(\"Test sizes: \")\n",
    "print(test_select_attr.size())\n",
    "print(test_select_proba_concept.size())\n",
    "print(test_select_logits_concept.size())\n",
    "print(\"Val sizes: \")\n",
    "print(val_select_attr.size())\n",
    "print(val_select_proba_concept.size())\n",
    "print(val_select_logits_concept.size())\n",
    "print(\"Train sizes: \")\n",
    "print(train_select_attr.size())\n",
    "print(train_select_proba_concept.size())\n",
    "print(train_select_logits_concept.size())\n",
    "print(cnt)"
   ]
  },
  {
   "cell_type": "code",
   "execution_count": 18,
   "metadata": {},
   "outputs": [
    {
     "name": "stdout",
     "output_type": "stream",
     "text": [
      "/ocean/projects/asc170022p/shg121/PhD/ICLR-2022/out/mimic_cxr/t/lr_0.01_epochs_60_loss_BCE_W_flattening_type_flatten_layer_features_denseblock4/densenet121/cardiomegaly/dataset_g\n"
     ]
    },
    {
     "data": {
      "application/javascript": [
       "\n",
       "            setTimeout(function() {\n",
       "                var nbb_cell_id = 18;\n",
       "                var nbb_unformatted_code = \"metric = \\\"auroc\\\"\\n\\nutils.save_tensor(\\n    path=os.path.join(path, \\\"dataset_g\\\", f\\\"torch_concepts_mask_{metric}.pt\\\"),\\n    tensor_to_save=torch_mask,\\n)\\n\\nutils.save_tensor(\\n    path=os.path.join(path, \\\"dataset_g\\\", f\\\"test_select_{metric}_attributes.pt\\\"),\\n    tensor_to_save=test_select_attr,\\n)\\nutils.save_tensor(\\n    path=os.path.join(path, \\\"dataset_g\\\", f\\\"test_select_proba_{metric}_concepts.pt\\\"),\\n    tensor_to_save=test_select_proba_concept,\\n)\\nutils.save_tensor(\\n    path=os.path.join(path, \\\"dataset_g\\\", f\\\"test_select_logits_{metric}_concepts.pt\\\"),\\n    tensor_to_save=test_select_logits_concept,\\n)\\n\\nutils.save_tensor(\\n    path=os.path.join(path, \\\"dataset_g\\\", f\\\"val_select_{metric}_attributes.pt\\\"),\\n    tensor_to_save=val_select_attr,\\n)\\nutils.save_tensor(\\n    path=os.path.join(path, \\\"dataset_g\\\", f\\\"val_select_proba_{metric}_concepts.pt\\\"),\\n    tensor_to_save=val_select_proba_concept,\\n)\\nutils.save_tensor(\\n    path=os.path.join(path, \\\"dataset_g\\\", f\\\"val_select_logits_{metric}_concepts.pt\\\"),\\n    tensor_to_save=val_select_logits_concept,\\n)\\n\\nutils.save_tensor(\\n    path=os.path.join(path, \\\"dataset_g\\\", f\\\"train_select_{metric}_attributes.pt\\\"),\\n    tensor_to_save=train_select_attr,\\n)\\nutils.save_tensor(\\n    path=os.path.join(path, \\\"dataset_g\\\", f\\\"train_select_proba_{metric}_concepts.pt\\\"),\\n    tensor_to_save=train_select_proba_concept,\\n)\\nutils.save_tensor(\\n    path=os.path.join(path, \\\"dataset_g\\\", f\\\"train_select_logits_{metric}_concepts.pt\\\"),\\n    tensor_to_save=train_select_logits_concept,\\n)\\n\\npickle.dump(\\n    concept_select,\\n    open(os.path.join(path, \\\"dataset_g\\\", f\\\"selected_concepts_{metric}.pkl\\\"), \\\"wb\\\"),\\n)\\n\\nprint(os.path.join(path, \\\"dataset_g\\\"))\";\n",
       "                var nbb_formatted_code = \"metric = \\\"auroc\\\"\\n\\nutils.save_tensor(\\n    path=os.path.join(path, \\\"dataset_g\\\", f\\\"torch_concepts_mask_{metric}.pt\\\"),\\n    tensor_to_save=torch_mask,\\n)\\n\\nutils.save_tensor(\\n    path=os.path.join(path, \\\"dataset_g\\\", f\\\"test_select_{metric}_attributes.pt\\\"),\\n    tensor_to_save=test_select_attr,\\n)\\nutils.save_tensor(\\n    path=os.path.join(path, \\\"dataset_g\\\", f\\\"test_select_proba_{metric}_concepts.pt\\\"),\\n    tensor_to_save=test_select_proba_concept,\\n)\\nutils.save_tensor(\\n    path=os.path.join(path, \\\"dataset_g\\\", f\\\"test_select_logits_{metric}_concepts.pt\\\"),\\n    tensor_to_save=test_select_logits_concept,\\n)\\n\\nutils.save_tensor(\\n    path=os.path.join(path, \\\"dataset_g\\\", f\\\"val_select_{metric}_attributes.pt\\\"),\\n    tensor_to_save=val_select_attr,\\n)\\nutils.save_tensor(\\n    path=os.path.join(path, \\\"dataset_g\\\", f\\\"val_select_proba_{metric}_concepts.pt\\\"),\\n    tensor_to_save=val_select_proba_concept,\\n)\\nutils.save_tensor(\\n    path=os.path.join(path, \\\"dataset_g\\\", f\\\"val_select_logits_{metric}_concepts.pt\\\"),\\n    tensor_to_save=val_select_logits_concept,\\n)\\n\\nutils.save_tensor(\\n    path=os.path.join(path, \\\"dataset_g\\\", f\\\"train_select_{metric}_attributes.pt\\\"),\\n    tensor_to_save=train_select_attr,\\n)\\nutils.save_tensor(\\n    path=os.path.join(path, \\\"dataset_g\\\", f\\\"train_select_proba_{metric}_concepts.pt\\\"),\\n    tensor_to_save=train_select_proba_concept,\\n)\\nutils.save_tensor(\\n    path=os.path.join(path, \\\"dataset_g\\\", f\\\"train_select_logits_{metric}_concepts.pt\\\"),\\n    tensor_to_save=train_select_logits_concept,\\n)\\n\\npickle.dump(\\n    concept_select,\\n    open(os.path.join(path, \\\"dataset_g\\\", f\\\"selected_concepts_{metric}.pkl\\\"), \\\"wb\\\"),\\n)\\n\\nprint(os.path.join(path, \\\"dataset_g\\\"))\";\n",
       "                var nbb_cells = Jupyter.notebook.get_cells();\n",
       "                for (var i = 0; i < nbb_cells.length; ++i) {\n",
       "                    if (nbb_cells[i].input_prompt_number == nbb_cell_id) {\n",
       "                        if (nbb_cells[i].get_text() == nbb_unformatted_code) {\n",
       "                             nbb_cells[i].set_text(nbb_formatted_code);\n",
       "                        }\n",
       "                        break;\n",
       "                    }\n",
       "                }\n",
       "            }, 500);\n",
       "            "
      ],
      "text/plain": [
       "<IPython.core.display.Javascript object>"
      ]
     },
     "metadata": {},
     "output_type": "display_data"
    }
   ],
   "source": [
    "metric = \"auroc\"\n",
    "\n",
    "utils.save_tensor(\n",
    "    path=os.path.join(path, \"dataset_g\", f\"torch_concepts_mask_{metric}.pt\"),\n",
    "    tensor_to_save=torch_mask,\n",
    ")\n",
    "\n",
    "utils.save_tensor(\n",
    "    path=os.path.join(path, \"dataset_g\", f\"test_select_{metric}_attributes.pt\"),\n",
    "    tensor_to_save=test_select_attr,\n",
    ")\n",
    "utils.save_tensor(\n",
    "    path=os.path.join(path, \"dataset_g\", f\"test_select_proba_{metric}_concepts.pt\"),\n",
    "    tensor_to_save=test_select_proba_concept,\n",
    ")\n",
    "utils.save_tensor(\n",
    "    path=os.path.join(path, \"dataset_g\", f\"test_select_logits_{metric}_concepts.pt\"),\n",
    "    tensor_to_save=test_select_logits_concept,\n",
    ")\n",
    "\n",
    "utils.save_tensor(\n",
    "    path=os.path.join(path, \"dataset_g\", f\"val_select_{metric}_attributes.pt\"),\n",
    "    tensor_to_save=val_select_attr,\n",
    ")\n",
    "utils.save_tensor(\n",
    "    path=os.path.join(path, \"dataset_g\", f\"val_select_proba_{metric}_concepts.pt\"),\n",
    "    tensor_to_save=val_select_proba_concept,\n",
    ")\n",
    "utils.save_tensor(\n",
    "    path=os.path.join(path, \"dataset_g\", f\"val_select_logits_{metric}_concepts.pt\"),\n",
    "    tensor_to_save=val_select_logits_concept,\n",
    ")\n",
    "\n",
    "utils.save_tensor(\n",
    "    path=os.path.join(path, \"dataset_g\", f\"train_select_{metric}_attributes.pt\"),\n",
    "    tensor_to_save=train_select_attr,\n",
    ")\n",
    "utils.save_tensor(\n",
    "    path=os.path.join(path, \"dataset_g\", f\"train_select_proba_{metric}_concepts.pt\"),\n",
    "    tensor_to_save=train_select_proba_concept,\n",
    ")\n",
    "utils.save_tensor(\n",
    "    path=os.path.join(path, \"dataset_g\", f\"train_select_logits_{metric}_concepts.pt\"),\n",
    "    tensor_to_save=train_select_logits_concept,\n",
    ")\n",
    "\n",
    "pickle.dump(\n",
    "    concept_select,\n",
    "    open(os.path.join(path, \"dataset_g\", f\"selected_concepts_{metric}.pkl\"), \"wb\"),\n",
    ")\n",
    "\n",
    "print(os.path.join(path, \"dataset_g\"))"
   ]
  },
  {
   "cell_type": "code",
   "execution_count": 12,
   "metadata": {},
   "outputs": [
    {
     "data": {
      "text/plain": [
       "['hilar_unspec',\n",
       " 'left_pleural',\n",
       " 'right_pleural',\n",
       " 'pleural_unspec',\n",
       " 'heart_size',\n",
       " 'left_diaphragm',\n",
       " 'right_diaphragm',\n",
       " 'retrocardiac',\n",
       " 'left_apical_lung',\n",
       " 'left_lung_unspec',\n",
       " 'right_apical_lung',\n",
       " 'right_lung_unspec',\n",
       " 'lung_apices',\n",
       " 'lung_bases',\n",
       " 'mediastinal',\n",
       " 'spine',\n",
       " 'right_atrium',\n",
       " 'right_ventricle',\n",
       " 'aorta',\n",
       " 'svc',\n",
       " 'interstitium',\n",
       " 'parenchymal',\n",
       " 'stomach',\n",
       " 'effusion',\n",
       " 'edema',\n",
       " 'atelectasis',\n",
       " 'tube',\n",
       " 'consolidation',\n",
       " 'process',\n",
       " 'enlarge',\n",
       " 'tip',\n",
       " 'low',\n",
       " 'line',\n",
       " 'congestion',\n",
       " 'catheter',\n",
       " 'tortuous',\n",
       " 'lead',\n",
       " 'disease',\n",
       " 'calcification',\n",
       " 'device',\n",
       " 'engorgement',\n",
       " 'elevation',\n",
       " 'wire',\n",
       " 'degenerative',\n",
       " 'pacemaker',\n",
       " 'scar',\n",
       " 'widen',\n",
       " 'collapse',\n",
       " 'emphysema',\n",
       " 'mass',\n",
       " 'crowd',\n",
       " 'infiltrate',\n",
       " 'obscure',\n",
       " 'deformity',\n",
       " 'hernia',\n",
       " 'drainage',\n",
       " 'distention',\n",
       " 'shift',\n",
       " 'pressure',\n",
       " 'chf']"
      ]
     },
     "execution_count": 12,
     "metadata": {},
     "output_type": "execute_result"
    },
    {
     "data": {
      "application/javascript": [
       "\n",
       "            setTimeout(function() {\n",
       "                var nbb_cell_id = 12;\n",
       "                var nbb_unformatted_code = \"# concept_select.remove(\\\"cardiomegaly\\\")\\nconcept_select\";\n",
       "                var nbb_formatted_code = \"# concept_select.remove(\\\"cardiomegaly\\\")\\nconcept_select\";\n",
       "                var nbb_cells = Jupyter.notebook.get_cells();\n",
       "                for (var i = 0; i < nbb_cells.length; ++i) {\n",
       "                    if (nbb_cells[i].input_prompt_number == nbb_cell_id) {\n",
       "                        if (nbb_cells[i].get_text() == nbb_unformatted_code) {\n",
       "                             nbb_cells[i].set_text(nbb_formatted_code);\n",
       "                        }\n",
       "                        break;\n",
       "                    }\n",
       "                }\n",
       "            }, 500);\n",
       "            "
      ],
      "text/plain": [
       "<IPython.core.display.Javascript object>"
      ]
     },
     "metadata": {},
     "output_type": "display_data"
    }
   ],
   "source": [
    "# concept_select.remove(\"cardiomegaly\")\n",
    "concept_select"
   ]
  },
  {
   "cell_type": "code",
   "execution_count": 13,
   "metadata": {},
   "outputs": [
    {
     "data": {
      "text/plain": [
       "(tensor([26196]), tensor([161352]))"
      ]
     },
     "execution_count": 13,
     "metadata": {},
     "output_type": "execute_result"
    },
    {
     "data": {
      "application/javascript": [
       "\n",
       "            setTimeout(function() {\n",
       "                var nbb_cell_id = 13;\n",
       "                var nbb_unformatted_code = \"y_gt_tr = torch.load(os.path.join(path, \\\"dataset_g\\\", f\\\"train_class_labels.pt\\\"))\\n(y_gt_tr == 1).sum(dim=0), (y_gt_tr == 0).sum(dim=0)\";\n",
       "                var nbb_formatted_code = \"y_gt_tr = torch.load(os.path.join(path, \\\"dataset_g\\\", f\\\"train_class_labels.pt\\\"))\\n(y_gt_tr == 1).sum(dim=0), (y_gt_tr == 0).sum(dim=0)\";\n",
       "                var nbb_cells = Jupyter.notebook.get_cells();\n",
       "                for (var i = 0; i < nbb_cells.length; ++i) {\n",
       "                    if (nbb_cells[i].input_prompt_number == nbb_cell_id) {\n",
       "                        if (nbb_cells[i].get_text() == nbb_unformatted_code) {\n",
       "                             nbb_cells[i].set_text(nbb_formatted_code);\n",
       "                        }\n",
       "                        break;\n",
       "                    }\n",
       "                }\n",
       "            }, 500);\n",
       "            "
      ],
      "text/plain": [
       "<IPython.core.display.Javascript object>"
      ]
     },
     "metadata": {},
     "output_type": "display_data"
    }
   ],
   "source": [
    "y_gt_tr = torch.load(os.path.join(path, \"dataset_g\", f\"train_class_labels.pt\"))\n",
    "(y_gt_tr == 1).sum(dim=0), (y_gt_tr == 0).sum(dim=0)"
   ]
  },
  {
   "cell_type": "code",
   "execution_count": 14,
   "metadata": {},
   "outputs": [
    {
     "data": {
      "text/plain": [
       "0.13967624306678772"
      ]
     },
     "execution_count": 14,
     "metadata": {},
     "output_type": "execute_result"
    },
    {
     "data": {
      "application/javascript": [
       "\n",
       "            setTimeout(function() {\n",
       "                var nbb_cell_id = 14;\n",
       "                var nbb_unformatted_code = \"((y_gt_tr == 1).sum(dim=0) / y_gt_tr.size(0)).item()\";\n",
       "                var nbb_formatted_code = \"((y_gt_tr == 1).sum(dim=0) / y_gt_tr.size(0)).item()\";\n",
       "                var nbb_cells = Jupyter.notebook.get_cells();\n",
       "                for (var i = 0; i < nbb_cells.length; ++i) {\n",
       "                    if (nbb_cells[i].input_prompt_number == nbb_cell_id) {\n",
       "                        if (nbb_cells[i].get_text() == nbb_unformatted_code) {\n",
       "                             nbb_cells[i].set_text(nbb_formatted_code);\n",
       "                        }\n",
       "                        break;\n",
       "                    }\n",
       "                }\n",
       "            }, 500);\n",
       "            "
      ],
      "text/plain": [
       "<IPython.core.display.Javascript object>"
      ]
     },
     "metadata": {},
     "output_type": "display_data"
    }
   ],
   "source": [
    "((y_gt_tr == 1).sum(dim=0) / y_gt_tr.size(0)).item()"
   ]
  },
  {
   "cell_type": "code",
   "execution_count": null,
   "metadata": {},
   "outputs": [],
   "source": []
  },
  {
   "cell_type": "code",
   "execution_count": null,
   "metadata": {},
   "outputs": [],
   "source": []
  }
 ],
 "metadata": {
  "kernelspec": {
   "display_name": "python_3_7",
   "language": "python",
   "name": "python_3_7"
  },
  "language_info": {
   "codemirror_mode": {
    "name": "ipython",
    "version": 3
   },
   "file_extension": ".py",
   "mimetype": "text/x-python",
   "name": "python",
   "nbconvert_exporter": "python",
   "pygments_lexer": "ipython3",
   "version": "3.7.11"
  }
 },
 "nbformat": 4,
 "nbformat_minor": 4
}
