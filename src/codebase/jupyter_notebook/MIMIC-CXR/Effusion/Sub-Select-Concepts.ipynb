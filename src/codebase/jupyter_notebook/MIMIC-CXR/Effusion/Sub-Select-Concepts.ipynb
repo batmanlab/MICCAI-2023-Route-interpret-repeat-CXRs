{
 "cells": [
  {
   "cell_type": "code",
   "execution_count": 2,
   "metadata": {},
   "outputs": [
    {
     "name": "stdout",
     "output_type": "stream",
     "text": [
      "The nb_black extension is already loaded. To reload it, use:\n",
      "  %reload_ext nb_black\n"
     ]
    },
    {
     "data": {
      "application/javascript": [
       "\n",
       "            setTimeout(function() {\n",
       "                var nbb_cell_id = 2;\n",
       "                var nbb_unformatted_code = \"%load_ext nb_black\\n\\nimport os\\nimport sys\\n\\nsys.path.append(\\n    os.path.abspath(\\\"/ocean/projects/asc170022p/shg121/PhD/ICLR-2022/codebase\\\")\\n)\\nimport torch.backends.cudnn as cudnn\\nimport random\\nfrom datetime import datetime\\nimport time\\nfrom collections import OrderedDict\\nimport pickle\\nimport numpy as np\\nimport pandas as pd\\nimport torch\\nimport torch.nn.functional as F\\nfrom torch.utils.data import DataLoader\\nfrom tqdm import tqdm\\nfrom torch.nn.functional import one_hot\\nimport utils\\n\\nfrom Explainer.loss_F import loss_fn_kd, entropy_loss\\nfrom Explainer.models.Gated_Logic_Net import Gated_Logic_Net\\nfrom Explainer.models.explainer import Explainer\\nfrom Explainer.models.pi import Pi\\nfrom dataset.dataset_cubs import Dataset_cub_for_explainer\\nfrom dataset.utils_dataset import get_dataset_with_image_and_attributes\\nfrom Explainer.loss_F import loss_fn_kd, entropy_loss, Selective_Distillation_Loss\\nfrom Explainer.models.concepts import Conceptizator\\nimport jupyter_notebook.stats_t as stats\\nimport matplotlib.pyplot as plt\\nimport warnings\\nimport sklearn.metrics as metrics\\n\\n# from ipython_utils import cal_acc, show_results\\nfrom ipywidgets import interact, interactive, fixed, interact_manual\\nfrom scipy.stats import percentileofscore\\nfrom sklearn.metrics import roc_auc_score, accuracy_score\\n\\nwarnings.filterwarnings(\\\"ignore\\\")\";\n",
       "                var nbb_formatted_code = \"%load_ext nb_black\\n\\nimport os\\nimport sys\\n\\nsys.path.append(\\n    os.path.abspath(\\\"/ocean/projects/asc170022p/shg121/PhD/ICLR-2022/codebase\\\")\\n)\\nimport torch.backends.cudnn as cudnn\\nimport random\\nfrom datetime import datetime\\nimport time\\nfrom collections import OrderedDict\\nimport pickle\\nimport numpy as np\\nimport pandas as pd\\nimport torch\\nimport torch.nn.functional as F\\nfrom torch.utils.data import DataLoader\\nfrom tqdm import tqdm\\nfrom torch.nn.functional import one_hot\\nimport utils\\n\\nfrom Explainer.loss_F import loss_fn_kd, entropy_loss\\nfrom Explainer.models.Gated_Logic_Net import Gated_Logic_Net\\nfrom Explainer.models.explainer import Explainer\\nfrom Explainer.models.pi import Pi\\nfrom dataset.dataset_cubs import Dataset_cub_for_explainer\\nfrom dataset.utils_dataset import get_dataset_with_image_and_attributes\\nfrom Explainer.loss_F import loss_fn_kd, entropy_loss, Selective_Distillation_Loss\\nfrom Explainer.models.concepts import Conceptizator\\nimport jupyter_notebook.stats_t as stats\\nimport matplotlib.pyplot as plt\\nimport warnings\\nimport sklearn.metrics as metrics\\n\\n# from ipython_utils import cal_acc, show_results\\nfrom ipywidgets import interact, interactive, fixed, interact_manual\\nfrom scipy.stats import percentileofscore\\nfrom sklearn.metrics import roc_auc_score, accuracy_score\\n\\nwarnings.filterwarnings(\\\"ignore\\\")\";\n",
       "                var nbb_cells = Jupyter.notebook.get_cells();\n",
       "                for (var i = 0; i < nbb_cells.length; ++i) {\n",
       "                    if (nbb_cells[i].input_prompt_number == nbb_cell_id) {\n",
       "                        if (nbb_cells[i].get_text() == nbb_unformatted_code) {\n",
       "                             nbb_cells[i].set_text(nbb_formatted_code);\n",
       "                        }\n",
       "                        break;\n",
       "                    }\n",
       "                }\n",
       "            }, 500);\n",
       "            "
      ],
      "text/plain": [
       "<IPython.core.display.Javascript object>"
      ]
     },
     "metadata": {},
     "output_type": "display_data"
    }
   ],
   "source": [
    "%load_ext nb_black\n",
    "import os\n",
    "import sys\n",
    "\n",
    "sys.path.append(\n",
    "    os.path.abspath(\"/ocean/projects/asc170022p/shg121/PhD/ICLR-2022/codebase\")\n",
    ")\n",
    "import torch.backends.cudnn as cudnn\n",
    "import random\n",
    "from datetime import datetime\n",
    "import time\n",
    "from collections import OrderedDict\n",
    "import pickle\n",
    "import numpy as np\n",
    "import pandas as pd\n",
    "import torch\n",
    "import torch.nn.functional as F\n",
    "from torch.utils.data import DataLoader\n",
    "from tqdm import tqdm\n",
    "from torch.nn.functional import one_hot\n",
    "import utils\n",
    "\n",
    "from Explainer.loss_F import loss_fn_kd, entropy_loss\n",
    "from Explainer.models.Gated_Logic_Net import Gated_Logic_Net\n",
    "from Explainer.models.explainer import Explainer\n",
    "from Explainer.models.pi import Pi\n",
    "from dataset.dataset_cubs import Dataset_cub_for_explainer\n",
    "from dataset.utils_dataset import get_dataset_with_image_and_attributes\n",
    "from Explainer.loss_F import loss_fn_kd, entropy_loss, Selective_Distillation_Loss\n",
    "from Explainer.models.concepts import Conceptizator\n",
    "import jupyter_notebook.stats_t as stats\n",
    "import matplotlib.pyplot as plt\n",
    "import warnings\n",
    "import sklearn.metrics as metrics\n",
    "\n",
    "# from ipython_utils import cal_acc, show_results\n",
    "from ipywidgets import interact, interactive, fixed, interact_manual\n",
    "from scipy.stats import percentileofscore\n",
    "from sklearn.metrics import roc_auc_score, accuracy_score\n",
    "\n",
    "warnings.filterwarnings(\"ignore\")"
   ]
  },
  {
   "cell_type": "code",
   "execution_count": 3,
   "metadata": {},
   "outputs": [
    {
     "name": "stdout",
     "output_type": "stream",
     "text": [
      "torch.Size([24072, 107]) torch.Size([24072, 107]) torch.Size([24072, 107]) torch.Size([48144]) torch.Size([24072, 1])\n",
      "\n",
      "torch.Size([187548, 107]) torch.Size([187548, 107]) torch.Size([187548, 107]) torch.Size([375096]) torch.Size([187548, 1])\n",
      "\n",
      "torch.Size([23449, 107]) torch.Size([23449, 107]) torch.Size([23449, 107]) torch.Size([46898]) torch.Size([23449, 1])\n",
      "107\n"
     ]
    },
    {
     "data": {
      "application/javascript": [
       "\n",
       "            setTimeout(function() {\n",
       "                var nbb_cell_id = 3;\n",
       "                var nbb_unformatted_code = \"disease = \\\"effusion\\\"\\npath = f\\\"/ocean/projects/asc170022p/shg121/PhD/ICLR-2022/out/mimic_cxr/t/lr_0.01_epochs_60_loss_BCE_W_flattening_type_flatten_layer_features_denseblock4/densenet121/{disease}\\\"\\ntest_attr = torch.load(os.path.join(path, \\\"dataset_g\\\", \\\"test_attributes.pt\\\"))\\ntest_proba_concept = torch.load(\\n    os.path.join(path, \\\"dataset_g\\\", \\\"test_proba_concepts.pt\\\")\\n)\\ntest_logits_concept = torch.load(\\n    os.path.join(path, \\\"dataset_g\\\", \\\"test_logits_concepts.pt\\\")\\n)\\ntest_logits_bb = torch.load(os.path.join(path, \\\"dataset_g\\\", \\\"test_logits_bb.pt\\\"))\\ntest_class_labels = torch.load(os.path.join(path, \\\"dataset_g\\\", \\\"test_class_labels.pt\\\"))\\n\\ntrain_attr = torch.load(os.path.join(path, \\\"dataset_g\\\", \\\"train_attributes.pt\\\"))\\ntrain_proba_concept = torch.load(\\n    os.path.join(path, \\\"dataset_g\\\", \\\"train_proba_concepts.pt\\\")\\n)\\ntrain_logits_concept = torch.load(\\n    os.path.join(path, \\\"dataset_g\\\", \\\"train_logits_concepts.pt\\\")\\n)\\ntrain_logits_bb = torch.load(os.path.join(path, \\\"dataset_g\\\", \\\"train_logits_bb.pt\\\"))\\ntrain_class_labels = torch.load(\\n    os.path.join(path, \\\"dataset_g\\\", \\\"train_class_labels.pt\\\")\\n)\\n\\nval_attr = torch.load(os.path.join(path, \\\"dataset_g\\\", \\\"val_attributes.pt\\\"))\\nval_proba_concept = torch.load(os.path.join(path, \\\"dataset_g\\\", \\\"val_proba_concepts.pt\\\"))\\nval_logits_concept = torch.load(\\n    os.path.join(path, \\\"dataset_g\\\", \\\"val_logits_concepts.pt\\\")\\n)\\nval_logits_bb = torch.load(os.path.join(path, \\\"dataset_g\\\", \\\"val_logits_bb.pt\\\"))\\nval_class_labels = torch.load(os.path.join(path, \\\"dataset_g\\\", \\\"val_class_labels.pt\\\"))\\n\\nprint(\\n    test_attr.size(),\\n    test_proba_concept.size(),\\n    test_logits_concept.size(),\\n    test_logits_bb.size(),\\n    test_class_labels.size(),\\n)\\nprint()\\nprint(\\n    train_attr.size(),\\n    train_proba_concept.size(),\\n    train_logits_concept.size(),\\n    train_logits_bb.size(),\\n    train_class_labels.size(),\\n)\\nprint()\\nprint(\\n    val_attr.size(),\\n    val_proba_concept.size(),\\n    val_logits_concept.size(),\\n    val_logits_bb.size(),\\n    val_class_labels.size(),\\n)\\n\\nwith open(os.path.join(path, \\\"MIMIC_test_configs.pkl\\\"), \\\"rb\\\") as input_file:\\n    args = pickle.load(input_file)\\n\\nconcepts = args.landmark_names_spec + args.abnorm_obs_concepts\\nprint(len(concepts))\";\n",
       "                var nbb_formatted_code = \"disease = \\\"effusion\\\"\\npath = f\\\"/ocean/projects/asc170022p/shg121/PhD/ICLR-2022/out/mimic_cxr/t/lr_0.01_epochs_60_loss_BCE_W_flattening_type_flatten_layer_features_denseblock4/densenet121/{disease}\\\"\\ntest_attr = torch.load(os.path.join(path, \\\"dataset_g\\\", \\\"test_attributes.pt\\\"))\\ntest_proba_concept = torch.load(\\n    os.path.join(path, \\\"dataset_g\\\", \\\"test_proba_concepts.pt\\\")\\n)\\ntest_logits_concept = torch.load(\\n    os.path.join(path, \\\"dataset_g\\\", \\\"test_logits_concepts.pt\\\")\\n)\\ntest_logits_bb = torch.load(os.path.join(path, \\\"dataset_g\\\", \\\"test_logits_bb.pt\\\"))\\ntest_class_labels = torch.load(os.path.join(path, \\\"dataset_g\\\", \\\"test_class_labels.pt\\\"))\\n\\ntrain_attr = torch.load(os.path.join(path, \\\"dataset_g\\\", \\\"train_attributes.pt\\\"))\\ntrain_proba_concept = torch.load(\\n    os.path.join(path, \\\"dataset_g\\\", \\\"train_proba_concepts.pt\\\")\\n)\\ntrain_logits_concept = torch.load(\\n    os.path.join(path, \\\"dataset_g\\\", \\\"train_logits_concepts.pt\\\")\\n)\\ntrain_logits_bb = torch.load(os.path.join(path, \\\"dataset_g\\\", \\\"train_logits_bb.pt\\\"))\\ntrain_class_labels = torch.load(\\n    os.path.join(path, \\\"dataset_g\\\", \\\"train_class_labels.pt\\\")\\n)\\n\\nval_attr = torch.load(os.path.join(path, \\\"dataset_g\\\", \\\"val_attributes.pt\\\"))\\nval_proba_concept = torch.load(os.path.join(path, \\\"dataset_g\\\", \\\"val_proba_concepts.pt\\\"))\\nval_logits_concept = torch.load(\\n    os.path.join(path, \\\"dataset_g\\\", \\\"val_logits_concepts.pt\\\")\\n)\\nval_logits_bb = torch.load(os.path.join(path, \\\"dataset_g\\\", \\\"val_logits_bb.pt\\\"))\\nval_class_labels = torch.load(os.path.join(path, \\\"dataset_g\\\", \\\"val_class_labels.pt\\\"))\\n\\nprint(\\n    test_attr.size(),\\n    test_proba_concept.size(),\\n    test_logits_concept.size(),\\n    test_logits_bb.size(),\\n    test_class_labels.size(),\\n)\\nprint()\\nprint(\\n    train_attr.size(),\\n    train_proba_concept.size(),\\n    train_logits_concept.size(),\\n    train_logits_bb.size(),\\n    train_class_labels.size(),\\n)\\nprint()\\nprint(\\n    val_attr.size(),\\n    val_proba_concept.size(),\\n    val_logits_concept.size(),\\n    val_logits_bb.size(),\\n    val_class_labels.size(),\\n)\\n\\nwith open(os.path.join(path, \\\"MIMIC_test_configs.pkl\\\"), \\\"rb\\\") as input_file:\\n    args = pickle.load(input_file)\\n\\nconcepts = args.landmark_names_spec + args.abnorm_obs_concepts\\nprint(len(concepts))\";\n",
       "                var nbb_cells = Jupyter.notebook.get_cells();\n",
       "                for (var i = 0; i < nbb_cells.length; ++i) {\n",
       "                    if (nbb_cells[i].input_prompt_number == nbb_cell_id) {\n",
       "                        if (nbb_cells[i].get_text() == nbb_unformatted_code) {\n",
       "                             nbb_cells[i].set_text(nbb_formatted_code);\n",
       "                        }\n",
       "                        break;\n",
       "                    }\n",
       "                }\n",
       "            }, 500);\n",
       "            "
      ],
      "text/plain": [
       "<IPython.core.display.Javascript object>"
      ]
     },
     "metadata": {},
     "output_type": "display_data"
    }
   ],
   "source": [
    "disease = \"effusion\"\n",
    "path = f\"/ocean/projects/asc170022p/shg121/PhD/ICLR-2022/out/mimic_cxr/t/lr_0.01_epochs_60_loss_BCE_W_flattening_type_flatten_layer_features_denseblock4/densenet121/{disease}\"\n",
    "test_attr = torch.load(os.path.join(path, \"dataset_g\", \"test_attributes.pt\"))\n",
    "test_proba_concept = torch.load(\n",
    "    os.path.join(path, \"dataset_g\", \"test_proba_concepts.pt\")\n",
    ")\n",
    "test_logits_concept = torch.load(\n",
    "    os.path.join(path, \"dataset_g\", \"test_logits_concepts.pt\")\n",
    ")\n",
    "test_logits_bb = torch.load(os.path.join(path, \"dataset_g\", \"test_logits_bb.pt\"))\n",
    "test_class_labels = torch.load(os.path.join(path, \"dataset_g\", \"test_class_labels.pt\"))\n",
    "\n",
    "train_attr = torch.load(os.path.join(path, \"dataset_g\", \"train_attributes.pt\"))\n",
    "train_proba_concept = torch.load(\n",
    "    os.path.join(path, \"dataset_g\", \"train_proba_concepts.pt\")\n",
    ")\n",
    "train_logits_concept = torch.load(\n",
    "    os.path.join(path, \"dataset_g\", \"train_logits_concepts.pt\")\n",
    ")\n",
    "train_logits_bb = torch.load(os.path.join(path, \"dataset_g\", \"train_logits_bb.pt\"))\n",
    "train_class_labels = torch.load(\n",
    "    os.path.join(path, \"dataset_g\", \"train_class_labels.pt\")\n",
    ")\n",
    "\n",
    "val_attr = torch.load(os.path.join(path, \"dataset_g\", \"val_attributes.pt\"))\n",
    "val_proba_concept = torch.load(os.path.join(path, \"dataset_g\", \"val_proba_concepts.pt\"))\n",
    "val_logits_concept = torch.load(\n",
    "    os.path.join(path, \"dataset_g\", \"val_logits_concepts.pt\")\n",
    ")\n",
    "val_logits_bb = torch.load(os.path.join(path, \"dataset_g\", \"val_logits_bb.pt\"))\n",
    "val_class_labels = torch.load(os.path.join(path, \"dataset_g\", \"val_class_labels.pt\"))\n",
    "\n",
    "print(\n",
    "    test_attr.size(),\n",
    "    test_proba_concept.size(),\n",
    "    test_logits_concept.size(),\n",
    "    test_logits_bb.size(),\n",
    "    test_class_labels.size(),\n",
    ")\n",
    "print()\n",
    "print(\n",
    "    train_attr.size(),\n",
    "    train_proba_concept.size(),\n",
    "    train_logits_concept.size(),\n",
    "    train_logits_bb.size(),\n",
    "    train_class_labels.size(),\n",
    ")\n",
    "print()\n",
    "print(\n",
    "    val_attr.size(),\n",
    "    val_proba_concept.size(),\n",
    "    val_logits_concept.size(),\n",
    "    val_logits_bb.size(),\n",
    "    val_class_labels.size(),\n",
    ")\n",
    "\n",
    "with open(os.path.join(path, \"MIMIC_test_configs.pkl\"), \"rb\") as input_file:\n",
    "    args = pickle.load(input_file)\n",
    "\n",
    "concepts = args.landmark_names_spec + args.abnorm_obs_concepts\n",
    "print(len(concepts))"
   ]
  },
  {
   "cell_type": "code",
   "execution_count": 4,
   "metadata": {},
   "outputs": [
    {
     "data": {
      "text/plain": [
       "(46, 'effusion')"
      ]
     },
     "execution_count": 4,
     "metadata": {},
     "output_type": "execute_result"
    },
    {
     "data": {
      "application/javascript": [
       "\n",
       "            setTimeout(function() {\n",
       "                var nbb_cell_id = 4;\n",
       "                var nbb_unformatted_code = \"disease_index = concepts.index(disease)\\nconcepts.index(disease), concepts[concepts.index(disease)]\";\n",
       "                var nbb_formatted_code = \"disease_index = concepts.index(disease)\\nconcepts.index(disease), concepts[concepts.index(disease)]\";\n",
       "                var nbb_cells = Jupyter.notebook.get_cells();\n",
       "                for (var i = 0; i < nbb_cells.length; ++i) {\n",
       "                    if (nbb_cells[i].input_prompt_number == nbb_cell_id) {\n",
       "                        if (nbb_cells[i].get_text() == nbb_unformatted_code) {\n",
       "                             nbb_cells[i].set_text(nbb_formatted_code);\n",
       "                        }\n",
       "                        break;\n",
       "                    }\n",
       "                }\n",
       "            }, 500);\n",
       "            "
      ],
      "text/plain": [
       "<IPython.core.display.Javascript object>"
      ]
     },
     "metadata": {},
     "output_type": "display_data"
    }
   ],
   "source": [
    "disease_index = concepts.index(disease)\n",
    "concepts.index(disease), concepts[concepts.index(disease)]"
   ]
  },
  {
   "cell_type": "code",
   "execution_count": 17,
   "metadata": {},
   "outputs": [
    {
     "name": "stdout",
     "output_type": "stream",
     "text": [
      "left_hilar(1), auroc: 0.6876675102526184, recall: 0.4636363636363636\n",
      "right_hilar(2), auroc: 0.6710241423677065, recall: 0.34408602150537637\n",
      "hilar_unspec(3), auroc: 0.6987572633104338, recall: 0.5716612377850163\n",
      "left_pleural(4), auroc: 0.8729606550803045, recall: 0.7701421800947867\n",
      "right_pleural(5), auroc: 0.8817677433937102, recall: 0.7875417130144605\n",
      "pleural_unspec(6), auroc: 0.8476208584704125, recall: 0.7807441067878443\n",
      "heart_size(7), auroc: 0.7393268846743594, recall: 0.6426146010186757\n",
      "left_diaphragm(9), auroc: 0.8178686254507821, recall: 0.6771084337349398\n",
      "right_diaphragm(10), auroc: 0.8504442898175479, recall: 0.7305389221556886\n",
      "diaphragm_unspec(11), auroc: 0.7190377630320863, recall: 0.6190476190476191\n",
      "retrocardiac(12), auroc: 0.7643984596816951, recall: 0.6935123042505593\n",
      "lower_left_lobe(13), auroc: 0.7357518177863898, recall: 0.6423357664233577\n",
      "lower_right_lobe(15), auroc: 0.7102500101209619, recall: 0.614010989010989\n",
      "middle_right_lobe(16), auroc: 0.687772374450575, recall: 0.36470588235294116\n",
      "upper_right_lobe(17), auroc: 0.7121885243332797, recall: 0.5840336134453782\n",
      "left_lower_lung(18), auroc: 0.6756972575589951, recall: 0.5403726708074534\n",
      "left_apical_lung(21), auroc: 0.7297545416780927, recall: 0.5419354838709678\n",
      "left_lung_unspec(22), auroc: 0.7315270794112151, recall: 0.6184767277856136\n",
      "right_lower_lung(23), auroc: 0.7176720614496734, recall: 0.5634291377601586\n",
      "right_upper_lung(25), auroc: 0.6621302068970161, recall: 0.3422818791946309\n",
      "right_apical_lung(26), auroc: 0.7436443201125629, recall: 0.5311778290993071\n",
      "right_lung_unspec(27), auroc: 0.7353398151444923, recall: 0.6647307286166843\n",
      "lung_apices(28), auroc: 0.6911907687209451, recall: 0.5158730158730159\n",
      "lung_bases(29), auroc: 0.7274566514648078, recall: 0.7724257282953562\n",
      "left_costophrenic(30), auroc: 0.7962406820389787, recall: 0.7201834862385321\n",
      "right_costophrenic(31), auroc: 0.7553338402440612, recall: 0.6\n",
      "costophrenic_unspec(32), auroc: 0.7630043377549245, recall: 0.6574074074074074\n",
      "cardiophrenic_sulcus(33), auroc: 0.6767029025616047, recall: 0.425531914893617\n",
      "mediastinal(34), auroc: 0.7170106805960356, recall: 0.63564875491481\n",
      "spine(35), auroc: 0.73651300457187, recall: 0.6467710371819961\n",
      "right_atrium(37), auroc: 0.8077462123145284, recall: 0.6284313725490196\n",
      "right_ventricle(38), auroc: 0.9123605380826889, recall: 0.7278481012658228\n",
      "aorta(39), auroc: 0.7840737409404388, recall: 0.6059496567505721\n",
      "svc(40), auroc: 0.7230706886016486, recall: 0.6628486055776892\n",
      "interstitium(41), auroc: 0.7788476589307265, recall: 0.632398753894081\n",
      "parenchymal(42), auroc: 0.7862357137418114, recall: 0.6086956521739131\n",
      "cavoatrial_junction(43), auroc: 0.6878411294585488, recall: 0.5429447852760736\n",
      "stomach(44), auroc: 0.8099287070692188, recall: 0.7216783216783217\n",
      "opacity(47), auroc: 0.6885957970381507, recall: 0.6544968833481746\n",
      "edema(48), auroc: 0.8541468705756219, recall: 0.8192934782608695\n",
      "atelectasis(49), auroc: 0.737465518871968, recall: 0.6557112068965517\n",
      "tube(50), auroc: 0.8947230399938383, recall: 0.8588780918727915\n",
      "consolidation(51), auroc: 0.7455955959052243, recall: 0.6335814722911497\n",
      "process(52), auroc: 0.7058060289758559, recall: 0.5217391304347826\n",
      "abnormality(53), auroc: 0.693993007491285, recall: 0.6200716845878136\n",
      "enlarge(54), auroc: 0.7566124163293421, recall: 0.703862660944206\n",
      "tip(55), auroc: 0.7407246147470702, recall: 0.6746060828142176\n",
      "low(56), auroc: 0.8653732486053674, recall: 0.7840531561461794\n",
      "line(57), auroc: 0.7777633678135807, recall: 0.7411912751677853\n",
      "congestion(58), auroc: 0.7793887677689283, recall: 0.7592857142857142\n",
      "catheter(59), auroc: 0.7388041469743517, recall: 0.5907424381301558\n",
      "cardiomegaly(60), auroc: 0.7959241291486929, recall: 0.7223188405797102\n",
      "air(62), auroc: 0.7543698138929277, recall: 0.6338028169014085\n",
      "tortuous(63), auroc: 0.8208574817424142, recall: 0.6848484848484848\n",
      "lead(64), auroc: 0.88779282063746, recall: 0.7021276595744681\n",
      "disease(65), auroc: 0.7474921187888797, recall: 0.4785276073619632\n",
      "calcification(66), auroc: 0.7551701367663907, recall: 0.5455486542443064\n",
      "device(68), auroc: 0.8183436741208919, recall: 0.7039321511179646\n",
      "engorgement(69), auroc: 0.7501726066865608, recall: 0.6495049504950495\n",
      "picc(70), auroc: 0.6863435579992231, recall: 0.5042444821731749\n",
      "clip(71), auroc: 0.6865083983158894, recall: 0.6157635467980296\n",
      "elevation(72), auroc: 0.7927473860384677, recall: 0.6491935483870968\n",
      "nodule(73), auroc: 0.6780798231416052, recall: 0.5331412103746398\n",
      "wire(74), auroc: 0.8659405175425411, recall: 0.6444444444444445\n",
      "fluid(75), auroc: 0.7374011376396952, recall: 0.6747352496217852\n",
      "degenerative(76), auroc: 0.7575976369429592, recall: 0.5836849507735584\n",
      "pacemaker(77), auroc: 0.9136373408825402, recall: 0.7437295528898582\n",
      "thicken(78), auroc: 0.6975175833178081, recall: 0.5180412371134021\n",
      "marking(79), auroc: 0.7283290924512299, recall: 0.6138211382113821\n",
      "scar(80), auroc: 0.7609626380668003, recall: 0.49382716049382713\n",
      "blunt(81), auroc: 0.765257329771495, recall: 0.6672661870503597\n",
      "loss(82), auroc: 0.736442317502111, recall: 0.5610619469026549\n",
      "widen(83), auroc: 0.7647606614873869, recall: 0.6642512077294686\n",
      "collapse(84), auroc: 0.8348040598441601, recall: 0.819718309859155\n",
      "emphysema(86), auroc: 0.8147127609804706, recall: 0.6200527704485488\n",
      "aerate(87), auroc: 0.7025585492706347, recall: 0.615909090909091\n",
      "mass(88), auroc: 0.7586785466327238, recall: 0.5862068965517241\n",
      "crowd(89), auroc: 0.8353053180180435, recall: 0.8066666666666666\n",
      "infiltrate(90), auroc: 0.7015903342926116, recall: 0.6302521008403361\n",
      "obscure(91), auroc: 0.7228933946369918, recall: 0.5700757575757576\n",
      "deformity(92), auroc: 0.7530889139448005, recall: 0.6560693641618497\n",
      "hernia(93), auroc: 0.8347375631664297, recall: 0.7149122807017544\n",
      "drainage(94), auroc: 0.7578443267630475, recall: 0.7083333333333334\n",
      "distention(95), auroc: 0.7654643442990907, recall: 0.6301369863013698\n",
      "shift(96), auroc: 0.8738989757289918, recall: 0.7854077253218884\n",
      "pressure(98), auroc: 0.7518858198304089, recall: 0.744\n",
      "lesion(99), auroc: 0.7133833110591381, recall: 0.5625\n",
      "chf(104), auroc: 0.7848759984089957, recall: 0.6494845360824743\n",
      "redistribution(105), auroc: 0.6818661710305173, recall: 0.6244343891402715\n",
      "aspiration(106), auroc: 0.6699579632559121, recall: 0.3442622950819672\n",
      "90\n"
     ]
    },
    {
     "data": {
      "text/plain": [
       "(0.7598260715189474, 0.6318501512401405)"
      ]
     },
     "execution_count": 17,
     "metadata": {},
     "output_type": "execute_result"
    },
    {
     "data": {
      "application/javascript": [
       "\n",
       "            setTimeout(function() {\n",
       "                var nbb_cell_id = 17;\n",
       "                var nbb_unformatted_code = \"data_GT = test_attr.cpu().numpy()\\ndata_PRED = test_proba_concept.cpu().numpy()\\ny_pred = np.where(data_PRED > 0.5, 1, 0)\\nall_auroc = []\\nsub_auroc = []\\nsub_recall = []\\ncnt = 0\\nfor i in range(len(concepts)):\\n    auroc_val = metrics.roc_auc_score(data_GT[:, i], data_PRED[:, i])\\n    recall_val = metrics.recall_score(data_GT[:, i], y_pred[:, i])\\n    all_auroc.append(auroc_val)\\n    if auroc_val >= 0.65 and i != disease_index:\\n        print(f\\\"{concepts[i]}({i}), auroc: {auroc_val}, recall: {recall_val}\\\")\\n        sub_auroc.append(auroc_val)\\n        sub_recall.append(recall_val)\\n        cnt += 1\\n\\nprint(cnt)\\nnp.mean(np.array(sub_auroc)), np.mean(np.array(sub_recall))\";\n",
       "                var nbb_formatted_code = \"data_GT = test_attr.cpu().numpy()\\ndata_PRED = test_proba_concept.cpu().numpy()\\ny_pred = np.where(data_PRED > 0.5, 1, 0)\\nall_auroc = []\\nsub_auroc = []\\nsub_recall = []\\ncnt = 0\\nfor i in range(len(concepts)):\\n    auroc_val = metrics.roc_auc_score(data_GT[:, i], data_PRED[:, i])\\n    recall_val = metrics.recall_score(data_GT[:, i], y_pred[:, i])\\n    all_auroc.append(auroc_val)\\n    if auroc_val >= 0.65 and i != disease_index:\\n        print(f\\\"{concepts[i]}({i}), auroc: {auroc_val}, recall: {recall_val}\\\")\\n        sub_auroc.append(auroc_val)\\n        sub_recall.append(recall_val)\\n        cnt += 1\\n\\nprint(cnt)\\nnp.mean(np.array(sub_auroc)), np.mean(np.array(sub_recall))\";\n",
       "                var nbb_cells = Jupyter.notebook.get_cells();\n",
       "                for (var i = 0; i < nbb_cells.length; ++i) {\n",
       "                    if (nbb_cells[i].input_prompt_number == nbb_cell_id) {\n",
       "                        if (nbb_cells[i].get_text() == nbb_unformatted_code) {\n",
       "                             nbb_cells[i].set_text(nbb_formatted_code);\n",
       "                        }\n",
       "                        break;\n",
       "                    }\n",
       "                }\n",
       "            }, 500);\n",
       "            "
      ],
      "text/plain": [
       "<IPython.core.display.Javascript object>"
      ]
     },
     "metadata": {},
     "output_type": "display_data"
    }
   ],
   "source": [
    "data_GT = test_attr.cpu().numpy()\n",
    "data_PRED = test_proba_concept.cpu().numpy()\n",
    "y_pred = np.where(data_PRED > 0.5, 1, 0)\n",
    "all_auroc = []\n",
    "sub_auroc = []\n",
    "sub_recall = []\n",
    "cnt = 0\n",
    "for i in range(len(concepts)):\n",
    "    auroc_val = metrics.roc_auc_score(data_GT[:, i], data_PRED[:, i])\n",
    "    recall_val = metrics.recall_score(data_GT[:, i], y_pred[:, i])\n",
    "    all_auroc.append(auroc_val)\n",
    "    if auroc_val >= 0.65 and i != disease_index:\n",
    "        print(f\"{concepts[i]}({i}), auroc: {auroc_val}, recall: {recall_val}\")\n",
    "        sub_auroc.append(auroc_val)\n",
    "        sub_recall.append(recall_val)\n",
    "        cnt += 1\n",
    "\n",
    "print(cnt)\n",
    "np.mean(np.array(sub_auroc)), np.mean(np.array(sub_recall))"
   ]
  },
  {
   "cell_type": "code",
   "execution_count": 18,
   "metadata": {},
   "outputs": [
    {
     "data": {
      "text/plain": [
       "(tensor(90), torch.Size([107]))"
      ]
     },
     "execution_count": 18,
     "metadata": {},
     "output_type": "execute_result"
    },
    {
     "data": {
      "application/javascript": [
       "\n",
       "            setTimeout(function() {\n",
       "                var nbb_cell_id = 18;\n",
       "                var nbb_unformatted_code = \"mask_select = np.array(all_auroc) >= 0.65\\nmask_select[disease_index] = False\\n\\ntorch_mask = torch.from_numpy(mask_select)\\ntorch_mask.sum(), torch_mask.size()\";\n",
       "                var nbb_formatted_code = \"mask_select = np.array(all_auroc) >= 0.65\\nmask_select[disease_index] = False\\n\\ntorch_mask = torch.from_numpy(mask_select)\\ntorch_mask.sum(), torch_mask.size()\";\n",
       "                var nbb_cells = Jupyter.notebook.get_cells();\n",
       "                for (var i = 0; i < nbb_cells.length; ++i) {\n",
       "                    if (nbb_cells[i].input_prompt_number == nbb_cell_id) {\n",
       "                        if (nbb_cells[i].get_text() == nbb_unformatted_code) {\n",
       "                             nbb_cells[i].set_text(nbb_formatted_code);\n",
       "                        }\n",
       "                        break;\n",
       "                    }\n",
       "                }\n",
       "            }, 500);\n",
       "            "
      ],
      "text/plain": [
       "<IPython.core.display.Javascript object>"
      ]
     },
     "metadata": {},
     "output_type": "display_data"
    }
   ],
   "source": [
    "mask_select = np.array(all_auroc) >= 0.65\n",
    "mask_select[disease_index] = False\n",
    "\n",
    "torch_mask = torch.from_numpy(mask_select)\n",
    "torch_mask.sum(), torch_mask.size()"
   ]
  },
  {
   "cell_type": "code",
   "execution_count": 19,
   "metadata": {},
   "outputs": [
    {
     "name": "stdout",
     "output_type": "stream",
     "text": [
      "trachea(0), auroc: 0.6430099772200941, recall: 0.43137254901960786\n",
      "left_hilar(1), auroc: 0.6876675102526184, recall: 0.4636363636363636\n",
      "right_hilar(2), auroc: 0.6710241423677065, recall: 0.34408602150537637\n",
      "hilar_unspec(3), auroc: 0.6987572633104338, recall: 0.5716612377850163\n",
      "heart_border(8), auroc: 0.5720200527399907, recall: 0.46632124352331605\n",
      "upper_left_lobe(14), auroc: 0.6443296206527405, recall: 0.42328042328042326\n",
      "middle_right_lobe(16), auroc: 0.687772374450575, recall: 0.36470588235294116\n",
      "left_lower_lung(18), auroc: 0.6756972575589951, recall: 0.5403726708074534\n",
      "left_mid_lung(19), auroc: 0.615527148058575, recall: 0.2182741116751269\n",
      "left_upper_lung(20), auroc: 0.6419372467426528, recall: 0.3939393939393939\n",
      "right_mid_lung(24), auroc: 0.6275597980898123, recall: 0.485\n",
      "right_upper_lung(25), auroc: 0.6621302068970161, recall: 0.3422818791946309\n",
      "lung_apices(28), auroc: 0.6911907687209451, recall: 0.5158730158730159\n",
      "cardiophrenic_sulcus(33), auroc: 0.6767029025616047, recall: 0.425531914893617\n",
      "rib(36), auroc: 0.6406971683803713, recall: 0.5333333333333333\n",
      "cavoatrial_junction(43), auroc: 0.6878411294585488, recall: 0.5429447852760736\n",
      "clavicle(45), auroc: 0.5541421249795635, recall: 0.40816326530612246\n",
      "opacity(47), auroc: 0.6885957970381507, recall: 0.6544968833481746\n",
      "abnormality(53), auroc: 0.693993007491285, recall: 0.6200716845878136\n",
      "fracture(61), auroc: 0.6382552632168065, recall: 0.4762550881953867\n",
      "prominence(67), auroc: 0.637153343523146, recall: 0.30282485875706217\n",
      "picc(70), auroc: 0.6863435579992231, recall: 0.5042444821731749\n",
      "clip(71), auroc: 0.6865083983158894, recall: 0.6157635467980296\n",
      "nodule(73), auroc: 0.6780798231416052, recall: 0.5331412103746398\n",
      "thicken(78), auroc: 0.6975175833178081, recall: 0.5180412371134021\n",
      "density(85), auroc: 0.5387797815013684, recall: 0.34292565947242204\n",
      "stent(97), auroc: 0.6158424288001179, recall: 0.4857142857142857\n",
      "finding(100), auroc: 0.5450402874030799, recall: 0.19117647058823528\n",
      "borderline(101), auroc: 0.6328613600216354, recall: 0.33221476510067116\n",
      "hardware(102), auroc: 0.6074572819696227, recall: 0.4326923076923077\n",
      "dilation(103), auroc: 0.6323844983218806, recall: 0.4794520547945205\n",
      "redistribution(105), auroc: 0.6818661710305173, recall: 0.6244343891402715\n",
      "aspiration(106), auroc: 0.6699579632559121, recall: 0.3442622950819672\n",
      "33\n"
     ]
    },
    {
     "data": {
      "text/plain": [
       "(0.7598260715189474, 0.6318501512401405)"
      ]
     },
     "execution_count": 19,
     "metadata": {},
     "output_type": "execute_result"
    },
    {
     "data": {
      "application/javascript": [
       "\n",
       "            setTimeout(function() {\n",
       "                var nbb_cell_id = 19;\n",
       "                var nbb_unformatted_code = \"data_GT = test_attr.cpu().numpy()\\ndata_PRED = test_proba_concept.cpu().numpy()\\ny_pred = np.where(data_PRED > 0.5, 1, 0)\\nbad_auroc = []\\nbad_recall = []\\ncnt = 0\\nfor i in range(len(concepts)):\\n    auroc_val = metrics.roc_auc_score(data_GT[:, i], data_PRED[:, i])\\n    recall_val = metrics.recall_score(data_GT[:, i], y_pred[:, i])\\n    if auroc_val <= 0.7:\\n        print(f\\\"{concepts[i]}({i}), auroc: {auroc_val}, recall: {recall_val}\\\")\\n        cnt += 1\\n        bad_auroc.append(auroc_val)\\n        bad_recall.append(recall_val)\\n\\nprint(cnt)\\nnp.mean(np.array(sub_auroc)), np.mean(np.array(sub_recall))\";\n",
       "                var nbb_formatted_code = \"data_GT = test_attr.cpu().numpy()\\ndata_PRED = test_proba_concept.cpu().numpy()\\ny_pred = np.where(data_PRED > 0.5, 1, 0)\\nbad_auroc = []\\nbad_recall = []\\ncnt = 0\\nfor i in range(len(concepts)):\\n    auroc_val = metrics.roc_auc_score(data_GT[:, i], data_PRED[:, i])\\n    recall_val = metrics.recall_score(data_GT[:, i], y_pred[:, i])\\n    if auroc_val <= 0.7:\\n        print(f\\\"{concepts[i]}({i}), auroc: {auroc_val}, recall: {recall_val}\\\")\\n        cnt += 1\\n        bad_auroc.append(auroc_val)\\n        bad_recall.append(recall_val)\\n\\nprint(cnt)\\nnp.mean(np.array(sub_auroc)), np.mean(np.array(sub_recall))\";\n",
       "                var nbb_cells = Jupyter.notebook.get_cells();\n",
       "                for (var i = 0; i < nbb_cells.length; ++i) {\n",
       "                    if (nbb_cells[i].input_prompt_number == nbb_cell_id) {\n",
       "                        if (nbb_cells[i].get_text() == nbb_unformatted_code) {\n",
       "                             nbb_cells[i].set_text(nbb_formatted_code);\n",
       "                        }\n",
       "                        break;\n",
       "                    }\n",
       "                }\n",
       "            }, 500);\n",
       "            "
      ],
      "text/plain": [
       "<IPython.core.display.Javascript object>"
      ]
     },
     "metadata": {},
     "output_type": "display_data"
    }
   ],
   "source": [
    "data_GT = test_attr.cpu().numpy()\n",
    "data_PRED = test_proba_concept.cpu().numpy()\n",
    "y_pred = np.where(data_PRED > 0.5, 1, 0)\n",
    "bad_auroc = []\n",
    "bad_recall = []\n",
    "cnt = 0\n",
    "for i in range(len(concepts)):\n",
    "    auroc_val = metrics.roc_auc_score(data_GT[:, i], data_PRED[:, i])\n",
    "    recall_val = metrics.recall_score(data_GT[:, i], y_pred[:, i])\n",
    "    if auroc_val <= 0.7:\n",
    "        print(f\"{concepts[i]}({i}), auroc: {auroc_val}, recall: {recall_val}\")\n",
    "        cnt += 1\n",
    "        bad_auroc.append(auroc_val)\n",
    "        bad_recall.append(recall_val)\n",
    "\n",
    "print(cnt)\n",
    "np.mean(np.array(sub_auroc)), np.mean(np.array(sub_recall))"
   ]
  },
  {
   "cell_type": "code",
   "execution_count": 20,
   "metadata": {},
   "outputs": [
    {
     "name": "stdout",
     "output_type": "stream",
     "text": [
      "107\n"
     ]
    },
    {
     "data": {
      "text/plain": [
       "(0.7391129587184638, 0.5993157936271764)"
      ]
     },
     "execution_count": 20,
     "metadata": {},
     "output_type": "execute_result"
    },
    {
     "data": {
      "application/javascript": [
       "\n",
       "            setTimeout(function() {\n",
       "                var nbb_cell_id = 20;\n",
       "                var nbb_unformatted_code = \"data_GT = test_attr.cpu().numpy()\\ndata_PRED = test_proba_concept.cpu().numpy()\\ny_pred = np.where(data_PRED > 0.5, 1, 0)\\nauroc = []\\nrecall = []\\nfor i in range(len(concepts)):\\n    try:\\n        auroc.append(metrics.roc_auc_score(data_GT[:, i], data_PRED[:, i]))\\n        recall.append(metrics.recall_score(data_GT[:, i], y_pred[:, i]))\\n    except ValueError:\\n        pass\\n\\nprint(len(auroc))\\n\\nmean_auroc = np.mean(np.array(auroc))\\nmean_recall = np.mean(np.array(recall))\\nmean_auroc, mean_recall\";\n",
       "                var nbb_formatted_code = \"data_GT = test_attr.cpu().numpy()\\ndata_PRED = test_proba_concept.cpu().numpy()\\ny_pred = np.where(data_PRED > 0.5, 1, 0)\\nauroc = []\\nrecall = []\\nfor i in range(len(concepts)):\\n    try:\\n        auroc.append(metrics.roc_auc_score(data_GT[:, i], data_PRED[:, i]))\\n        recall.append(metrics.recall_score(data_GT[:, i], y_pred[:, i]))\\n    except ValueError:\\n        pass\\n\\nprint(len(auroc))\\n\\nmean_auroc = np.mean(np.array(auroc))\\nmean_recall = np.mean(np.array(recall))\\nmean_auroc, mean_recall\";\n",
       "                var nbb_cells = Jupyter.notebook.get_cells();\n",
       "                for (var i = 0; i < nbb_cells.length; ++i) {\n",
       "                    if (nbb_cells[i].input_prompt_number == nbb_cell_id) {\n",
       "                        if (nbb_cells[i].get_text() == nbb_unformatted_code) {\n",
       "                             nbb_cells[i].set_text(nbb_formatted_code);\n",
       "                        }\n",
       "                        break;\n",
       "                    }\n",
       "                }\n",
       "            }, 500);\n",
       "            "
      ],
      "text/plain": [
       "<IPython.core.display.Javascript object>"
      ]
     },
     "metadata": {},
     "output_type": "display_data"
    }
   ],
   "source": [
    "data_GT = test_attr.cpu().numpy()\n",
    "data_PRED = test_proba_concept.cpu().numpy()\n",
    "y_pred = np.where(data_PRED > 0.5, 1, 0)\n",
    "auroc = []\n",
    "recall = []\n",
    "for i in range(len(concepts)):\n",
    "    try:\n",
    "        auroc.append(metrics.roc_auc_score(data_GT[:, i], data_PRED[:, i]))\n",
    "        recall.append(metrics.recall_score(data_GT[:, i], y_pred[:, i]))\n",
    "    except ValueError:\n",
    "        pass\n",
    "\n",
    "print(len(auroc))\n",
    "\n",
    "mean_auroc = np.mean(np.array(auroc))\n",
    "mean_recall = np.mean(np.array(recall))\n",
    "mean_auroc, mean_recall"
   ]
  },
  {
   "cell_type": "code",
   "execution_count": 21,
   "metadata": {},
   "outputs": [
    {
     "data": {
      "text/plain": [
       "0.7391129587184638"
      ]
     },
     "execution_count": 21,
     "metadata": {},
     "output_type": "execute_result"
    },
    {
     "data": {
      "application/javascript": [
       "\n",
       "            setTimeout(function() {\n",
       "                var nbb_cell_id = 21;\n",
       "                var nbb_unformatted_code = \"mean_auroc = np.mean(np.array(auroc))\\nmean_auroc\";\n",
       "                var nbb_formatted_code = \"mean_auroc = np.mean(np.array(auroc))\\nmean_auroc\";\n",
       "                var nbb_cells = Jupyter.notebook.get_cells();\n",
       "                for (var i = 0; i < nbb_cells.length; ++i) {\n",
       "                    if (nbb_cells[i].input_prompt_number == nbb_cell_id) {\n",
       "                        if (nbb_cells[i].get_text() == nbb_unformatted_code) {\n",
       "                             nbb_cells[i].set_text(nbb_formatted_code);\n",
       "                        }\n",
       "                        break;\n",
       "                    }\n",
       "                }\n",
       "            }, 500);\n",
       "            "
      ],
      "text/plain": [
       "<IPython.core.display.Javascript object>"
      ]
     },
     "metadata": {},
     "output_type": "display_data"
    }
   ],
   "source": [
    "mean_auroc = np.mean(np.array(auroc))\n",
    "mean_auroc"
   ]
  },
  {
   "cell_type": "code",
   "execution_count": 22,
   "metadata": {},
   "outputs": [
    {
     "name": "stdout",
     "output_type": "stream",
     "text": [
      "Test sizes: \n",
      "torch.Size([24072, 90])\n",
      "torch.Size([24072, 90])\n",
      "torch.Size([24072, 90])\n",
      "Val sizes: \n",
      "torch.Size([23449, 90])\n",
      "torch.Size([23449, 90])\n",
      "torch.Size([23449, 90])\n",
      "Train sizes: \n",
      "torch.Size([187548, 90])\n",
      "torch.Size([187548, 90])\n",
      "torch.Size([187548, 90])\n",
      "90\n"
     ]
    },
    {
     "data": {
      "application/javascript": [
       "\n",
       "            setTimeout(function() {\n",
       "                var nbb_cell_id = 22;\n",
       "                var nbb_unformatted_code = \"cnt = 0\\nth = 0.65\\nconcept_select = []\\n\\ntest_select_attr = []\\ntest_select_proba_concept = []\\ntest_select_logits_concept = []\\n\\n\\nval_select_attr = []\\nval_select_proba_concept = []\\nval_select_logits_concept = []\\n\\n\\ntrain_select_attr = []\\ntrain_select_proba_concept = []\\ntrain_select_logits_concept = []\\n\\n\\ntest_select_proba_concept = []\\nfor i in range(len(concepts)):\\n    if auroc[i] >= th and i != disease_index:\\n        test_select_attr.append(test_attr[:, i])\\n        test_select_proba_concept.append(test_proba_concept[:, i])\\n        test_select_logits_concept.append(test_logits_concept[:, i])\\n\\n        val_select_attr.append(val_attr[:, i])\\n        val_select_proba_concept.append(val_proba_concept[:, i])\\n        val_select_logits_concept.append(val_logits_concept[:, i])\\n\\n        train_select_attr.append(train_attr[:, i])\\n        train_select_proba_concept.append(train_proba_concept[:, i])\\n        train_select_logits_concept.append(train_logits_concept[:, i])\\n\\n        concept_select.append(concepts[i])\\n        cnt += 1\\n\\ntest_select_attr = torch.stack(test_select_attr, dim=1)\\ntest_select_proba_concept = torch.stack(test_select_proba_concept, dim=1)\\ntest_select_logits_concept = torch.stack(test_select_logits_concept, dim=1)\\nval_select_attr = torch.stack(val_select_attr, dim=1)\\nval_select_proba_concept = torch.stack(val_select_proba_concept, dim=1)\\nval_select_logits_concept = torch.stack(val_select_logits_concept, dim=1)\\ntrain_select_attr = torch.stack(train_select_attr, dim=1)\\ntrain_select_proba_concept = torch.stack(train_select_proba_concept, dim=1)\\ntrain_select_logits_concept = torch.stack(train_select_logits_concept, dim=1)\\n\\n\\nprint(\\\"Test sizes: \\\")\\nprint(test_select_attr.size())\\nprint(test_select_proba_concept.size())\\nprint(test_select_logits_concept.size())\\nprint(\\\"Val sizes: \\\")\\nprint(val_select_attr.size())\\nprint(val_select_proba_concept.size())\\nprint(val_select_logits_concept.size())\\nprint(\\\"Train sizes: \\\")\\nprint(train_select_attr.size())\\nprint(train_select_proba_concept.size())\\nprint(train_select_logits_concept.size())\\nprint(cnt)\";\n",
       "                var nbb_formatted_code = \"cnt = 0\\nth = 0.65\\nconcept_select = []\\n\\ntest_select_attr = []\\ntest_select_proba_concept = []\\ntest_select_logits_concept = []\\n\\n\\nval_select_attr = []\\nval_select_proba_concept = []\\nval_select_logits_concept = []\\n\\n\\ntrain_select_attr = []\\ntrain_select_proba_concept = []\\ntrain_select_logits_concept = []\\n\\n\\ntest_select_proba_concept = []\\nfor i in range(len(concepts)):\\n    if auroc[i] >= th and i != disease_index:\\n        test_select_attr.append(test_attr[:, i])\\n        test_select_proba_concept.append(test_proba_concept[:, i])\\n        test_select_logits_concept.append(test_logits_concept[:, i])\\n\\n        val_select_attr.append(val_attr[:, i])\\n        val_select_proba_concept.append(val_proba_concept[:, i])\\n        val_select_logits_concept.append(val_logits_concept[:, i])\\n\\n        train_select_attr.append(train_attr[:, i])\\n        train_select_proba_concept.append(train_proba_concept[:, i])\\n        train_select_logits_concept.append(train_logits_concept[:, i])\\n\\n        concept_select.append(concepts[i])\\n        cnt += 1\\n\\ntest_select_attr = torch.stack(test_select_attr, dim=1)\\ntest_select_proba_concept = torch.stack(test_select_proba_concept, dim=1)\\ntest_select_logits_concept = torch.stack(test_select_logits_concept, dim=1)\\nval_select_attr = torch.stack(val_select_attr, dim=1)\\nval_select_proba_concept = torch.stack(val_select_proba_concept, dim=1)\\nval_select_logits_concept = torch.stack(val_select_logits_concept, dim=1)\\ntrain_select_attr = torch.stack(train_select_attr, dim=1)\\ntrain_select_proba_concept = torch.stack(train_select_proba_concept, dim=1)\\ntrain_select_logits_concept = torch.stack(train_select_logits_concept, dim=1)\\n\\n\\nprint(\\\"Test sizes: \\\")\\nprint(test_select_attr.size())\\nprint(test_select_proba_concept.size())\\nprint(test_select_logits_concept.size())\\nprint(\\\"Val sizes: \\\")\\nprint(val_select_attr.size())\\nprint(val_select_proba_concept.size())\\nprint(val_select_logits_concept.size())\\nprint(\\\"Train sizes: \\\")\\nprint(train_select_attr.size())\\nprint(train_select_proba_concept.size())\\nprint(train_select_logits_concept.size())\\nprint(cnt)\";\n",
       "                var nbb_cells = Jupyter.notebook.get_cells();\n",
       "                for (var i = 0; i < nbb_cells.length; ++i) {\n",
       "                    if (nbb_cells[i].input_prompt_number == nbb_cell_id) {\n",
       "                        if (nbb_cells[i].get_text() == nbb_unformatted_code) {\n",
       "                             nbb_cells[i].set_text(nbb_formatted_code);\n",
       "                        }\n",
       "                        break;\n",
       "                    }\n",
       "                }\n",
       "            }, 500);\n",
       "            "
      ],
      "text/plain": [
       "<IPython.core.display.Javascript object>"
      ]
     },
     "metadata": {},
     "output_type": "display_data"
    }
   ],
   "source": [
    "cnt = 0\n",
    "th = 0.65\n",
    "concept_select = []\n",
    "\n",
    "test_select_attr = []\n",
    "test_select_proba_concept = []\n",
    "test_select_logits_concept = []\n",
    "\n",
    "\n",
    "val_select_attr = []\n",
    "val_select_proba_concept = []\n",
    "val_select_logits_concept = []\n",
    "\n",
    "\n",
    "train_select_attr = []\n",
    "train_select_proba_concept = []\n",
    "train_select_logits_concept = []\n",
    "\n",
    "\n",
    "test_select_proba_concept = []\n",
    "for i in range(len(concepts)):\n",
    "    if auroc[i] >= th and i != disease_index:\n",
    "        test_select_attr.append(test_attr[:, i])\n",
    "        test_select_proba_concept.append(test_proba_concept[:, i])\n",
    "        test_select_logits_concept.append(test_logits_concept[:, i])\n",
    "\n",
    "        val_select_attr.append(val_attr[:, i])\n",
    "        val_select_proba_concept.append(val_proba_concept[:, i])\n",
    "        val_select_logits_concept.append(val_logits_concept[:, i])\n",
    "\n",
    "        train_select_attr.append(train_attr[:, i])\n",
    "        train_select_proba_concept.append(train_proba_concept[:, i])\n",
    "        train_select_logits_concept.append(train_logits_concept[:, i])\n",
    "\n",
    "        concept_select.append(concepts[i])\n",
    "        cnt += 1\n",
    "\n",
    "test_select_attr = torch.stack(test_select_attr, dim=1)\n",
    "test_select_proba_concept = torch.stack(test_select_proba_concept, dim=1)\n",
    "test_select_logits_concept = torch.stack(test_select_logits_concept, dim=1)\n",
    "val_select_attr = torch.stack(val_select_attr, dim=1)\n",
    "val_select_proba_concept = torch.stack(val_select_proba_concept, dim=1)\n",
    "val_select_logits_concept = torch.stack(val_select_logits_concept, dim=1)\n",
    "train_select_attr = torch.stack(train_select_attr, dim=1)\n",
    "train_select_proba_concept = torch.stack(train_select_proba_concept, dim=1)\n",
    "train_select_logits_concept = torch.stack(train_select_logits_concept, dim=1)\n",
    "\n",
    "\n",
    "print(\"Test sizes: \")\n",
    "print(test_select_attr.size())\n",
    "print(test_select_proba_concept.size())\n",
    "print(test_select_logits_concept.size())\n",
    "print(\"Val sizes: \")\n",
    "print(val_select_attr.size())\n",
    "print(val_select_proba_concept.size())\n",
    "print(val_select_logits_concept.size())\n",
    "print(\"Train sizes: \")\n",
    "print(train_select_attr.size())\n",
    "print(train_select_proba_concept.size())\n",
    "print(train_select_logits_concept.size())\n",
    "print(cnt)"
   ]
  },
  {
   "cell_type": "code",
   "execution_count": 27,
   "metadata": {},
   "outputs": [
    {
     "name": "stdout",
     "output_type": "stream",
     "text": [
      "/ocean/projects/asc170022p/shg121/PhD/ICLR-2022/out/mimic_cxr/t/lr_0.01_epochs_60_loss_BCE_W_flattening_type_flatten_layer_features_denseblock4/densenet121/effusion/dataset_g\n"
     ]
    },
    {
     "data": {
      "application/javascript": [
       "\n",
       "            setTimeout(function() {\n",
       "                var nbb_cell_id = 27;\n",
       "                var nbb_unformatted_code = \"metric = \\\"auroc\\\"\\n\\nutils.save_tensor(\\n    path=os.path.join(path, \\\"dataset_g\\\", f\\\"torch_concepts_mask_{metric}.pt\\\"),\\n    tensor_to_save=torch_mask,\\n)\\n\\nutils.save_tensor(\\n    path=os.path.join(path, \\\"dataset_g\\\", f\\\"test_select_{metric}_attributes.pt\\\"),\\n    tensor_to_save=test_select_attr,\\n)\\nutils.save_tensor(\\n    path=os.path.join(path, \\\"dataset_g\\\", f\\\"test_select_proba_{metric}_concepts.pt\\\"),\\n    tensor_to_save=test_select_proba_concept,\\n)\\nutils.save_tensor(\\n    path=os.path.join(path, \\\"dataset_g\\\", f\\\"test_select_logits_{metric}_concepts.pt\\\"),\\n    tensor_to_save=test_select_logits_concept,\\n)\\n\\nutils.save_tensor(\\n    path=os.path.join(path, \\\"dataset_g\\\", f\\\"val_select_{metric}_attributes.pt\\\"),\\n    tensor_to_save=val_select_attr,\\n)\\nutils.save_tensor(\\n    path=os.path.join(path, \\\"dataset_g\\\", f\\\"val_select_proba_{metric}_concepts.pt\\\"),\\n    tensor_to_save=val_select_proba_concept,\\n)\\nutils.save_tensor(\\n    path=os.path.join(path, \\\"dataset_g\\\", f\\\"val_select_logits_{metric}_concepts.pt\\\"),\\n    tensor_to_save=val_select_logits_concept,\\n)\\n\\nutils.save_tensor(\\n    path=os.path.join(path, \\\"dataset_g\\\", f\\\"train_select_{metric}_attributes.pt\\\"),\\n    tensor_to_save=train_select_attr,\\n)\\nutils.save_tensor(\\n    path=os.path.join(path, \\\"dataset_g\\\", f\\\"train_select_proba_{metric}_concepts.pt\\\"),\\n    tensor_to_save=train_select_proba_concept,\\n)\\nutils.save_tensor(\\n    path=os.path.join(path, \\\"dataset_g\\\", f\\\"train_select_logits_{metric}_concepts.pt\\\"),\\n    tensor_to_save=train_select_logits_concept,\\n)\\n\\npickle.dump(\\n    concept_select,\\n    open(os.path.join(path, \\\"dataset_g\\\", f\\\"selected_concepts_{metric}.pkl\\\"), \\\"wb\\\"),\\n)\\n\\nprint(os.path.join(path, \\\"dataset_g\\\"))\";\n",
       "                var nbb_formatted_code = \"metric = \\\"auroc\\\"\\n\\nutils.save_tensor(\\n    path=os.path.join(path, \\\"dataset_g\\\", f\\\"torch_concepts_mask_{metric}.pt\\\"),\\n    tensor_to_save=torch_mask,\\n)\\n\\nutils.save_tensor(\\n    path=os.path.join(path, \\\"dataset_g\\\", f\\\"test_select_{metric}_attributes.pt\\\"),\\n    tensor_to_save=test_select_attr,\\n)\\nutils.save_tensor(\\n    path=os.path.join(path, \\\"dataset_g\\\", f\\\"test_select_proba_{metric}_concepts.pt\\\"),\\n    tensor_to_save=test_select_proba_concept,\\n)\\nutils.save_tensor(\\n    path=os.path.join(path, \\\"dataset_g\\\", f\\\"test_select_logits_{metric}_concepts.pt\\\"),\\n    tensor_to_save=test_select_logits_concept,\\n)\\n\\nutils.save_tensor(\\n    path=os.path.join(path, \\\"dataset_g\\\", f\\\"val_select_{metric}_attributes.pt\\\"),\\n    tensor_to_save=val_select_attr,\\n)\\nutils.save_tensor(\\n    path=os.path.join(path, \\\"dataset_g\\\", f\\\"val_select_proba_{metric}_concepts.pt\\\"),\\n    tensor_to_save=val_select_proba_concept,\\n)\\nutils.save_tensor(\\n    path=os.path.join(path, \\\"dataset_g\\\", f\\\"val_select_logits_{metric}_concepts.pt\\\"),\\n    tensor_to_save=val_select_logits_concept,\\n)\\n\\nutils.save_tensor(\\n    path=os.path.join(path, \\\"dataset_g\\\", f\\\"train_select_{metric}_attributes.pt\\\"),\\n    tensor_to_save=train_select_attr,\\n)\\nutils.save_tensor(\\n    path=os.path.join(path, \\\"dataset_g\\\", f\\\"train_select_proba_{metric}_concepts.pt\\\"),\\n    tensor_to_save=train_select_proba_concept,\\n)\\nutils.save_tensor(\\n    path=os.path.join(path, \\\"dataset_g\\\", f\\\"train_select_logits_{metric}_concepts.pt\\\"),\\n    tensor_to_save=train_select_logits_concept,\\n)\\n\\npickle.dump(\\n    concept_select,\\n    open(os.path.join(path, \\\"dataset_g\\\", f\\\"selected_concepts_{metric}.pkl\\\"), \\\"wb\\\"),\\n)\\n\\nprint(os.path.join(path, \\\"dataset_g\\\"))\";\n",
       "                var nbb_cells = Jupyter.notebook.get_cells();\n",
       "                for (var i = 0; i < nbb_cells.length; ++i) {\n",
       "                    if (nbb_cells[i].input_prompt_number == nbb_cell_id) {\n",
       "                        if (nbb_cells[i].get_text() == nbb_unformatted_code) {\n",
       "                             nbb_cells[i].set_text(nbb_formatted_code);\n",
       "                        }\n",
       "                        break;\n",
       "                    }\n",
       "                }\n",
       "            }, 500);\n",
       "            "
      ],
      "text/plain": [
       "<IPython.core.display.Javascript object>"
      ]
     },
     "metadata": {},
     "output_type": "display_data"
    }
   ],
   "source": [
    "metric = \"auroc\"\n",
    "\n",
    "utils.save_tensor(\n",
    "    path=os.path.join(path, \"dataset_g\", f\"torch_concepts_mask_{metric}.pt\"),\n",
    "    tensor_to_save=torch_mask,\n",
    ")\n",
    "\n",
    "utils.save_tensor(\n",
    "    path=os.path.join(path, \"dataset_g\", f\"test_select_{metric}_attributes.pt\"),\n",
    "    tensor_to_save=test_select_attr,\n",
    ")\n",
    "utils.save_tensor(\n",
    "    path=os.path.join(path, \"dataset_g\", f\"test_select_proba_{metric}_concepts.pt\"),\n",
    "    tensor_to_save=test_select_proba_concept,\n",
    ")\n",
    "utils.save_tensor(\n",
    "    path=os.path.join(path, \"dataset_g\", f\"test_select_logits_{metric}_concepts.pt\"),\n",
    "    tensor_to_save=test_select_logits_concept,\n",
    ")\n",
    "\n",
    "utils.save_tensor(\n",
    "    path=os.path.join(path, \"dataset_g\", f\"val_select_{metric}_attributes.pt\"),\n",
    "    tensor_to_save=val_select_attr,\n",
    ")\n",
    "utils.save_tensor(\n",
    "    path=os.path.join(path, \"dataset_g\", f\"val_select_proba_{metric}_concepts.pt\"),\n",
    "    tensor_to_save=val_select_proba_concept,\n",
    ")\n",
    "utils.save_tensor(\n",
    "    path=os.path.join(path, \"dataset_g\", f\"val_select_logits_{metric}_concepts.pt\"),\n",
    "    tensor_to_save=val_select_logits_concept,\n",
    ")\n",
    "\n",
    "utils.save_tensor(\n",
    "    path=os.path.join(path, \"dataset_g\", f\"train_select_{metric}_attributes.pt\"),\n",
    "    tensor_to_save=train_select_attr,\n",
    ")\n",
    "utils.save_tensor(\n",
    "    path=os.path.join(path, \"dataset_g\", f\"train_select_proba_{metric}_concepts.pt\"),\n",
    "    tensor_to_save=train_select_proba_concept,\n",
    ")\n",
    "utils.save_tensor(\n",
    "    path=os.path.join(path, \"dataset_g\", f\"train_select_logits_{metric}_concepts.pt\"),\n",
    "    tensor_to_save=train_select_logits_concept,\n",
    ")\n",
    "\n",
    "pickle.dump(\n",
    "    concept_select,\n",
    "    open(os.path.join(path, \"dataset_g\", f\"selected_concepts_{metric}.pkl\"), \"wb\"),\n",
    ")\n",
    "\n",
    "print(os.path.join(path, \"dataset_g\"))"
   ]
  },
  {
   "cell_type": "code",
   "execution_count": 24,
   "metadata": {},
   "outputs": [
    {
     "data": {
      "text/plain": [
       "['left_hilar',\n",
       " 'right_hilar',\n",
       " 'hilar_unspec',\n",
       " 'left_pleural',\n",
       " 'right_pleural',\n",
       " 'pleural_unspec',\n",
       " 'heart_size',\n",
       " 'left_diaphragm',\n",
       " 'right_diaphragm',\n",
       " 'diaphragm_unspec',\n",
       " 'retrocardiac',\n",
       " 'lower_left_lobe',\n",
       " 'lower_right_lobe',\n",
       " 'middle_right_lobe',\n",
       " 'upper_right_lobe',\n",
       " 'left_lower_lung',\n",
       " 'left_apical_lung',\n",
       " 'left_lung_unspec',\n",
       " 'right_lower_lung',\n",
       " 'right_upper_lung',\n",
       " 'right_apical_lung',\n",
       " 'right_lung_unspec',\n",
       " 'lung_apices',\n",
       " 'lung_bases',\n",
       " 'left_costophrenic',\n",
       " 'right_costophrenic',\n",
       " 'costophrenic_unspec',\n",
       " 'cardiophrenic_sulcus',\n",
       " 'mediastinal',\n",
       " 'spine',\n",
       " 'right_atrium',\n",
       " 'right_ventricle',\n",
       " 'aorta',\n",
       " 'svc',\n",
       " 'interstitium',\n",
       " 'parenchymal',\n",
       " 'cavoatrial_junction',\n",
       " 'stomach',\n",
       " 'opacity',\n",
       " 'edema',\n",
       " 'atelectasis',\n",
       " 'tube',\n",
       " 'consolidation',\n",
       " 'process',\n",
       " 'abnormality',\n",
       " 'enlarge',\n",
       " 'tip',\n",
       " 'low',\n",
       " 'line',\n",
       " 'congestion',\n",
       " 'catheter',\n",
       " 'cardiomegaly',\n",
       " 'air',\n",
       " 'tortuous',\n",
       " 'lead',\n",
       " 'disease',\n",
       " 'calcification',\n",
       " 'device',\n",
       " 'engorgement',\n",
       " 'picc',\n",
       " 'clip',\n",
       " 'elevation',\n",
       " 'nodule',\n",
       " 'wire',\n",
       " 'fluid',\n",
       " 'degenerative',\n",
       " 'pacemaker',\n",
       " 'thicken',\n",
       " 'marking',\n",
       " 'scar',\n",
       " 'blunt',\n",
       " 'loss',\n",
       " 'widen',\n",
       " 'collapse',\n",
       " 'emphysema',\n",
       " 'aerate',\n",
       " 'mass',\n",
       " 'crowd',\n",
       " 'infiltrate',\n",
       " 'obscure',\n",
       " 'deformity',\n",
       " 'hernia',\n",
       " 'drainage',\n",
       " 'distention',\n",
       " 'shift',\n",
       " 'pressure',\n",
       " 'lesion',\n",
       " 'chf',\n",
       " 'redistribution',\n",
       " 'aspiration']"
      ]
     },
     "execution_count": 24,
     "metadata": {},
     "output_type": "execute_result"
    },
    {
     "data": {
      "application/javascript": [
       "\n",
       "            setTimeout(function() {\n",
       "                var nbb_cell_id = 24;\n",
       "                var nbb_unformatted_code = \"concept_select\";\n",
       "                var nbb_formatted_code = \"concept_select\";\n",
       "                var nbb_cells = Jupyter.notebook.get_cells();\n",
       "                for (var i = 0; i < nbb_cells.length; ++i) {\n",
       "                    if (nbb_cells[i].input_prompt_number == nbb_cell_id) {\n",
       "                        if (nbb_cells[i].get_text() == nbb_unformatted_code) {\n",
       "                             nbb_cells[i].set_text(nbb_formatted_code);\n",
       "                        }\n",
       "                        break;\n",
       "                    }\n",
       "                }\n",
       "            }, 500);\n",
       "            "
      ],
      "text/plain": [
       "<IPython.core.display.Javascript object>"
      ]
     },
     "metadata": {},
     "output_type": "display_data"
    }
   ],
   "source": [
    "concept_select"
   ]
  },
  {
   "cell_type": "code",
   "execution_count": 25,
   "metadata": {},
   "outputs": [
    {
     "data": {
      "text/plain": [
       "90"
      ]
     },
     "execution_count": 25,
     "metadata": {},
     "output_type": "execute_result"
    },
    {
     "data": {
      "application/javascript": [
       "\n",
       "            setTimeout(function() {\n",
       "                var nbb_cell_id = 25;\n",
       "                var nbb_unformatted_code = \"len(concept_select)\";\n",
       "                var nbb_formatted_code = \"len(concept_select)\";\n",
       "                var nbb_cells = Jupyter.notebook.get_cells();\n",
       "                for (var i = 0; i < nbb_cells.length; ++i) {\n",
       "                    if (nbb_cells[i].input_prompt_number == nbb_cell_id) {\n",
       "                        if (nbb_cells[i].get_text() == nbb_unformatted_code) {\n",
       "                             nbb_cells[i].set_text(nbb_formatted_code);\n",
       "                        }\n",
       "                        break;\n",
       "                    }\n",
       "                }\n",
       "            }, 500);\n",
       "            "
      ],
      "text/plain": [
       "<IPython.core.display.Javascript object>"
      ]
     },
     "metadata": {},
     "output_type": "display_data"
    }
   ],
   "source": [
    "len(concept_select)"
   ]
  },
  {
   "cell_type": "code",
   "execution_count": 26,
   "metadata": {},
   "outputs": [
    {
     "data": {
      "text/plain": [
       "(tensor([43998]), tensor([143550]))"
      ]
     },
     "execution_count": 26,
     "metadata": {},
     "output_type": "execute_result"
    },
    {
     "data": {
      "application/javascript": [
       "\n",
       "            setTimeout(function() {\n",
       "                var nbb_cell_id = 26;\n",
       "                var nbb_unformatted_code = \"y_gt_tr = torch.load(os.path.join(path, \\\"dataset_g\\\", f\\\"train_class_labels.pt\\\"))\\n(y_gt_tr == 1).sum(dim=0), (y_gt_tr == 0).sum(dim=0)\";\n",
       "                var nbb_formatted_code = \"y_gt_tr = torch.load(os.path.join(path, \\\"dataset_g\\\", f\\\"train_class_labels.pt\\\"))\\n(y_gt_tr == 1).sum(dim=0), (y_gt_tr == 0).sum(dim=0)\";\n",
       "                var nbb_cells = Jupyter.notebook.get_cells();\n",
       "                for (var i = 0; i < nbb_cells.length; ++i) {\n",
       "                    if (nbb_cells[i].input_prompt_number == nbb_cell_id) {\n",
       "                        if (nbb_cells[i].get_text() == nbb_unformatted_code) {\n",
       "                             nbb_cells[i].set_text(nbb_formatted_code);\n",
       "                        }\n",
       "                        break;\n",
       "                    }\n",
       "                }\n",
       "            }, 500);\n",
       "            "
      ],
      "text/plain": [
       "<IPython.core.display.Javascript object>"
      ]
     },
     "metadata": {},
     "output_type": "display_data"
    }
   ],
   "source": [
    "y_gt_tr = torch.load(os.path.join(path, \"dataset_g\", f\"train_class_labels.pt\"))\n",
    "(y_gt_tr == 1).sum(dim=0), (y_gt_tr == 0).sum(dim=0)"
   ]
  },
  {
   "cell_type": "code",
   "execution_count": 28,
   "metadata": {},
   "outputs": [
    {
     "data": {
      "text/plain": [
       "0.23459593951702118"
      ]
     },
     "execution_count": 28,
     "metadata": {},
     "output_type": "execute_result"
    },
    {
     "data": {
      "application/javascript": [
       "\n",
       "            setTimeout(function() {\n",
       "                var nbb_cell_id = 28;\n",
       "                var nbb_unformatted_code = \"((y_gt_tr == 1).sum(dim=0) / y_gt_tr.size(0)).item()\";\n",
       "                var nbb_formatted_code = \"((y_gt_tr == 1).sum(dim=0) / y_gt_tr.size(0)).item()\";\n",
       "                var nbb_cells = Jupyter.notebook.get_cells();\n",
       "                for (var i = 0; i < nbb_cells.length; ++i) {\n",
       "                    if (nbb_cells[i].input_prompt_number == nbb_cell_id) {\n",
       "                        if (nbb_cells[i].get_text() == nbb_unformatted_code) {\n",
       "                             nbb_cells[i].set_text(nbb_formatted_code);\n",
       "                        }\n",
       "                        break;\n",
       "                    }\n",
       "                }\n",
       "            }, 500);\n",
       "            "
      ],
      "text/plain": [
       "<IPython.core.display.Javascript object>"
      ]
     },
     "metadata": {},
     "output_type": "display_data"
    }
   ],
   "source": [
    "((y_gt_tr == 1).sum(dim=0) / y_gt_tr.size(0)).item()"
   ]
  }
 ],
 "metadata": {
  "kernelspec": {
   "display_name": "python_3_7",
   "language": "python",
   "name": "python_3_7"
  },
  "language_info": {
   "codemirror_mode": {
    "name": "ipython",
    "version": 3
   },
   "file_extension": ".py",
   "mimetype": "text/x-python",
   "name": "python",
   "nbconvert_exporter": "python",
   "pygments_lexer": "ipython3",
   "version": "3.7.11"
  }
 },
 "nbformat": 4,
 "nbformat_minor": 4
}
