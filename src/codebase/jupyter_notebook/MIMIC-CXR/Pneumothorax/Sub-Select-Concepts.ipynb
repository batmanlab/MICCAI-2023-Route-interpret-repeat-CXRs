{
 "cells": [
  {
   "cell_type": "code",
   "execution_count": 3,
   "metadata": {},
   "outputs": [
    {
     "name": "stdout",
     "output_type": "stream",
     "text": [
      "The nb_black extension is already loaded. To reload it, use:\n",
      "  %reload_ext nb_black\n"
     ]
    },
    {
     "data": {
      "application/javascript": [
       "\n",
       "            setTimeout(function() {\n",
       "                var nbb_cell_id = 3;\n",
       "                var nbb_unformatted_code = \"%load_ext nb_black\\n\\nimport os\\nimport sys\\n\\nsys.path.append(\\n    os.path.abspath(\\\"/ocean/projects/asc170022p/shg121/PhD/ICLR-2022/codebase\\\")\\n)\\nimport torch.backends.cudnn as cudnn\\nimport random\\nfrom datetime import datetime\\nimport time\\nfrom collections import OrderedDict\\nimport pickle\\nimport numpy as np\\nimport pandas as pd\\nimport torch\\nimport torch.nn.functional as F\\nfrom torch.utils.data import DataLoader\\nfrom tqdm import tqdm\\nfrom torch.nn.functional import one_hot\\nimport utils\\n\\nfrom Explainer.loss_F import loss_fn_kd, entropy_loss\\nfrom Explainer.models.Gated_Logic_Net import Gated_Logic_Net\\nfrom Explainer.models.explainer import Explainer\\nfrom Explainer.models.pi import Pi\\nfrom dataset.dataset_cubs import Dataset_cub_for_explainer\\nfrom dataset.utils_dataset import get_dataset_with_image_and_attributes\\nfrom Explainer.loss_F import loss_fn_kd, entropy_loss, Selective_Distillation_Loss\\nfrom Explainer.models.concepts import Conceptizator\\nimport jupyter_notebook.stats_t as stats\\nimport matplotlib.pyplot as plt\\nimport warnings\\nimport sklearn.metrics as metrics\\n\\n# from ipython_utils import cal_acc, show_results\\nfrom ipywidgets import interact, interactive, fixed, interact_manual\\nfrom scipy.stats import percentileofscore\\nfrom sklearn.metrics import roc_auc_score, accuracy_score\\n\\nwarnings.filterwarnings(\\\"ignore\\\")\";\n",
       "                var nbb_formatted_code = \"%load_ext nb_black\\n\\nimport os\\nimport sys\\n\\nsys.path.append(\\n    os.path.abspath(\\\"/ocean/projects/asc170022p/shg121/PhD/ICLR-2022/codebase\\\")\\n)\\nimport torch.backends.cudnn as cudnn\\nimport random\\nfrom datetime import datetime\\nimport time\\nfrom collections import OrderedDict\\nimport pickle\\nimport numpy as np\\nimport pandas as pd\\nimport torch\\nimport torch.nn.functional as F\\nfrom torch.utils.data import DataLoader\\nfrom tqdm import tqdm\\nfrom torch.nn.functional import one_hot\\nimport utils\\n\\nfrom Explainer.loss_F import loss_fn_kd, entropy_loss\\nfrom Explainer.models.Gated_Logic_Net import Gated_Logic_Net\\nfrom Explainer.models.explainer import Explainer\\nfrom Explainer.models.pi import Pi\\nfrom dataset.dataset_cubs import Dataset_cub_for_explainer\\nfrom dataset.utils_dataset import get_dataset_with_image_and_attributes\\nfrom Explainer.loss_F import loss_fn_kd, entropy_loss, Selective_Distillation_Loss\\nfrom Explainer.models.concepts import Conceptizator\\nimport jupyter_notebook.stats_t as stats\\nimport matplotlib.pyplot as plt\\nimport warnings\\nimport sklearn.metrics as metrics\\n\\n# from ipython_utils import cal_acc, show_results\\nfrom ipywidgets import interact, interactive, fixed, interact_manual\\nfrom scipy.stats import percentileofscore\\nfrom sklearn.metrics import roc_auc_score, accuracy_score\\n\\nwarnings.filterwarnings(\\\"ignore\\\")\";\n",
       "                var nbb_cells = Jupyter.notebook.get_cells();\n",
       "                for (var i = 0; i < nbb_cells.length; ++i) {\n",
       "                    if (nbb_cells[i].input_prompt_number == nbb_cell_id) {\n",
       "                        if (nbb_cells[i].get_text() == nbb_unformatted_code) {\n",
       "                             nbb_cells[i].set_text(nbb_formatted_code);\n",
       "                        }\n",
       "                        break;\n",
       "                    }\n",
       "                }\n",
       "            }, 500);\n",
       "            "
      ],
      "text/plain": [
       "<IPython.core.display.Javascript object>"
      ]
     },
     "metadata": {},
     "output_type": "display_data"
    }
   ],
   "source": [
    "%load_ext nb_black\n",
    "\n",
    "import os\n",
    "import sys\n",
    "\n",
    "sys.path.append(\n",
    "    os.path.abspath(\"/ocean/projects/asc170022p/shg121/PhD/ICLR-2022/codebase\")\n",
    ")\n",
    "import torch.backends.cudnn as cudnn\n",
    "import random\n",
    "from datetime import datetime\n",
    "import time\n",
    "from collections import OrderedDict\n",
    "import pickle\n",
    "import numpy as np\n",
    "import pandas as pd\n",
    "import torch\n",
    "import torch.nn.functional as F\n",
    "from torch.utils.data import DataLoader\n",
    "from tqdm import tqdm\n",
    "from torch.nn.functional import one_hot\n",
    "import utils\n",
    "\n",
    "from Explainer.loss_F import loss_fn_kd, entropy_loss\n",
    "from Explainer.models.Gated_Logic_Net import Gated_Logic_Net\n",
    "from Explainer.models.explainer import Explainer\n",
    "from Explainer.models.pi import Pi\n",
    "from dataset.dataset_cubs import Dataset_cub_for_explainer\n",
    "from dataset.utils_dataset import get_dataset_with_image_and_attributes\n",
    "from Explainer.loss_F import loss_fn_kd, entropy_loss, Selective_Distillation_Loss\n",
    "from Explainer.models.concepts import Conceptizator\n",
    "import jupyter_notebook.stats_t as stats\n",
    "import matplotlib.pyplot as plt\n",
    "import warnings\n",
    "import sklearn.metrics as metrics\n",
    "\n",
    "# from ipython_utils import cal_acc, show_results\n",
    "from ipywidgets import interact, interactive, fixed, interact_manual\n",
    "from scipy.stats import percentileofscore\n",
    "from sklearn.metrics import roc_auc_score, accuracy_score\n",
    "\n",
    "warnings.filterwarnings(\"ignore\")"
   ]
  },
  {
   "cell_type": "code",
   "execution_count": 4,
   "metadata": {},
   "outputs": [
    {
     "name": "stdout",
     "output_type": "stream",
     "text": [
      "torch.Size([24072, 107]) torch.Size([24072, 107]) torch.Size([24072, 107]) torch.Size([48144]) torch.Size([24072, 1])\n",
      "\n",
      "torch.Size([187548, 107]) torch.Size([187548, 107]) torch.Size([187548, 107]) torch.Size([375096]) torch.Size([187548, 1])\n",
      "\n",
      "torch.Size([23449, 107]) torch.Size([23449, 107]) torch.Size([23449, 107]) torch.Size([46898]) torch.Size([23449, 1])\n"
     ]
    },
    {
     "data": {
      "application/javascript": [
       "\n",
       "            setTimeout(function() {\n",
       "                var nbb_cell_id = 4;\n",
       "                var nbb_unformatted_code = \"disease = \\\"pneumothorax\\\"\\npath = f\\\"/ocean/projects/asc170022p/shg121/PhD/ICLR-2022/out/mimic_cxr/t/lr_0.01_epochs_60_loss_BCE_W_flattening_type_flatten_layer_features_denseblock4/densenet121/{disease}\\\"\\ntest_attr = torch.load(os.path.join(path, \\\"dataset_g\\\", \\\"test_attributes.pt\\\"))\\ntest_proba_concept = torch.load(os.path.join(path, \\\"dataset_g\\\", \\\"test_proba_concepts.pt\\\"))\\ntest_logits_concept = torch.load(os.path.join(path, \\\"dataset_g\\\", \\\"test_logits_concepts.pt\\\"))\\ntest_logits_bb = torch.load(os.path.join(path, \\\"dataset_g\\\", \\\"test_logits_bb.pt\\\"))\\ntest_class_labels = torch.load(os.path.join(path, \\\"dataset_g\\\", \\\"test_class_labels.pt\\\"))\\n\\ntrain_attr = torch.load(os.path.join(path, \\\"dataset_g\\\", \\\"train_attributes.pt\\\"))\\ntrain_proba_concept = torch.load(os.path.join(path, \\\"dataset_g\\\", \\\"train_proba_concepts.pt\\\"))\\ntrain_logits_concept = torch.load(os.path.join(path, \\\"dataset_g\\\", \\\"train_logits_concepts.pt\\\"))\\ntrain_logits_bb = torch.load(os.path.join(path, \\\"dataset_g\\\", \\\"train_logits_bb.pt\\\"))\\ntrain_class_labels = torch.load(os.path.join(path, \\\"dataset_g\\\", \\\"train_class_labels.pt\\\"))\\n\\nval_attr = torch.load(os.path.join(path, \\\"dataset_g\\\", \\\"val_attributes.pt\\\"))\\nval_proba_concept = torch.load(os.path.join(path, \\\"dataset_g\\\", \\\"val_proba_concepts.pt\\\"))\\nval_logits_concept = torch.load(os.path.join(path, \\\"dataset_g\\\", \\\"val_logits_concepts.pt\\\"))\\nval_logits_bb = torch.load(os.path.join(path, \\\"dataset_g\\\", \\\"val_logits_bb.pt\\\"))\\nval_class_labels = torch.load(os.path.join(path, \\\"dataset_g\\\", \\\"val_class_labels.pt\\\"))\\n\\nprint(\\n    test_attr.size(), test_proba_concept.size(), test_logits_concept.size(),\\n    test_logits_bb.size(), test_class_labels.size()\\n)\\nprint()\\nprint(\\n    train_attr.size(), train_proba_concept.size(), train_logits_concept.size(),\\n    train_logits_bb.size(), train_class_labels.size()\\n)\\nprint()\\nprint(\\n    val_attr.size(), val_proba_concept.size(), val_logits_concept.size(),\\n    val_logits_bb.size(), val_class_labels.size()\\n)\\n\\nwith open(os.path.join(path, \\\"MIMIC_test_configs.pkl\\\"), \\\"rb\\\") as input_file:\\n    args = pickle.load(input_file)\\n\\nconcepts = args.landmark_names_spec + args.abnorm_obs_concepts\";\n",
       "                var nbb_formatted_code = \"disease = \\\"pneumothorax\\\"\\npath = f\\\"/ocean/projects/asc170022p/shg121/PhD/ICLR-2022/out/mimic_cxr/t/lr_0.01_epochs_60_loss_BCE_W_flattening_type_flatten_layer_features_denseblock4/densenet121/{disease}\\\"\\ntest_attr = torch.load(os.path.join(path, \\\"dataset_g\\\", \\\"test_attributes.pt\\\"))\\ntest_proba_concept = torch.load(\\n    os.path.join(path, \\\"dataset_g\\\", \\\"test_proba_concepts.pt\\\")\\n)\\ntest_logits_concept = torch.load(\\n    os.path.join(path, \\\"dataset_g\\\", \\\"test_logits_concepts.pt\\\")\\n)\\ntest_logits_bb = torch.load(os.path.join(path, \\\"dataset_g\\\", \\\"test_logits_bb.pt\\\"))\\ntest_class_labels = torch.load(os.path.join(path, \\\"dataset_g\\\", \\\"test_class_labels.pt\\\"))\\n\\ntrain_attr = torch.load(os.path.join(path, \\\"dataset_g\\\", \\\"train_attributes.pt\\\"))\\ntrain_proba_concept = torch.load(\\n    os.path.join(path, \\\"dataset_g\\\", \\\"train_proba_concepts.pt\\\")\\n)\\ntrain_logits_concept = torch.load(\\n    os.path.join(path, \\\"dataset_g\\\", \\\"train_logits_concepts.pt\\\")\\n)\\ntrain_logits_bb = torch.load(os.path.join(path, \\\"dataset_g\\\", \\\"train_logits_bb.pt\\\"))\\ntrain_class_labels = torch.load(\\n    os.path.join(path, \\\"dataset_g\\\", \\\"train_class_labels.pt\\\")\\n)\\n\\nval_attr = torch.load(os.path.join(path, \\\"dataset_g\\\", \\\"val_attributes.pt\\\"))\\nval_proba_concept = torch.load(os.path.join(path, \\\"dataset_g\\\", \\\"val_proba_concepts.pt\\\"))\\nval_logits_concept = torch.load(\\n    os.path.join(path, \\\"dataset_g\\\", \\\"val_logits_concepts.pt\\\")\\n)\\nval_logits_bb = torch.load(os.path.join(path, \\\"dataset_g\\\", \\\"val_logits_bb.pt\\\"))\\nval_class_labels = torch.load(os.path.join(path, \\\"dataset_g\\\", \\\"val_class_labels.pt\\\"))\\n\\nprint(\\n    test_attr.size(),\\n    test_proba_concept.size(),\\n    test_logits_concept.size(),\\n    test_logits_bb.size(),\\n    test_class_labels.size(),\\n)\\nprint()\\nprint(\\n    train_attr.size(),\\n    train_proba_concept.size(),\\n    train_logits_concept.size(),\\n    train_logits_bb.size(),\\n    train_class_labels.size(),\\n)\\nprint()\\nprint(\\n    val_attr.size(),\\n    val_proba_concept.size(),\\n    val_logits_concept.size(),\\n    val_logits_bb.size(),\\n    val_class_labels.size(),\\n)\\n\\nwith open(os.path.join(path, \\\"MIMIC_test_configs.pkl\\\"), \\\"rb\\\") as input_file:\\n    args = pickle.load(input_file)\\n\\nconcepts = args.landmark_names_spec + args.abnorm_obs_concepts\";\n",
       "                var nbb_cells = Jupyter.notebook.get_cells();\n",
       "                for (var i = 0; i < nbb_cells.length; ++i) {\n",
       "                    if (nbb_cells[i].input_prompt_number == nbb_cell_id) {\n",
       "                        if (nbb_cells[i].get_text() == nbb_unformatted_code) {\n",
       "                             nbb_cells[i].set_text(nbb_formatted_code);\n",
       "                        }\n",
       "                        break;\n",
       "                    }\n",
       "                }\n",
       "            }, 500);\n",
       "            "
      ],
      "text/plain": [
       "<IPython.core.display.Javascript object>"
      ]
     },
     "metadata": {},
     "output_type": "display_data"
    }
   ],
   "source": [
    "disease = \"pneumothorax\"\n",
    "path = f\"/ocean/projects/asc170022p/shg121/PhD/ICLR-2022/out/mimic_cxr/t/lr_0.01_epochs_60_loss_BCE_W_flattening_type_flatten_layer_features_denseblock4/densenet121/{disease}\"\n",
    "test_attr = torch.load(os.path.join(path, \"dataset_g\", \"test_attributes.pt\"))\n",
    "test_proba_concept = torch.load(os.path.join(path, \"dataset_g\", \"test_proba_concepts.pt\"))\n",
    "test_logits_concept = torch.load(os.path.join(path, \"dataset_g\", \"test_logits_concepts.pt\"))\n",
    "test_logits_bb = torch.load(os.path.join(path, \"dataset_g\", \"test_logits_bb.pt\"))\n",
    "test_class_labels = torch.load(os.path.join(path, \"dataset_g\", \"test_class_labels.pt\"))\n",
    "\n",
    "train_attr = torch.load(os.path.join(path, \"dataset_g\", \"train_attributes.pt\"))\n",
    "train_proba_concept = torch.load(os.path.join(path, \"dataset_g\", \"train_proba_concepts.pt\"))\n",
    "train_logits_concept = torch.load(os.path.join(path, \"dataset_g\", \"train_logits_concepts.pt\"))\n",
    "train_logits_bb = torch.load(os.path.join(path, \"dataset_g\", \"train_logits_bb.pt\"))\n",
    "train_class_labels = torch.load(os.path.join(path, \"dataset_g\", \"train_class_labels.pt\"))\n",
    "\n",
    "val_attr = torch.load(os.path.join(path, \"dataset_g\", \"val_attributes.pt\"))\n",
    "val_proba_concept = torch.load(os.path.join(path, \"dataset_g\", \"val_proba_concepts.pt\"))\n",
    "val_logits_concept = torch.load(os.path.join(path, \"dataset_g\", \"val_logits_concepts.pt\"))\n",
    "val_logits_bb = torch.load(os.path.join(path, \"dataset_g\", \"val_logits_bb.pt\"))\n",
    "val_class_labels = torch.load(os.path.join(path, \"dataset_g\", \"val_class_labels.pt\"))\n",
    "\n",
    "print(\n",
    "    test_attr.size(), test_proba_concept.size(), test_logits_concept.size(),\n",
    "    test_logits_bb.size(), test_class_labels.size()\n",
    ")\n",
    "print()\n",
    "print(\n",
    "    train_attr.size(), train_proba_concept.size(), train_logits_concept.size(),\n",
    "    train_logits_bb.size(), train_class_labels.size()\n",
    ")\n",
    "print()\n",
    "print(\n",
    "    val_attr.size(), val_proba_concept.size(), val_logits_concept.size(),\n",
    "    val_logits_bb.size(), val_class_labels.size()\n",
    ")\n",
    "\n",
    "with open(os.path.join(path, \"MIMIC_test_configs.pkl\"), \"rb\") as input_file:\n",
    "    args = pickle.load(input_file)\n",
    "\n",
    "concepts = args.landmark_names_spec + args.abnorm_obs_concepts\n"
   ]
  },
  {
   "cell_type": "code",
   "execution_count": null,
   "metadata": {},
   "outputs": [],
   "source": []
  },
  {
   "cell_type": "code",
   "execution_count": null,
   "metadata": {},
   "outputs": [],
   "source": []
  },
  {
   "cell_type": "code",
   "execution_count": 5,
   "metadata": {},
   "outputs": [
    {
     "name": "stdout",
     "output_type": "stream",
     "text": [
      "hilar_unspec(3), auroc: 0.7243690504590226, recall: 0.509771986970684\n",
      "left_pleural(4), auroc: 0.8210022858236588, recall: 0.6498815165876777\n",
      "right_pleural(5), auroc: 0.8473309288911895, recall: 0.6885428253615128\n",
      "pleural_unspec(6), auroc: 0.8039039099339746, recall: 0.7406986651519455\n",
      "heart_size(7), auroc: 0.7254066447315376, recall: 0.530560271646859\n",
      "left_diaphragm(9), auroc: 0.7898331118785493, recall: 0.5686746987951807\n",
      "right_diaphragm(10), auroc: 0.7923464089596887, recall: 0.5469061876247505\n",
      "diaphragm_unspec(11), auroc: 0.7631909798081906, recall: 0.5470085470085471\n",
      "retrocardiac(12), auroc: 0.7285734222361582, recall: 0.46234153616703955\n",
      "upper_right_lobe(17), auroc: 0.7296862824634855, recall: 0.453781512605042\n",
      "left_apical_lung(21), auroc: 0.7873661117913936, recall: 0.532258064516129\n",
      "left_lung_unspec(22), auroc: 0.7250863950397237, recall: 0.4330042313117066\n",
      "right_upper_lung(25), auroc: 0.7049597323852506, recall: 0.3624161073825503\n",
      "right_apical_lung(26), auroc: 0.8119883892502769, recall: 0.5612009237875288\n",
      "right_lung_unspec(27), auroc: 0.7439126247716589, recall: 0.6135163674762407\n",
      "lung_apices(28), auroc: 0.7149016472368376, recall: 0.3941798941798942\n",
      "lung_bases(29), auroc: 0.7203078675656991, recall: 0.5601384482261321\n",
      "mediastinal(34), auroc: 0.7056998454535762, recall: 0.6114023591087812\n",
      "spine(35), auroc: 0.7352972140034214, recall: 0.4706457925636008\n",
      "right_atrium(37), auroc: 0.8513696867780602, recall: 0.6441176470588236\n",
      "right_ventricle(38), auroc: 0.9666178392448265, recall: 0.8433544303797469\n",
      "aorta(39), auroc: 0.7846517671012301, recall: 0.622883295194508\n",
      "svc(40), auroc: 0.7490489004821902, recall: 0.5612549800796812\n",
      "interstitium(41), auroc: 0.7889264216232295, recall: 0.48286604361370716\n",
      "parenchymal(42), auroc: 0.7739749669501079, recall: 0.5158102766798419\n",
      "cavoatrial_junction(43), auroc: 0.7350298325995104, recall: 0.4294478527607362\n",
      "stomach(44), auroc: 0.8444856172999557, recall: 0.6741258741258741\n",
      "effusion(46), auroc: 0.8708536111841048, recall: 0.7922738054896645\n",
      "edema(48), auroc: 0.8498213496565447, recall: 0.7034646739130435\n",
      "atelectasis(49), auroc: 0.7201539174816505, recall: 0.6449353448275862\n",
      "tube(50), auroc: 0.9331540991948584, recall: 0.8171378091872792\n",
      "consolidation(51), auroc: 0.7206467755375484, recall: 0.5136476426799007\n",
      "process(52), auroc: 0.7365761367214503, recall: 0.45652173913043476\n",
      "abnormality(53), auroc: 0.7232561548252121, recall: 0.5268817204301075\n",
      "enlarge(54), auroc: 0.7361684989088454, recall: 0.562844880441447\n",
      "tip(55), auroc: 0.7766201476324675, recall: 0.6203737632832539\n",
      "low(56), auroc: 0.8471378205967448, recall: 0.7425249169435216\n",
      "line(57), auroc: 0.7961315303022239, recall: 0.6489093959731543\n",
      "congestion(58), auroc: 0.7655812077830425, recall: 0.6342857142857142\n",
      "catheter(59), auroc: 0.7898763042778261, recall: 0.6439046746104491\n",
      "cardiomegaly(60), auroc: 0.7834928506069921, recall: 0.6579710144927536\n",
      "air(62), auroc: 0.7825338102352888, recall: 0.5305164319248826\n",
      "tortuous(63), auroc: 0.8204452468884987, recall: 0.6155844155844156\n",
      "lead(64), auroc: 0.954855259670766, recall: 0.8412438625204582\n",
      "disease(65), auroc: 0.7537504540642042, recall: 0.4815950920245399\n",
      "calcification(66), auroc: 0.7638027121024197, recall: 0.4937888198757764\n",
      "device(68), auroc: 0.8579619945377622, recall: 0.7440246723207402\n",
      "engorgement(69), auroc: 0.740317115684921, recall: 0.4534653465346535\n",
      "picc(70), auroc: 0.7323670621965664, recall: 0.398981324278438\n",
      "elevation(72), auroc: 0.7312233003488355, recall: 0.5336021505376344\n",
      "wire(74), auroc: 0.9013929526014967, recall: 0.7756613756613756\n",
      "fluid(75), auroc: 0.7292861993641093, recall: 0.44478063540090773\n",
      "degenerative(76), auroc: 0.7778951792603236, recall: 0.540084388185654\n",
      "pacemaker(77), auroc: 0.9653046994708978, recall: 0.8647764449291166\n",
      "marking(79), auroc: 0.7385143638332057, recall: 0.5609756097560976\n",
      "scar(80), auroc: 0.7628839524180941, recall: 0.5714285714285714\n",
      "widen(83), auroc: 0.7396849346341567, recall: 0.5314009661835749\n",
      "collapse(84), auroc: 0.8097713234757027, recall: 0.5549295774647888\n",
      "emphysema(86), auroc: 0.8540233263067023, recall: 0.6543535620052771\n",
      "mass(88), auroc: 0.7491214779564915, recall: 0.4482758620689655\n",
      "crowd(89), auroc: 0.8229649385224695, recall: 0.5755555555555556\n",
      "infiltrate(90), auroc: 0.714827391316398, recall: 0.3025210084033613\n",
      "obscure(91), auroc: 0.7140202193957929, recall: 0.4071969696969697\n",
      "deformity(92), auroc: 0.7504449278589523, recall: 0.523121387283237\n",
      "hernia(93), auroc: 0.8011493567840083, recall: 0.5043859649122807\n",
      "drainage(94), auroc: 0.7829344896539733, recall: 0.5601851851851852\n",
      "distention(95), auroc: 0.7830741066812001, recall: 0.6484018264840182\n",
      "shift(96), auroc: 0.8633078086239108, recall: 0.6866952789699571\n",
      "pressure(98), auroc: 0.7469732180337503, recall: 0.464\n",
      "chf(104), auroc: 0.7688034142093891, recall: 0.5154639175257731\n",
      "70\n"
     ]
    },
    {
     "data": {
      "text/plain": [
       "(0.7833196217943171, 0.5743351947822175)"
      ]
     },
     "execution_count": 5,
     "metadata": {},
     "output_type": "execute_result"
    },
    {
     "data": {
      "application/javascript": [
       "\n",
       "            setTimeout(function() {\n",
       "                var nbb_cell_id = 5;\n",
       "                var nbb_unformatted_code = \"data_GT = test_attr.cpu().numpy()\\ndata_PRED = test_proba_concept.cpu().numpy()\\ny_pred = np.where(data_PRED > 0.5, 1, 0)\\nsub_auroc = []\\nsub_recall = []\\nall_auroc = []\\ncnt = 0\\nfor i in range(len(concepts)):\\n    auroc_val = metrics.roc_auc_score(data_GT[:, i], data_PRED[:, i])\\n    recall_val = metrics.recall_score(data_GT[:, i], y_pred[:, i])\\n    all_auroc.append(auroc_val)\\n    if auroc_val >= 0.7:\\n        print(f\\\"{concepts[i]}({i}), auroc: {auroc_val}, recall: {recall_val}\\\")\\n        sub_auroc.append(auroc_val)\\n        sub_recall.append(recall_val)\\n        cnt += 1\\n\\nprint(cnt)\\nnp.mean(np.array(sub_auroc)), np.mean(np.array(sub_recall))\";\n",
       "                var nbb_formatted_code = \"data_GT = test_attr.cpu().numpy()\\ndata_PRED = test_proba_concept.cpu().numpy()\\ny_pred = np.where(data_PRED > 0.5, 1, 0)\\nsub_auroc = []\\nsub_recall = []\\nall_auroc = []\\ncnt = 0\\nfor i in range(len(concepts)):\\n    auroc_val = metrics.roc_auc_score(data_GT[:, i], data_PRED[:, i])\\n    recall_val = metrics.recall_score(data_GT[:, i], y_pred[:, i])\\n    all_auroc.append(auroc_val)\\n    if auroc_val >= 0.7:\\n        print(f\\\"{concepts[i]}({i}), auroc: {auroc_val}, recall: {recall_val}\\\")\\n        sub_auroc.append(auroc_val)\\n        sub_recall.append(recall_val)\\n        cnt += 1\\n\\nprint(cnt)\\nnp.mean(np.array(sub_auroc)), np.mean(np.array(sub_recall))\";\n",
       "                var nbb_cells = Jupyter.notebook.get_cells();\n",
       "                for (var i = 0; i < nbb_cells.length; ++i) {\n",
       "                    if (nbb_cells[i].input_prompt_number == nbb_cell_id) {\n",
       "                        if (nbb_cells[i].get_text() == nbb_unformatted_code) {\n",
       "                             nbb_cells[i].set_text(nbb_formatted_code);\n",
       "                        }\n",
       "                        break;\n",
       "                    }\n",
       "                }\n",
       "            }, 500);\n",
       "            "
      ],
      "text/plain": [
       "<IPython.core.display.Javascript object>"
      ]
     },
     "metadata": {},
     "output_type": "display_data"
    }
   ],
   "source": [
    "data_GT = test_attr.cpu().numpy()\n",
    "data_PRED = test_proba_concept.cpu().numpy()\n",
    "y_pred = np.where(data_PRED > 0.5, 1, 0)\n",
    "sub_auroc = []\n",
    "sub_recall = []\n",
    "all_auroc = []\n",
    "cnt = 0\n",
    "for i in range(len(concepts)):\n",
    "    auroc_val = metrics.roc_auc_score(data_GT[:, i], data_PRED[:, i])\n",
    "    recall_val = metrics.recall_score(data_GT[:, i], y_pred[:, i])\n",
    "    all_auroc.append(auroc_val)\n",
    "    if auroc_val >= 0.7:\n",
    "        print(f\"{concepts[i]}({i}), auroc: {auroc_val}, recall: {recall_val}\")\n",
    "        sub_auroc.append(auroc_val)\n",
    "        sub_recall.append(recall_val)\n",
    "        cnt += 1\n",
    "\n",
    "print(cnt)\n",
    "np.mean(np.array(sub_auroc)), np.mean(np.array(sub_recall))"
   ]
  },
  {
   "cell_type": "code",
   "execution_count": 6,
   "metadata": {},
   "outputs": [
    {
     "data": {
      "text/plain": [
       "(tensor(70), torch.Size([107]))"
      ]
     },
     "execution_count": 6,
     "metadata": {},
     "output_type": "execute_result"
    },
    {
     "data": {
      "application/javascript": [
       "\n",
       "            setTimeout(function() {\n",
       "                var nbb_cell_id = 6;\n",
       "                var nbb_unformatted_code = \"mask_select = np.array(all_auroc) >= 0.7\\n\\ntorch_mask = torch.from_numpy(mask_select)\\ntorch_mask.sum(), torch_mask.size()\";\n",
       "                var nbb_formatted_code = \"mask_select = np.array(all_auroc) >= 0.7\\n\\ntorch_mask = torch.from_numpy(mask_select)\\ntorch_mask.sum(), torch_mask.size()\";\n",
       "                var nbb_cells = Jupyter.notebook.get_cells();\n",
       "                for (var i = 0; i < nbb_cells.length; ++i) {\n",
       "                    if (nbb_cells[i].input_prompt_number == nbb_cell_id) {\n",
       "                        if (nbb_cells[i].get_text() == nbb_unformatted_code) {\n",
       "                             nbb_cells[i].set_text(nbb_formatted_code);\n",
       "                        }\n",
       "                        break;\n",
       "                    }\n",
       "                }\n",
       "            }, 500);\n",
       "            "
      ],
      "text/plain": [
       "<IPython.core.display.Javascript object>"
      ]
     },
     "metadata": {},
     "output_type": "display_data"
    }
   ],
   "source": [
    "mask_select = np.array(all_auroc) >= 0.7\n",
    "\n",
    "torch_mask = torch.from_numpy(mask_select)\n",
    "torch_mask.sum(), torch_mask.size()"
   ]
  },
  {
   "cell_type": "code",
   "execution_count": 7,
   "metadata": {},
   "outputs": [
    {
     "name": "stdout",
     "output_type": "stream",
     "text": [
      "trachea(0), auroc: 0.6380706811002521, recall: 0.29411764705882354\n",
      "left_hilar(1), auroc: 0.6863510588020063, recall: 0.36818181818181817\n",
      "right_hilar(2), auroc: 0.6521003210636784, recall: 0.3333333333333333\n",
      "heart_border(8), auroc: 0.5947715240503342, recall: 0.24352331606217617\n",
      "lower_left_lobe(13), auroc: 0.6968755014783657, recall: 0.5125709651257097\n",
      "upper_left_lobe(14), auroc: 0.6722628191987523, recall: 0.41534391534391535\n",
      "lower_right_lobe(15), auroc: 0.6677254055916666, recall: 0.3804945054945055\n",
      "middle_right_lobe(16), auroc: 0.6718327779609877, recall: 0.34705882352941175\n",
      "left_lower_lung(18), auroc: 0.6494570339445981, recall: 0.5432393693263259\n",
      "left_mid_lung(19), auroc: 0.6299225556116619, recall: 0.29441624365482233\n",
      "left_upper_lung(20), auroc: 0.6823025229983058, recall: 0.3838383838383838\n",
      "right_lower_lung(23), auroc: 0.6892314863157312, recall: 0.4742319127849356\n",
      "right_mid_lung(24), auroc: 0.6186900971849866, recall: 0.32\n",
      "left_costophrenic(30), auroc: 0.6946031785102493, recall: 0.44954128440366975\n",
      "right_costophrenic(31), auroc: 0.6664899454954705, recall: 0.26666666666666666\n",
      "costophrenic_unspec(32), auroc: 0.6841907929055817, recall: 0.37037037037037035\n",
      "cardiophrenic_sulcus(33), auroc: 0.6213740119999114, recall: 0.1702127659574468\n",
      "rib(36), auroc: 0.6722799648873646, recall: 0.40987654320987654\n",
      "clavicle(45), auroc: 0.5713576297812751, recall: 0.20408163265306123\n",
      "opacity(47), auroc: 0.6746888896286372, recall: 0.576728999703176\n",
      "fracture(61), auroc: 0.670572648571235, recall: 0.40027137042062416\n",
      "prominence(67), auroc: 0.6243901280159176, recall: 0.415819209039548\n",
      "clip(71), auroc: 0.6953273182994549, recall: 0.44950738916256155\n",
      "nodule(73), auroc: 0.6796256335350725, recall: 0.30547550432276654\n",
      "thicken(78), auroc: 0.6943675925458398, recall: 0.3865979381443299\n",
      "blunt(81), auroc: 0.6818630909186582, recall: 0.4982014388489209\n",
      "loss(82), auroc: 0.6906051332478256, recall: 0.40176991150442476\n",
      "density(85), auroc: 0.5619507944690538, recall: 0.3908872901678657\n",
      "aerate(87), auroc: 0.6825931325783222, recall: 0.4159090909090909\n",
      "stent(97), auroc: 0.5999979443659783, recall: 0.24897959183673468\n",
      "lesion(99), auroc: 0.6695052126837621, recall: 0.4140625\n",
      "finding(100), auroc: 0.5774846349137889, recall: 0.22058823529411764\n",
      "borderline(101), auroc: 0.6510165919229343, recall: 0.3422818791946309\n",
      "hardware(102), auroc: 0.640712233102968, recall: 0.2932692307692308\n",
      "dilation(103), auroc: 0.6358037167110003, recall: 0.2876712328767123\n",
      "redistribution(105), auroc: 0.6913367321366, recall: 0.27601809954751133\n",
      "aspiration(106), auroc: 0.6646052253372942, recall: 0.14754098360655737\n",
      "37\n"
     ]
    },
    {
     "data": {
      "text/plain": [
       "(0.7833196217943171, 0.5743351947822175)"
      ]
     },
     "execution_count": 7,
     "metadata": {},
     "output_type": "execute_result"
    },
    {
     "data": {
      "application/javascript": [
       "\n",
       "            setTimeout(function() {\n",
       "                var nbb_cell_id = 7;\n",
       "                var nbb_unformatted_code = \"data_GT = test_attr.cpu().numpy()\\ndata_PRED = test_proba_concept.cpu().numpy()\\ny_pred = np.where(data_PRED > 0.5, 1, 0)\\nbad_auroc = []\\nbad_recall = []\\ncnt = 0\\nfor i in range(len(concepts)):\\n    auroc_val = metrics.roc_auc_score(data_GT[:, i], data_PRED[:, i])\\n    recall_val = metrics.recall_score(data_GT[:, i], y_pred[:, i])\\n    if auroc_val <= 0.7:\\n        print(f\\\"{concepts[i]}({i}), auroc: {auroc_val}, recall: {recall_val}\\\")\\n        cnt += 1\\n        bad_auroc.append(auroc_val)\\n        bad_recall.append(recall_val)\\n\\nprint(cnt)\\nnp.mean(np.array(sub_auroc)), np.mean(np.array(sub_recall))\";\n",
       "                var nbb_formatted_code = \"data_GT = test_attr.cpu().numpy()\\ndata_PRED = test_proba_concept.cpu().numpy()\\ny_pred = np.where(data_PRED > 0.5, 1, 0)\\nbad_auroc = []\\nbad_recall = []\\ncnt = 0\\nfor i in range(len(concepts)):\\n    auroc_val = metrics.roc_auc_score(data_GT[:, i], data_PRED[:, i])\\n    recall_val = metrics.recall_score(data_GT[:, i], y_pred[:, i])\\n    if auroc_val <= 0.7:\\n        print(f\\\"{concepts[i]}({i}), auroc: {auroc_val}, recall: {recall_val}\\\")\\n        cnt += 1\\n        bad_auroc.append(auroc_val)\\n        bad_recall.append(recall_val)\\n\\nprint(cnt)\\nnp.mean(np.array(sub_auroc)), np.mean(np.array(sub_recall))\";\n",
       "                var nbb_cells = Jupyter.notebook.get_cells();\n",
       "                for (var i = 0; i < nbb_cells.length; ++i) {\n",
       "                    if (nbb_cells[i].input_prompt_number == nbb_cell_id) {\n",
       "                        if (nbb_cells[i].get_text() == nbb_unformatted_code) {\n",
       "                             nbb_cells[i].set_text(nbb_formatted_code);\n",
       "                        }\n",
       "                        break;\n",
       "                    }\n",
       "                }\n",
       "            }, 500);\n",
       "            "
      ],
      "text/plain": [
       "<IPython.core.display.Javascript object>"
      ]
     },
     "metadata": {},
     "output_type": "display_data"
    }
   ],
   "source": [
    "data_GT = test_attr.cpu().numpy()\n",
    "data_PRED = test_proba_concept.cpu().numpy()\n",
    "y_pred = np.where(data_PRED > 0.5, 1, 0)\n",
    "bad_auroc = []\n",
    "bad_recall = []\n",
    "cnt = 0\n",
    "for i in range(len(concepts)):\n",
    "    auroc_val = metrics.roc_auc_score(data_GT[:, i], data_PRED[:, i])\n",
    "    recall_val = metrics.recall_score(data_GT[:, i], y_pred[:, i])\n",
    "    if auroc_val <= 0.7:\n",
    "        print(f\"{concepts[i]}({i}), auroc: {auroc_val}, recall: {recall_val}\")\n",
    "        cnt += 1\n",
    "        bad_auroc.append(auroc_val)\n",
    "        bad_recall.append(recall_val)\n",
    "\n",
    "print(cnt)\n",
    "np.mean(np.array(sub_auroc)), np.mean(np.array(sub_recall))"
   ]
  },
  {
   "cell_type": "code",
   "execution_count": 8,
   "metadata": {},
   "outputs": [
    {
     "name": "stdout",
     "output_type": "stream",
     "text": [
      "107\n"
     ]
    },
    {
     "data": {
      "text/plain": [
       "(0.7390533596959601, 0.4995901217485915)"
      ]
     },
     "execution_count": 8,
     "metadata": {},
     "output_type": "execute_result"
    },
    {
     "data": {
      "application/javascript": [
       "\n",
       "            setTimeout(function() {\n",
       "                var nbb_cell_id = 8;\n",
       "                var nbb_unformatted_code = \"data_GT = test_attr.cpu().numpy()\\ndata_PRED = test_proba_concept.cpu().numpy()\\ny_pred = np.where(data_PRED > 0.5, 1, 0)\\nauroc = []\\nrecall = []\\nfor i in range(len(concepts)):\\n    try:\\n        auroc.append(metrics.roc_auc_score(data_GT[:, i], data_PRED[:, i]))\\n        recall.append(metrics.recall_score(data_GT[:, i], y_pred[:, i]))\\n    except ValueError:\\n        pass\\n\\nprint(len(auroc))\\n\\nmean_auroc = np.mean(np.array(auroc))\\nmean_recall = np.mean(np.array(recall))\\nmean_auroc, mean_recall\";\n",
       "                var nbb_formatted_code = \"data_GT = test_attr.cpu().numpy()\\ndata_PRED = test_proba_concept.cpu().numpy()\\ny_pred = np.where(data_PRED > 0.5, 1, 0)\\nauroc = []\\nrecall = []\\nfor i in range(len(concepts)):\\n    try:\\n        auroc.append(metrics.roc_auc_score(data_GT[:, i], data_PRED[:, i]))\\n        recall.append(metrics.recall_score(data_GT[:, i], y_pred[:, i]))\\n    except ValueError:\\n        pass\\n\\nprint(len(auroc))\\n\\nmean_auroc = np.mean(np.array(auroc))\\nmean_recall = np.mean(np.array(recall))\\nmean_auroc, mean_recall\";\n",
       "                var nbb_cells = Jupyter.notebook.get_cells();\n",
       "                for (var i = 0; i < nbb_cells.length; ++i) {\n",
       "                    if (nbb_cells[i].input_prompt_number == nbb_cell_id) {\n",
       "                        if (nbb_cells[i].get_text() == nbb_unformatted_code) {\n",
       "                             nbb_cells[i].set_text(nbb_formatted_code);\n",
       "                        }\n",
       "                        break;\n",
       "                    }\n",
       "                }\n",
       "            }, 500);\n",
       "            "
      ],
      "text/plain": [
       "<IPython.core.display.Javascript object>"
      ]
     },
     "metadata": {},
     "output_type": "display_data"
    }
   ],
   "source": [
    "data_GT = test_attr.cpu().numpy()\n",
    "data_PRED = test_proba_concept.cpu().numpy()\n",
    "y_pred = np.where(data_PRED > 0.5, 1, 0)\n",
    "auroc = []\n",
    "recall = []\n",
    "for i in range(len(concepts)):\n",
    "    try:\n",
    "        auroc.append(metrics.roc_auc_score(data_GT[:, i], data_PRED[:, i]))\n",
    "        recall.append(metrics.recall_score(data_GT[:, i], y_pred[:, i]))\n",
    "    except ValueError:\n",
    "        pass\n",
    "\n",
    "print(len(auroc))\n",
    "\n",
    "mean_auroc = np.mean(np.array(auroc))\n",
    "mean_recall = np.mean(np.array(recall))\n",
    "mean_auroc, mean_recall"
   ]
  },
  {
   "cell_type": "code",
   "execution_count": 9,
   "metadata": {},
   "outputs": [
    {
     "data": {
      "text/plain": [
       "0.7390533596959601"
      ]
     },
     "execution_count": 9,
     "metadata": {},
     "output_type": "execute_result"
    },
    {
     "data": {
      "application/javascript": [
       "\n",
       "            setTimeout(function() {\n",
       "                var nbb_cell_id = 9;\n",
       "                var nbb_unformatted_code = \"mean_auroc = np.mean(np.array(auroc))\\nmean_auroc\";\n",
       "                var nbb_formatted_code = \"mean_auroc = np.mean(np.array(auroc))\\nmean_auroc\";\n",
       "                var nbb_cells = Jupyter.notebook.get_cells();\n",
       "                for (var i = 0; i < nbb_cells.length; ++i) {\n",
       "                    if (nbb_cells[i].input_prompt_number == nbb_cell_id) {\n",
       "                        if (nbb_cells[i].get_text() == nbb_unformatted_code) {\n",
       "                             nbb_cells[i].set_text(nbb_formatted_code);\n",
       "                        }\n",
       "                        break;\n",
       "                    }\n",
       "                }\n",
       "            }, 500);\n",
       "            "
      ],
      "text/plain": [
       "<IPython.core.display.Javascript object>"
      ]
     },
     "metadata": {},
     "output_type": "display_data"
    }
   ],
   "source": [
    "mean_auroc = np.mean(np.array(auroc))\n",
    "mean_auroc"
   ]
  },
  {
   "cell_type": "code",
   "execution_count": 10,
   "metadata": {},
   "outputs": [
    {
     "name": "stdout",
     "output_type": "stream",
     "text": [
      "Test sizes: \n",
      "torch.Size([24072, 70])\n",
      "torch.Size([24072, 70])\n",
      "torch.Size([24072, 70])\n",
      "Val sizes: \n",
      "torch.Size([23449, 70])\n",
      "torch.Size([23449, 70])\n",
      "torch.Size([23449, 70])\n",
      "Train sizes: \n",
      "torch.Size([187548, 70])\n",
      "torch.Size([187548, 70])\n",
      "torch.Size([187548, 70])\n",
      "70\n"
     ]
    },
    {
     "data": {
      "application/javascript": [
       "\n",
       "            setTimeout(function() {\n",
       "                var nbb_cell_id = 10;\n",
       "                var nbb_unformatted_code = \"cnt = 0\\nth = 0.7\\nconcept_select = []\\n\\ntest_select_attr = []\\ntest_select_proba_concept = []\\ntest_select_logits_concept = []\\n\\n\\nval_select_attr = []\\nval_select_proba_concept = []\\nval_select_logits_concept = []\\n\\n\\ntrain_select_attr = []\\ntrain_select_proba_concept = []\\ntrain_select_logits_concept = []\\n\\n\\ntest_select_proba_concept = []\\nfor i in range(len(concepts)):\\n    if auroc[i] >= th:\\n        test_select_attr.append(test_attr[:, i])\\n        test_select_proba_concept.append(test_proba_concept[:, i])\\n        test_select_logits_concept.append(test_logits_concept[:, i])\\n\\n        val_select_attr.append(val_attr[:, i])\\n        val_select_proba_concept.append(val_proba_concept[:, i])\\n        val_select_logits_concept.append(val_logits_concept[:, i])\\n\\n        train_select_attr.append(train_attr[:, i])\\n        train_select_proba_concept.append(train_proba_concept[:, i])\\n        train_select_logits_concept.append(train_logits_concept[:, i])\\n\\n        concept_select.append(concepts[i])\\n        cnt += 1\\n\\ntest_select_attr = torch.stack(test_select_attr, dim=1)\\ntest_select_proba_concept = torch.stack(test_select_proba_concept, dim=1)\\ntest_select_logits_concept = torch.stack(test_select_logits_concept, dim=1)\\nval_select_attr = torch.stack(val_select_attr, dim=1)\\nval_select_proba_concept = torch.stack(val_select_proba_concept, dim=1)\\nval_select_logits_concept = torch.stack(val_select_logits_concept, dim=1)\\ntrain_select_attr = torch.stack(train_select_attr, dim=1)\\ntrain_select_proba_concept = torch.stack(train_select_proba_concept, dim=1)\\ntrain_select_logits_concept = torch.stack(train_select_logits_concept, dim=1)\\n\\n\\nprint(\\\"Test sizes: \\\")\\nprint(test_select_attr.size())\\nprint(test_select_proba_concept.size())\\nprint(test_select_logits_concept.size())\\nprint(\\\"Val sizes: \\\")\\nprint(val_select_attr.size())\\nprint(val_select_proba_concept.size())\\nprint(val_select_logits_concept.size())\\nprint(\\\"Train sizes: \\\")\\nprint(train_select_attr.size())\\nprint(train_select_proba_concept.size())\\nprint(train_select_logits_concept.size())\\nprint(cnt)\";\n",
       "                var nbb_formatted_code = \"cnt = 0\\nth = 0.7\\nconcept_select = []\\n\\ntest_select_attr = []\\ntest_select_proba_concept = []\\ntest_select_logits_concept = []\\n\\n\\nval_select_attr = []\\nval_select_proba_concept = []\\nval_select_logits_concept = []\\n\\n\\ntrain_select_attr = []\\ntrain_select_proba_concept = []\\ntrain_select_logits_concept = []\\n\\n\\ntest_select_proba_concept = []\\nfor i in range(len(concepts)):\\n    if auroc[i] >= th:\\n        test_select_attr.append(test_attr[:, i])\\n        test_select_proba_concept.append(test_proba_concept[:, i])\\n        test_select_logits_concept.append(test_logits_concept[:, i])\\n\\n        val_select_attr.append(val_attr[:, i])\\n        val_select_proba_concept.append(val_proba_concept[:, i])\\n        val_select_logits_concept.append(val_logits_concept[:, i])\\n\\n        train_select_attr.append(train_attr[:, i])\\n        train_select_proba_concept.append(train_proba_concept[:, i])\\n        train_select_logits_concept.append(train_logits_concept[:, i])\\n\\n        concept_select.append(concepts[i])\\n        cnt += 1\\n\\ntest_select_attr = torch.stack(test_select_attr, dim=1)\\ntest_select_proba_concept = torch.stack(test_select_proba_concept, dim=1)\\ntest_select_logits_concept = torch.stack(test_select_logits_concept, dim=1)\\nval_select_attr = torch.stack(val_select_attr, dim=1)\\nval_select_proba_concept = torch.stack(val_select_proba_concept, dim=1)\\nval_select_logits_concept = torch.stack(val_select_logits_concept, dim=1)\\ntrain_select_attr = torch.stack(train_select_attr, dim=1)\\ntrain_select_proba_concept = torch.stack(train_select_proba_concept, dim=1)\\ntrain_select_logits_concept = torch.stack(train_select_logits_concept, dim=1)\\n\\n\\nprint(\\\"Test sizes: \\\")\\nprint(test_select_attr.size())\\nprint(test_select_proba_concept.size())\\nprint(test_select_logits_concept.size())\\nprint(\\\"Val sizes: \\\")\\nprint(val_select_attr.size())\\nprint(val_select_proba_concept.size())\\nprint(val_select_logits_concept.size())\\nprint(\\\"Train sizes: \\\")\\nprint(train_select_attr.size())\\nprint(train_select_proba_concept.size())\\nprint(train_select_logits_concept.size())\\nprint(cnt)\";\n",
       "                var nbb_cells = Jupyter.notebook.get_cells();\n",
       "                for (var i = 0; i < nbb_cells.length; ++i) {\n",
       "                    if (nbb_cells[i].input_prompt_number == nbb_cell_id) {\n",
       "                        if (nbb_cells[i].get_text() == nbb_unformatted_code) {\n",
       "                             nbb_cells[i].set_text(nbb_formatted_code);\n",
       "                        }\n",
       "                        break;\n",
       "                    }\n",
       "                }\n",
       "            }, 500);\n",
       "            "
      ],
      "text/plain": [
       "<IPython.core.display.Javascript object>"
      ]
     },
     "metadata": {},
     "output_type": "display_data"
    }
   ],
   "source": [
    "cnt = 0\n",
    "th = 0.7\n",
    "concept_select = []\n",
    "\n",
    "test_select_attr = []\n",
    "test_select_proba_concept = []\n",
    "test_select_logits_concept = []\n",
    "\n",
    "\n",
    "val_select_attr = []\n",
    "val_select_proba_concept = []\n",
    "val_select_logits_concept = []\n",
    "\n",
    "\n",
    "train_select_attr = []\n",
    "train_select_proba_concept = []\n",
    "train_select_logits_concept = []\n",
    "\n",
    "\n",
    "test_select_proba_concept = []\n",
    "for i in range(len(concepts)):\n",
    "    if auroc[i] >= th:\n",
    "        test_select_attr.append(test_attr[:, i])\n",
    "        test_select_proba_concept.append(test_proba_concept[:, i])\n",
    "        test_select_logits_concept.append(test_logits_concept[:, i])\n",
    "\n",
    "        val_select_attr.append(val_attr[:, i])\n",
    "        val_select_proba_concept.append(val_proba_concept[:, i])\n",
    "        val_select_logits_concept.append(val_logits_concept[:, i])\n",
    "\n",
    "        train_select_attr.append(train_attr[:, i])\n",
    "        train_select_proba_concept.append(train_proba_concept[:, i])\n",
    "        train_select_logits_concept.append(train_logits_concept[:, i])\n",
    "\n",
    "        concept_select.append(concepts[i])\n",
    "        cnt += 1\n",
    "\n",
    "test_select_attr = torch.stack(test_select_attr, dim=1)\n",
    "test_select_proba_concept = torch.stack(test_select_proba_concept, dim=1)\n",
    "test_select_logits_concept = torch.stack(test_select_logits_concept, dim=1)\n",
    "val_select_attr = torch.stack(val_select_attr, dim=1)\n",
    "val_select_proba_concept = torch.stack(val_select_proba_concept, dim=1)\n",
    "val_select_logits_concept = torch.stack(val_select_logits_concept, dim=1)\n",
    "train_select_attr = torch.stack(train_select_attr, dim=1)\n",
    "train_select_proba_concept = torch.stack(train_select_proba_concept, dim=1)\n",
    "train_select_logits_concept = torch.stack(train_select_logits_concept, dim=1)\n",
    "\n",
    "\n",
    "print(\"Test sizes: \")\n",
    "print(test_select_attr.size())\n",
    "print(test_select_proba_concept.size())\n",
    "print(test_select_logits_concept.size())\n",
    "print(\"Val sizes: \")\n",
    "print(val_select_attr.size())\n",
    "print(val_select_proba_concept.size())\n",
    "print(val_select_logits_concept.size())\n",
    "print(\"Train sizes: \")\n",
    "print(train_select_attr.size())\n",
    "print(train_select_proba_concept.size())\n",
    "print(train_select_logits_concept.size())\n",
    "print(cnt)"
   ]
  },
  {
   "cell_type": "code",
   "execution_count": 11,
   "metadata": {},
   "outputs": [
    {
     "name": "stdout",
     "output_type": "stream",
     "text": [
      "/ocean/projects/asc170022p/shg121/PhD/ICLR-2022/out/mimic_cxr/t/lr_0.01_epochs_60_loss_BCE_W_flattening_type_flatten_layer_features_denseblock4/densenet121/pneumothorax/dataset_g\n"
     ]
    },
    {
     "data": {
      "application/javascript": [
       "\n",
       "            setTimeout(function() {\n",
       "                var nbb_cell_id = 11;\n",
       "                var nbb_unformatted_code = \"metric = \\\"auroc\\\"\\nutils.save_tensor(\\n    path=os.path.join(path, \\\"dataset_g\\\", f\\\"torch_concepts_mask_{metric}.pt\\\"),\\n    tensor_to_save=torch_mask,\\n)\\n\\nutils.save_tensor(\\n    path=os.path.join(path, \\\"dataset_g\\\", f\\\"test_select_{metric}_attributes.pt\\\"),\\n    tensor_to_save=test_select_attr,\\n)\\nutils.save_tensor(\\n    path=os.path.join(path, \\\"dataset_g\\\", f\\\"test_select_proba_{metric}_concepts.pt\\\"),\\n    tensor_to_save=test_select_proba_concept,\\n)\\nutils.save_tensor(\\n    path=os.path.join(path, \\\"dataset_g\\\", f\\\"test_select_logits_{metric}_concepts.pt\\\"),\\n    tensor_to_save=test_select_logits_concept,\\n)\\n\\nutils.save_tensor(\\n    path=os.path.join(path, \\\"dataset_g\\\", f\\\"val_select_{metric}_attributes.pt\\\"),\\n    tensor_to_save=val_select_attr,\\n)\\nutils.save_tensor(\\n    path=os.path.join(path, \\\"dataset_g\\\", f\\\"val_select_proba_{metric}_concepts.pt\\\"),\\n    tensor_to_save=val_select_proba_concept,\\n)\\nutils.save_tensor(\\n    path=os.path.join(path, \\\"dataset_g\\\", f\\\"val_select_logits_{metric}_concepts.pt\\\"),\\n    tensor_to_save=val_select_logits_concept,\\n)\\n\\nutils.save_tensor(\\n    path=os.path.join(path, \\\"dataset_g\\\", f\\\"train_select_{metric}_attributes.pt\\\"),\\n    tensor_to_save=train_select_attr,\\n)\\nutils.save_tensor(\\n    path=os.path.join(path, \\\"dataset_g\\\", f\\\"train_select_proba_{metric}_concepts.pt\\\"),\\n    tensor_to_save=train_select_proba_concept,\\n)\\nutils.save_tensor(\\n    path=os.path.join(path, \\\"dataset_g\\\", f\\\"train_select_logits_{metric}_concepts.pt\\\"),\\n    tensor_to_save=train_select_logits_concept,\\n)\\n\\npickle.dump(\\n    concept_select,\\n    open(os.path.join(path, \\\"dataset_g\\\", f\\\"selected_concepts_{metric}.pkl\\\"), \\\"wb\\\"),\\n)\\nprint(os.path.join(path, \\\"dataset_g\\\"))\";\n",
       "                var nbb_formatted_code = \"metric = \\\"auroc\\\"\\nutils.save_tensor(\\n    path=os.path.join(path, \\\"dataset_g\\\", f\\\"torch_concepts_mask_{metric}.pt\\\"),\\n    tensor_to_save=torch_mask,\\n)\\n\\nutils.save_tensor(\\n    path=os.path.join(path, \\\"dataset_g\\\", f\\\"test_select_{metric}_attributes.pt\\\"),\\n    tensor_to_save=test_select_attr,\\n)\\nutils.save_tensor(\\n    path=os.path.join(path, \\\"dataset_g\\\", f\\\"test_select_proba_{metric}_concepts.pt\\\"),\\n    tensor_to_save=test_select_proba_concept,\\n)\\nutils.save_tensor(\\n    path=os.path.join(path, \\\"dataset_g\\\", f\\\"test_select_logits_{metric}_concepts.pt\\\"),\\n    tensor_to_save=test_select_logits_concept,\\n)\\n\\nutils.save_tensor(\\n    path=os.path.join(path, \\\"dataset_g\\\", f\\\"val_select_{metric}_attributes.pt\\\"),\\n    tensor_to_save=val_select_attr,\\n)\\nutils.save_tensor(\\n    path=os.path.join(path, \\\"dataset_g\\\", f\\\"val_select_proba_{metric}_concepts.pt\\\"),\\n    tensor_to_save=val_select_proba_concept,\\n)\\nutils.save_tensor(\\n    path=os.path.join(path, \\\"dataset_g\\\", f\\\"val_select_logits_{metric}_concepts.pt\\\"),\\n    tensor_to_save=val_select_logits_concept,\\n)\\n\\nutils.save_tensor(\\n    path=os.path.join(path, \\\"dataset_g\\\", f\\\"train_select_{metric}_attributes.pt\\\"),\\n    tensor_to_save=train_select_attr,\\n)\\nutils.save_tensor(\\n    path=os.path.join(path, \\\"dataset_g\\\", f\\\"train_select_proba_{metric}_concepts.pt\\\"),\\n    tensor_to_save=train_select_proba_concept,\\n)\\nutils.save_tensor(\\n    path=os.path.join(path, \\\"dataset_g\\\", f\\\"train_select_logits_{metric}_concepts.pt\\\"),\\n    tensor_to_save=train_select_logits_concept,\\n)\\n\\npickle.dump(\\n    concept_select,\\n    open(os.path.join(path, \\\"dataset_g\\\", f\\\"selected_concepts_{metric}.pkl\\\"), \\\"wb\\\"),\\n)\\nprint(os.path.join(path, \\\"dataset_g\\\"))\";\n",
       "                var nbb_cells = Jupyter.notebook.get_cells();\n",
       "                for (var i = 0; i < nbb_cells.length; ++i) {\n",
       "                    if (nbb_cells[i].input_prompt_number == nbb_cell_id) {\n",
       "                        if (nbb_cells[i].get_text() == nbb_unformatted_code) {\n",
       "                             nbb_cells[i].set_text(nbb_formatted_code);\n",
       "                        }\n",
       "                        break;\n",
       "                    }\n",
       "                }\n",
       "            }, 500);\n",
       "            "
      ],
      "text/plain": [
       "<IPython.core.display.Javascript object>"
      ]
     },
     "metadata": {},
     "output_type": "display_data"
    }
   ],
   "source": [
    "metric = \"auroc\"\n",
    "utils.save_tensor(\n",
    "    path=os.path.join(path, \"dataset_g\", f\"torch_concepts_mask_{metric}.pt\"),\n",
    "    tensor_to_save=torch_mask,\n",
    ")\n",
    "\n",
    "utils.save_tensor(\n",
    "    path=os.path.join(path, \"dataset_g\", f\"test_select_{metric}_attributes.pt\"),\n",
    "    tensor_to_save=test_select_attr,\n",
    ")\n",
    "utils.save_tensor(\n",
    "    path=os.path.join(path, \"dataset_g\", f\"test_select_proba_{metric}_concepts.pt\"),\n",
    "    tensor_to_save=test_select_proba_concept,\n",
    ")\n",
    "utils.save_tensor(\n",
    "    path=os.path.join(path, \"dataset_g\", f\"test_select_logits_{metric}_concepts.pt\"),\n",
    "    tensor_to_save=test_select_logits_concept,\n",
    ")\n",
    "\n",
    "utils.save_tensor(\n",
    "    path=os.path.join(path, \"dataset_g\", f\"val_select_{metric}_attributes.pt\"),\n",
    "    tensor_to_save=val_select_attr,\n",
    ")\n",
    "utils.save_tensor(\n",
    "    path=os.path.join(path, \"dataset_g\", f\"val_select_proba_{metric}_concepts.pt\"),\n",
    "    tensor_to_save=val_select_proba_concept,\n",
    ")\n",
    "utils.save_tensor(\n",
    "    path=os.path.join(path, \"dataset_g\", f\"val_select_logits_{metric}_concepts.pt\"),\n",
    "    tensor_to_save=val_select_logits_concept,\n",
    ")\n",
    "\n",
    "utils.save_tensor(\n",
    "    path=os.path.join(path, \"dataset_g\", f\"train_select_{metric}_attributes.pt\"),\n",
    "    tensor_to_save=train_select_attr,\n",
    ")\n",
    "utils.save_tensor(\n",
    "    path=os.path.join(path, \"dataset_g\", f\"train_select_proba_{metric}_concepts.pt\"),\n",
    "    tensor_to_save=train_select_proba_concept,\n",
    ")\n",
    "utils.save_tensor(\n",
    "    path=os.path.join(path, \"dataset_g\", f\"train_select_logits_{metric}_concepts.pt\"),\n",
    "    tensor_to_save=train_select_logits_concept,\n",
    ")\n",
    "\n",
    "pickle.dump(\n",
    "    concept_select,\n",
    "    open(os.path.join(path, \"dataset_g\", f\"selected_concepts_{metric}.pkl\"), \"wb\"),\n",
    ")\n",
    "print(os.path.join(path, \"dataset_g\"))"
   ]
  },
  {
   "cell_type": "code",
   "execution_count": 12,
   "metadata": {},
   "outputs": [
    {
     "data": {
      "text/plain": [
       "['hilar_unspec',\n",
       " 'left_pleural',\n",
       " 'right_pleural',\n",
       " 'pleural_unspec',\n",
       " 'heart_size',\n",
       " 'left_diaphragm',\n",
       " 'right_diaphragm',\n",
       " 'diaphragm_unspec',\n",
       " 'retrocardiac',\n",
       " 'upper_right_lobe',\n",
       " 'left_apical_lung',\n",
       " 'left_lung_unspec',\n",
       " 'right_upper_lung',\n",
       " 'right_apical_lung',\n",
       " 'right_lung_unspec',\n",
       " 'lung_apices',\n",
       " 'lung_bases',\n",
       " 'mediastinal',\n",
       " 'spine',\n",
       " 'right_atrium',\n",
       " 'right_ventricle',\n",
       " 'aorta',\n",
       " 'svc',\n",
       " 'interstitium',\n",
       " 'parenchymal',\n",
       " 'cavoatrial_junction',\n",
       " 'stomach',\n",
       " 'effusion',\n",
       " 'edema',\n",
       " 'atelectasis',\n",
       " 'tube',\n",
       " 'consolidation',\n",
       " 'process',\n",
       " 'abnormality',\n",
       " 'enlarge',\n",
       " 'tip',\n",
       " 'low',\n",
       " 'line',\n",
       " 'congestion',\n",
       " 'catheter',\n",
       " 'cardiomegaly',\n",
       " 'air',\n",
       " 'tortuous',\n",
       " 'lead',\n",
       " 'disease',\n",
       " 'calcification',\n",
       " 'device',\n",
       " 'engorgement',\n",
       " 'picc',\n",
       " 'elevation',\n",
       " 'wire',\n",
       " 'fluid',\n",
       " 'degenerative',\n",
       " 'pacemaker',\n",
       " 'marking',\n",
       " 'scar',\n",
       " 'widen',\n",
       " 'collapse',\n",
       " 'emphysema',\n",
       " 'mass',\n",
       " 'crowd',\n",
       " 'infiltrate',\n",
       " 'obscure',\n",
       " 'deformity',\n",
       " 'hernia',\n",
       " 'drainage',\n",
       " 'distention',\n",
       " 'shift',\n",
       " 'pressure',\n",
       " 'chf']"
      ]
     },
     "execution_count": 12,
     "metadata": {},
     "output_type": "execute_result"
    },
    {
     "data": {
      "application/javascript": [
       "\n",
       "            setTimeout(function() {\n",
       "                var nbb_cell_id = 12;\n",
       "                var nbb_unformatted_code = \"concept_select\";\n",
       "                var nbb_formatted_code = \"concept_select\";\n",
       "                var nbb_cells = Jupyter.notebook.get_cells();\n",
       "                for (var i = 0; i < nbb_cells.length; ++i) {\n",
       "                    if (nbb_cells[i].input_prompt_number == nbb_cell_id) {\n",
       "                        if (nbb_cells[i].get_text() == nbb_unformatted_code) {\n",
       "                             nbb_cells[i].set_text(nbb_formatted_code);\n",
       "                        }\n",
       "                        break;\n",
       "                    }\n",
       "                }\n",
       "            }, 500);\n",
       "            "
      ],
      "text/plain": [
       "<IPython.core.display.Javascript object>"
      ]
     },
     "metadata": {},
     "output_type": "display_data"
    }
   ],
   "source": [
    "concept_select"
   ]
  },
  {
   "cell_type": "code",
   "execution_count": 13,
   "metadata": {},
   "outputs": [
    {
     "data": {
      "text/plain": [
       "(tensor([7107]), tensor([180441]))"
      ]
     },
     "execution_count": 13,
     "metadata": {},
     "output_type": "execute_result"
    },
    {
     "data": {
      "application/javascript": [
       "\n",
       "            setTimeout(function() {\n",
       "                var nbb_cell_id = 13;\n",
       "                var nbb_unformatted_code = \"y_gt_tr = torch.load(os.path.join(path, \\\"dataset_g\\\", f\\\"train_class_labels.pt\\\"))\\n(y_gt_tr == 1).sum(dim=0), (y_gt_tr == 0).sum(dim=0)\";\n",
       "                var nbb_formatted_code = \"y_gt_tr = torch.load(os.path.join(path, \\\"dataset_g\\\", f\\\"train_class_labels.pt\\\"))\\n(y_gt_tr == 1).sum(dim=0), (y_gt_tr == 0).sum(dim=0)\";\n",
       "                var nbb_cells = Jupyter.notebook.get_cells();\n",
       "                for (var i = 0; i < nbb_cells.length; ++i) {\n",
       "                    if (nbb_cells[i].input_prompt_number == nbb_cell_id) {\n",
       "                        if (nbb_cells[i].get_text() == nbb_unformatted_code) {\n",
       "                             nbb_cells[i].set_text(nbb_formatted_code);\n",
       "                        }\n",
       "                        break;\n",
       "                    }\n",
       "                }\n",
       "            }, 500);\n",
       "            "
      ],
      "text/plain": [
       "<IPython.core.display.Javascript object>"
      ]
     },
     "metadata": {},
     "output_type": "display_data"
    }
   ],
   "source": [
    "y_gt_tr = torch.load(os.path.join(path, \"dataset_g\", f\"train_class_labels.pt\"))\n",
    "(y_gt_tr == 1).sum(dim=0), (y_gt_tr == 0).sum(dim=0)"
   ]
  },
  {
   "cell_type": "code",
   "execution_count": 14,
   "metadata": {},
   "outputs": [
    {
     "data": {
      "text/plain": [
       "0.037894297391176224"
      ]
     },
     "execution_count": 14,
     "metadata": {},
     "output_type": "execute_result"
    },
    {
     "data": {
      "application/javascript": [
       "\n",
       "            setTimeout(function() {\n",
       "                var nbb_cell_id = 14;\n",
       "                var nbb_unformatted_code = \"((y_gt_tr == 1).sum(dim=0) / y_gt_tr.size(0)).item()\";\n",
       "                var nbb_formatted_code = \"((y_gt_tr == 1).sum(dim=0) / y_gt_tr.size(0)).item()\";\n",
       "                var nbb_cells = Jupyter.notebook.get_cells();\n",
       "                for (var i = 0; i < nbb_cells.length; ++i) {\n",
       "                    if (nbb_cells[i].input_prompt_number == nbb_cell_id) {\n",
       "                        if (nbb_cells[i].get_text() == nbb_unformatted_code) {\n",
       "                             nbb_cells[i].set_text(nbb_formatted_code);\n",
       "                        }\n",
       "                        break;\n",
       "                    }\n",
       "                }\n",
       "            }, 500);\n",
       "            "
      ],
      "text/plain": [
       "<IPython.core.display.Javascript object>"
      ]
     },
     "metadata": {},
     "output_type": "display_data"
    }
   ],
   "source": [
    "((y_gt_tr == 1).sum(dim=0) / y_gt_tr.size(0)).item()"
   ]
  }
 ],
 "metadata": {
  "kernelspec": {
   "display_name": "python_3_7",
   "language": "python",
   "name": "python_3_7"
  },
  "language_info": {
   "codemirror_mode": {
    "name": "ipython",
    "version": 3
   },
   "file_extension": ".py",
   "mimetype": "text/x-python",
   "name": "python",
   "nbconvert_exporter": "python",
   "pygments_lexer": "ipython3",
   "version": "3.7.11"
  }
 },
 "nbformat": 4,
 "nbformat_minor": 4
}
