{
 "cells": [
  {
   "cell_type": "code",
   "execution_count": 11,
   "metadata": {},
   "outputs": [
    {
     "name": "stdout",
     "output_type": "stream",
     "text": [
      "The nb_black extension is already loaded. To reload it, use:\n",
      "  %reload_ext nb_black\n"
     ]
    },
    {
     "data": {
      "application/javascript": [
       "\n",
       "            setTimeout(function() {\n",
       "                var nbb_cell_id = 11;\n",
       "                var nbb_unformatted_code = \"%load_ext nb_black\\n\\nimport os\\nimport sys\\n\\nsys.path.append(\\n    os.path.abspath(\\\"/ocean/projects/asc170022p/shg121/PhD/ICLR-2022/codebase\\\")\\n)\\nimport torch.backends.cudnn as cudnn\\nimport random\\nfrom datetime import datetime\\nimport time\\nfrom collections import OrderedDict\\nimport pickle\\nimport numpy as np\\nimport pandas as pd\\nimport torch\\nimport torch.nn.functional as F\\nfrom torch.utils.data import DataLoader\\nfrom tqdm import tqdm\\nfrom torch.nn.functional import one_hot\\nimport utils\\n\\nfrom Explainer.loss_F import loss_fn_kd, entropy_loss\\nfrom Explainer.models.Gated_Logic_Net import Gated_Logic_Net\\nfrom Explainer.models.explainer import Explainer\\nfrom Explainer.models.pi import Pi\\nfrom dataset.dataset_cubs import Dataset_cub_for_explainer\\nfrom dataset.utils_dataset import get_dataset_with_image_and_attributes\\nfrom Explainer.loss_F import loss_fn_kd, entropy_loss, Selective_Distillation_Loss\\nfrom Explainer.models.concepts import Conceptizator\\nimport jupyter_notebook.stats_t as stats\\nimport matplotlib.pyplot as plt\\nimport warnings\\nimport sklearn.metrics as metrics\\n\\n# from ipython_utils import cal_acc, show_results\\nfrom ipywidgets import interact, interactive, fixed, interact_manual\\nfrom scipy.stats import percentileofscore\\nfrom sklearn.metrics import roc_auc_score, accuracy_score\\n\\nwarnings.filterwarnings(\\\"ignore\\\")\";\n",
       "                var nbb_formatted_code = \"%load_ext nb_black\\n\\nimport os\\nimport sys\\n\\nsys.path.append(\\n    os.path.abspath(\\\"/ocean/projects/asc170022p/shg121/PhD/ICLR-2022/codebase\\\")\\n)\\nimport torch.backends.cudnn as cudnn\\nimport random\\nfrom datetime import datetime\\nimport time\\nfrom collections import OrderedDict\\nimport pickle\\nimport numpy as np\\nimport pandas as pd\\nimport torch\\nimport torch.nn.functional as F\\nfrom torch.utils.data import DataLoader\\nfrom tqdm import tqdm\\nfrom torch.nn.functional import one_hot\\nimport utils\\n\\nfrom Explainer.loss_F import loss_fn_kd, entropy_loss\\nfrom Explainer.models.Gated_Logic_Net import Gated_Logic_Net\\nfrom Explainer.models.explainer import Explainer\\nfrom Explainer.models.pi import Pi\\nfrom dataset.dataset_cubs import Dataset_cub_for_explainer\\nfrom dataset.utils_dataset import get_dataset_with_image_and_attributes\\nfrom Explainer.loss_F import loss_fn_kd, entropy_loss, Selective_Distillation_Loss\\nfrom Explainer.models.concepts import Conceptizator\\nimport jupyter_notebook.stats_t as stats\\nimport matplotlib.pyplot as plt\\nimport warnings\\nimport sklearn.metrics as metrics\\n\\n# from ipython_utils import cal_acc, show_results\\nfrom ipywidgets import interact, interactive, fixed, interact_manual\\nfrom scipy.stats import percentileofscore\\nfrom sklearn.metrics import roc_auc_score, accuracy_score\\n\\nwarnings.filterwarnings(\\\"ignore\\\")\";\n",
       "                var nbb_cells = Jupyter.notebook.get_cells();\n",
       "                for (var i = 0; i < nbb_cells.length; ++i) {\n",
       "                    if (nbb_cells[i].input_prompt_number == nbb_cell_id) {\n",
       "                        if (nbb_cells[i].get_text() == nbb_unformatted_code) {\n",
       "                             nbb_cells[i].set_text(nbb_formatted_code);\n",
       "                        }\n",
       "                        break;\n",
       "                    }\n",
       "                }\n",
       "            }, 500);\n",
       "            "
      ],
      "text/plain": [
       "<IPython.core.display.Javascript object>"
      ]
     },
     "metadata": {},
     "output_type": "display_data"
    }
   ],
   "source": [
    "%load_ext nb_black\n",
    "\n",
    "import os\n",
    "import sys\n",
    "\n",
    "sys.path.append(\n",
    "    os.path.abspath(\"/ocean/projects/asc170022p/shg121/PhD/ICLR-2022/codebase\")\n",
    ")\n",
    "import torch.backends.cudnn as cudnn\n",
    "import random\n",
    "from datetime import datetime\n",
    "import time\n",
    "from collections import OrderedDict\n",
    "import pickle\n",
    "import numpy as np\n",
    "import pandas as pd\n",
    "import torch\n",
    "import torch.nn.functional as F\n",
    "from torch.utils.data import DataLoader\n",
    "from tqdm import tqdm\n",
    "from torch.nn.functional import one_hot\n",
    "import utils\n",
    "\n",
    "from Explainer.loss_F import loss_fn_kd, entropy_loss\n",
    "from Explainer.models.Gated_Logic_Net import Gated_Logic_Net\n",
    "from Explainer.models.explainer import Explainer\n",
    "from Explainer.models.pi import Pi\n",
    "from dataset.dataset_cubs import Dataset_cub_for_explainer\n",
    "from dataset.utils_dataset import get_dataset_with_image_and_attributes\n",
    "from Explainer.loss_F import loss_fn_kd, entropy_loss, Selective_Distillation_Loss\n",
    "from Explainer.models.concepts import Conceptizator\n",
    "import jupyter_notebook.stats_t as stats\n",
    "import matplotlib.pyplot as plt\n",
    "import warnings\n",
    "import sklearn.metrics as metrics\n",
    "\n",
    "# from ipython_utils import cal_acc, show_results\n",
    "from ipywidgets import interact, interactive, fixed, interact_manual\n",
    "from scipy.stats import percentileofscore\n",
    "from sklearn.metrics import roc_auc_score, accuracy_score\n",
    "\n",
    "warnings.filterwarnings(\"ignore\")"
   ]
  },
  {
   "cell_type": "code",
   "execution_count": 12,
   "metadata": {},
   "outputs": [
    {
     "name": "stdout",
     "output_type": "stream",
     "text": [
      "torch.Size([24072, 107]) torch.Size([24072, 107]) torch.Size([24072, 107]) torch.Size([48144]) torch.Size([24072, 1])\n",
      "\n",
      "torch.Size([187548, 107]) torch.Size([187548, 107]) torch.Size([187548, 107]) torch.Size([375096]) torch.Size([187548, 1])\n",
      "\n",
      "torch.Size([23449, 107]) torch.Size([23449, 107]) torch.Size([23449, 107]) torch.Size([46898]) torch.Size([23449, 1])\n"
     ]
    },
    {
     "data": {
      "application/javascript": [
       "\n",
       "            setTimeout(function() {\n",
       "                var nbb_cell_id = 12;\n",
       "                var nbb_unformatted_code = \"disease = \\\"edema\\\"\\npath = f\\\"/ocean/projects/asc170022p/shg121/PhD/ICLR-2022/out/mimic_cxr/t/lr_0.01_epochs_60_loss_BCE_W_flattening_type_flatten_layer_features_denseblock4/densenet121/{disease}\\\"\\ntest_attr = torch.load(os.path.join(path, \\\"dataset_g\\\", \\\"test_attributes.pt\\\"))\\ntest_proba_concept = torch.load(os.path.join(path, \\\"dataset_g\\\", \\\"test_proba_concepts.pt\\\"))\\ntest_logits_concept = torch.load(os.path.join(path, \\\"dataset_g\\\", \\\"test_logits_concepts.pt\\\"))\\ntest_logits_bb = torch.load(os.path.join(path, \\\"dataset_g\\\", \\\"test_logits_bb.pt\\\"))\\ntest_class_labels = torch.load(os.path.join(path, \\\"dataset_g\\\", \\\"test_class_labels.pt\\\"))\\n\\ntrain_attr = torch.load(os.path.join(path, \\\"dataset_g\\\", \\\"train_attributes.pt\\\"))\\ntrain_proba_concept = torch.load(os.path.join(path, \\\"dataset_g\\\", \\\"train_proba_concepts.pt\\\"))\\ntrain_logits_concept = torch.load(os.path.join(path, \\\"dataset_g\\\", \\\"train_logits_concepts.pt\\\"))\\ntrain_logits_bb = torch.load(os.path.join(path, \\\"dataset_g\\\", \\\"train_logits_bb.pt\\\"))\\ntrain_class_labels = torch.load(os.path.join(path, \\\"dataset_g\\\", \\\"train_class_labels.pt\\\"))\\n\\nval_attr = torch.load(os.path.join(path, \\\"dataset_g\\\", \\\"val_attributes.pt\\\"))\\nval_proba_concept = torch.load(os.path.join(path, \\\"dataset_g\\\", \\\"val_proba_concepts.pt\\\"))\\nval_logits_concept = torch.load(os.path.join(path, \\\"dataset_g\\\", \\\"val_logits_concepts.pt\\\"))\\nval_logits_bb = torch.load(os.path.join(path, \\\"dataset_g\\\", \\\"val_logits_bb.pt\\\"))\\nval_class_labels = torch.load(os.path.join(path, \\\"dataset_g\\\", \\\"val_class_labels.pt\\\"))\\n\\nprint(\\n    test_attr.size(), test_proba_concept.size(), test_logits_concept.size(),\\n    test_logits_bb.size(), test_class_labels.size()\\n)\\nprint()\\nprint(\\n    train_attr.size(), train_proba_concept.size(), train_logits_concept.size(),\\n    train_logits_bb.size(), train_class_labels.size()\\n)\\nprint()\\nprint(\\n    val_attr.size(), val_proba_concept.size(), val_logits_concept.size(),\\n    val_logits_bb.size(), val_class_labels.size()\\n)\\n\\nwith open(os.path.join(path, \\\"MIMIC_test_configs.pkl\\\"), \\\"rb\\\") as input_file:\\n    args = pickle.load(input_file)\\n\\nconcepts = args.landmark_names_spec + args.abnorm_obs_concepts\";\n",
       "                var nbb_formatted_code = \"disease = \\\"edema\\\"\\npath = f\\\"/ocean/projects/asc170022p/shg121/PhD/ICLR-2022/out/mimic_cxr/t/lr_0.01_epochs_60_loss_BCE_W_flattening_type_flatten_layer_features_denseblock4/densenet121/{disease}\\\"\\ntest_attr = torch.load(os.path.join(path, \\\"dataset_g\\\", \\\"test_attributes.pt\\\"))\\ntest_proba_concept = torch.load(\\n    os.path.join(path, \\\"dataset_g\\\", \\\"test_proba_concepts.pt\\\")\\n)\\ntest_logits_concept = torch.load(\\n    os.path.join(path, \\\"dataset_g\\\", \\\"test_logits_concepts.pt\\\")\\n)\\ntest_logits_bb = torch.load(os.path.join(path, \\\"dataset_g\\\", \\\"test_logits_bb.pt\\\"))\\ntest_class_labels = torch.load(os.path.join(path, \\\"dataset_g\\\", \\\"test_class_labels.pt\\\"))\\n\\ntrain_attr = torch.load(os.path.join(path, \\\"dataset_g\\\", \\\"train_attributes.pt\\\"))\\ntrain_proba_concept = torch.load(\\n    os.path.join(path, \\\"dataset_g\\\", \\\"train_proba_concepts.pt\\\")\\n)\\ntrain_logits_concept = torch.load(\\n    os.path.join(path, \\\"dataset_g\\\", \\\"train_logits_concepts.pt\\\")\\n)\\ntrain_logits_bb = torch.load(os.path.join(path, \\\"dataset_g\\\", \\\"train_logits_bb.pt\\\"))\\ntrain_class_labels = torch.load(\\n    os.path.join(path, \\\"dataset_g\\\", \\\"train_class_labels.pt\\\")\\n)\\n\\nval_attr = torch.load(os.path.join(path, \\\"dataset_g\\\", \\\"val_attributes.pt\\\"))\\nval_proba_concept = torch.load(os.path.join(path, \\\"dataset_g\\\", \\\"val_proba_concepts.pt\\\"))\\nval_logits_concept = torch.load(\\n    os.path.join(path, \\\"dataset_g\\\", \\\"val_logits_concepts.pt\\\")\\n)\\nval_logits_bb = torch.load(os.path.join(path, \\\"dataset_g\\\", \\\"val_logits_bb.pt\\\"))\\nval_class_labels = torch.load(os.path.join(path, \\\"dataset_g\\\", \\\"val_class_labels.pt\\\"))\\n\\nprint(\\n    test_attr.size(),\\n    test_proba_concept.size(),\\n    test_logits_concept.size(),\\n    test_logits_bb.size(),\\n    test_class_labels.size(),\\n)\\nprint()\\nprint(\\n    train_attr.size(),\\n    train_proba_concept.size(),\\n    train_logits_concept.size(),\\n    train_logits_bb.size(),\\n    train_class_labels.size(),\\n)\\nprint()\\nprint(\\n    val_attr.size(),\\n    val_proba_concept.size(),\\n    val_logits_concept.size(),\\n    val_logits_bb.size(),\\n    val_class_labels.size(),\\n)\\n\\nwith open(os.path.join(path, \\\"MIMIC_test_configs.pkl\\\"), \\\"rb\\\") as input_file:\\n    args = pickle.load(input_file)\\n\\nconcepts = args.landmark_names_spec + args.abnorm_obs_concepts\";\n",
       "                var nbb_cells = Jupyter.notebook.get_cells();\n",
       "                for (var i = 0; i < nbb_cells.length; ++i) {\n",
       "                    if (nbb_cells[i].input_prompt_number == nbb_cell_id) {\n",
       "                        if (nbb_cells[i].get_text() == nbb_unformatted_code) {\n",
       "                             nbb_cells[i].set_text(nbb_formatted_code);\n",
       "                        }\n",
       "                        break;\n",
       "                    }\n",
       "                }\n",
       "            }, 500);\n",
       "            "
      ],
      "text/plain": [
       "<IPython.core.display.Javascript object>"
      ]
     },
     "metadata": {},
     "output_type": "display_data"
    }
   ],
   "source": [
    "disease = \"edema\"\n",
    "path = f\"/ocean/projects/asc170022p/shg121/PhD/ICLR-2022/out/mimic_cxr/t/lr_0.01_epochs_60_loss_BCE_W_flattening_type_flatten_layer_features_denseblock4/densenet121/{disease}\"\n",
    "test_attr = torch.load(os.path.join(path, \"dataset_g\", \"test_attributes.pt\"))\n",
    "test_proba_concept = torch.load(os.path.join(path, \"dataset_g\", \"test_proba_concepts.pt\"))\n",
    "test_logits_concept = torch.load(os.path.join(path, \"dataset_g\", \"test_logits_concepts.pt\"))\n",
    "test_logits_bb = torch.load(os.path.join(path, \"dataset_g\", \"test_logits_bb.pt\"))\n",
    "test_class_labels = torch.load(os.path.join(path, \"dataset_g\", \"test_class_labels.pt\"))\n",
    "\n",
    "train_attr = torch.load(os.path.join(path, \"dataset_g\", \"train_attributes.pt\"))\n",
    "train_proba_concept = torch.load(os.path.join(path, \"dataset_g\", \"train_proba_concepts.pt\"))\n",
    "train_logits_concept = torch.load(os.path.join(path, \"dataset_g\", \"train_logits_concepts.pt\"))\n",
    "train_logits_bb = torch.load(os.path.join(path, \"dataset_g\", \"train_logits_bb.pt\"))\n",
    "train_class_labels = torch.load(os.path.join(path, \"dataset_g\", \"train_class_labels.pt\"))\n",
    "\n",
    "val_attr = torch.load(os.path.join(path, \"dataset_g\", \"val_attributes.pt\"))\n",
    "val_proba_concept = torch.load(os.path.join(path, \"dataset_g\", \"val_proba_concepts.pt\"))\n",
    "val_logits_concept = torch.load(os.path.join(path, \"dataset_g\", \"val_logits_concepts.pt\"))\n",
    "val_logits_bb = torch.load(os.path.join(path, \"dataset_g\", \"val_logits_bb.pt\"))\n",
    "val_class_labels = torch.load(os.path.join(path, \"dataset_g\", \"val_class_labels.pt\"))\n",
    "\n",
    "print(\n",
    "    test_attr.size(), test_proba_concept.size(), test_logits_concept.size(),\n",
    "    test_logits_bb.size(), test_class_labels.size()\n",
    ")\n",
    "print()\n",
    "print(\n",
    "    train_attr.size(), train_proba_concept.size(), train_logits_concept.size(),\n",
    "    train_logits_bb.size(), train_class_labels.size()\n",
    ")\n",
    "print()\n",
    "print(\n",
    "    val_attr.size(), val_proba_concept.size(), val_logits_concept.size(),\n",
    "    val_logits_bb.size(), val_class_labels.size()\n",
    ")\n",
    "\n",
    "with open(os.path.join(path, \"MIMIC_test_configs.pkl\"), \"rb\") as input_file:\n",
    "    args = pickle.load(input_file)\n",
    "\n",
    "concepts = args.landmark_names_spec + args.abnorm_obs_concepts\n"
   ]
  },
  {
   "cell_type": "code",
   "execution_count": 13,
   "metadata": {},
   "outputs": [
    {
     "data": {
      "text/plain": [
       "(48, 'edema')"
      ]
     },
     "execution_count": 13,
     "metadata": {},
     "output_type": "execute_result"
    },
    {
     "data": {
      "application/javascript": [
       "\n",
       "            setTimeout(function() {\n",
       "                var nbb_cell_id = 13;\n",
       "                var nbb_unformatted_code = \"disease_index = concepts.index(disease)\\nconcepts.index(disease), concepts[concepts.index(disease)]\";\n",
       "                var nbb_formatted_code = \"disease_index = concepts.index(disease)\\nconcepts.index(disease), concepts[concepts.index(disease)]\";\n",
       "                var nbb_cells = Jupyter.notebook.get_cells();\n",
       "                for (var i = 0; i < nbb_cells.length; ++i) {\n",
       "                    if (nbb_cells[i].input_prompt_number == nbb_cell_id) {\n",
       "                        if (nbb_cells[i].get_text() == nbb_unformatted_code) {\n",
       "                             nbb_cells[i].set_text(nbb_formatted_code);\n",
       "                        }\n",
       "                        break;\n",
       "                    }\n",
       "                }\n",
       "            }, 500);\n",
       "            "
      ],
      "text/plain": [
       "<IPython.core.display.Javascript object>"
      ]
     },
     "metadata": {},
     "output_type": "display_data"
    }
   ],
   "source": [
    "disease_index = concepts.index(disease)\n",
    "concepts.index(disease), concepts[concepts.index(disease)]"
   ]
  },
  {
   "cell_type": "code",
   "execution_count": 14,
   "metadata": {},
   "outputs": [
    {
     "name": "stdout",
     "output_type": "stream",
     "text": [
      "hilar_unspec(3), auroc: 0.7548264928683963, recall: 0.6856677524429967\n",
      "left_pleural(4), auroc: 0.7898239824739404, recall: 0.6860189573459715\n",
      "right_pleural(5), auroc: 0.8216085275479434, recall: 0.7864293659621802\n",
      "pleural_unspec(6), auroc: 0.7895973042923078, recall: 0.7037773359840954\n",
      "heart_size(7), auroc: 0.7343946977411204, recall: 0.6097906055461234\n",
      "left_diaphragm(9), auroc: 0.7471800547075651, recall: 0.5277108433734939\n",
      "right_diaphragm(10), auroc: 0.8079553421264044, recall: 0.7345309381237525\n",
      "retrocardiac(12), auroc: 0.7001144370115993, recall: 0.8329604772557793\n",
      "left_apical_lung(21), auroc: 0.7201363793098767, recall: 0.46774193548387094\n",
      "left_lung_unspec(22), auroc: 0.7135861857839831, recall: 0.6643159379407616\n",
      "right_lower_lung(23), auroc: 0.7100129396778411, recall: 0.566402378592666\n",
      "right_lung_unspec(27), auroc: 0.7172979244536121, recall: 0.7053854276663146\n",
      "lung_bases(29), auroc: 0.7043281098654929, recall: 0.7372368041534468\n",
      "mediastinal(34), auroc: 0.7163623337591216, recall: 0.7136304062909568\n",
      "right_atrium(37), auroc: 0.7751701608979528, recall: 0.7088235294117647\n",
      "right_ventricle(38), auroc: 0.9236232017108048, recall: 0.7579113924050633\n",
      "aorta(39), auroc: 0.7374356051192421, recall: 0.5125858123569794\n",
      "svc(40), auroc: 0.7059343526907599, recall: 0.7649402390438247\n",
      "interstitium(41), auroc: 0.8205776377357707, recall: 0.8185358255451713\n",
      "parenchymal(42), auroc: 0.808428242403221, recall: 0.6877470355731226\n",
      "stomach(44), auroc: 0.7104037842032096, recall: 0.8638694638694638\n",
      "effusion(46), auroc: 0.8408770139764008, recall: 0.830565909861064\n",
      "atelectasis(49), auroc: 0.7116831012539693, recall: 0.6743893678160919\n",
      "tube(50), auroc: 0.8909863245513613, recall: 0.8820671378091873\n",
      "consolidation(51), auroc: 0.7379674094989586, recall: 0.6931348221670802\n",
      "process(52), auroc: 0.7123967151527875, recall: 0.5217391304347826\n",
      "abnormality(53), auroc: 0.7538032254599747, recall: 0.6881720430107527\n",
      "enlarge(54), auroc: 0.7439451302564942, recall: 0.674432863274065\n",
      "tip(55), auroc: 0.7346559012992125, recall: 0.7849028948332722\n",
      "low(56), auroc: 0.8489154547986943, recall: 0.7740863787375415\n",
      "line(57), auroc: 0.7679952720274597, recall: 0.7810402684563759\n",
      "congestion(58), auroc: 0.8101618106663978, recall: 0.7821428571428571\n",
      "catheter(59), auroc: 0.7340047772400876, recall: 0.8258478460128322\n",
      "cardiomegaly(60), auroc: 0.7834535089161849, recall: 0.7608695652173914\n",
      "air(62), auroc: 0.7156922703354823, recall: 0.5211267605633803\n",
      "tortuous(63), auroc: 0.7511069779953141, recall: 0.4658008658008658\n",
      "lead(64), auroc: 0.906731064842716, recall: 0.7495908346972177\n",
      "disease(65), auroc: 0.7424752583450929, recall: 0.6380368098159509\n",
      "calcification(66), auroc: 0.7351868667563066, recall: 0.5320910973084886\n",
      "device(68), auroc: 0.8147523585205071, recall: 0.7316885119506553\n",
      "engorgement(69), auroc: 0.7745986059547102, recall: 0.807920792079208\n",
      "elevation(72), auroc: 0.7132313998960131, recall: 0.6169354838709677\n",
      "wire(74), auroc: 0.902457605268173, recall: 0.8211640211640212\n",
      "fluid(75), auroc: 0.7133580739777925, recall: 0.594553706505295\n",
      "degenerative(76), auroc: 0.715039870446561, recall: 0.5288326300984529\n",
      "pacemaker(77), auroc: 0.9296980874468137, recall: 0.8047982551799345\n",
      "marking(79), auroc: 0.7618222346345601, recall: 0.6808943089430894\n",
      "scar(80), auroc: 0.7360393882197754, recall: 0.6684303350970018\n",
      "widen(83), auroc: 0.744451785364961, recall: 0.6618357487922706\n",
      "collapse(84), auroc: 0.7910100735967011, recall: 0.7633802816901408\n",
      "emphysema(86), auroc: 0.8268103968897663, recall: 0.7229551451187335\n",
      "crowd(89), auroc: 0.8086458009953058, recall: 0.6666666666666666\n",
      "infiltrate(90), auroc: 0.7426963938833998, recall: 0.5630252100840336\n",
      "deformity(92), auroc: 0.704241073060017, recall: 0.38439306358381503\n",
      "hernia(93), auroc: 0.7513808689228523, recall: 0.6140350877192983\n",
      "drainage(94), auroc: 0.7205680068062696, recall: 0.6481481481481481\n",
      "distention(95), auroc: 0.7540270917359696, recall: 0.5342465753424658\n",
      "shift(96), auroc: 0.8410596694168155, recall: 0.7381974248927039\n",
      "pressure(98), auroc: 0.7922208042985475, recall: 0.788\n",
      "chf(104), auroc: 0.8213762187846017, recall: 0.7319587628865979\n",
      "redistribution(105), auroc: 0.7254281909691599, recall: 0.5429864253393665\n",
      "aspiration(106), auroc: 0.7067771533675481, recall: 0.3442622950819672\n",
      "62\n"
     ]
    },
    {
     "data": {
      "text/plain": [
       "(0.7681052731001593, 0.6786348193155134)"
      ]
     },
     "execution_count": 14,
     "metadata": {},
     "output_type": "execute_result"
    },
    {
     "data": {
      "application/javascript": [
       "\n",
       "            setTimeout(function() {\n",
       "                var nbb_cell_id = 14;\n",
       "                var nbb_unformatted_code = \"data_GT = test_attr.cpu().numpy()\\ndata_PRED = test_proba_concept.cpu().numpy()\\ny_pred = np.where(data_PRED > 0.5, 1, 0)\\nsub_auroc = []\\nsub_recall = []\\nall_auroc = []\\ncnt = 0\\nfor i in range(len(concepts)):\\n    auroc_val = metrics.roc_auc_score(data_GT[:, i], data_PRED[:, i])\\n    recall_val = metrics.recall_score(data_GT[:, i], y_pred[:, i])\\n    all_auroc.append(auroc_val)\\n    if auroc_val >= 0.7 and i != disease_index:\\n        print(f\\\"{concepts[i]}({i}), auroc: {auroc_val}, recall: {recall_val}\\\")\\n        sub_auroc.append(auroc_val)\\n        sub_recall.append(recall_val)\\n        cnt += 1\\n\\nprint(cnt)\\nnp.mean(np.array(sub_auroc)), np.mean(np.array(sub_recall))\";\n",
       "                var nbb_formatted_code = \"data_GT = test_attr.cpu().numpy()\\ndata_PRED = test_proba_concept.cpu().numpy()\\ny_pred = np.where(data_PRED > 0.5, 1, 0)\\nsub_auroc = []\\nsub_recall = []\\nall_auroc = []\\ncnt = 0\\nfor i in range(len(concepts)):\\n    auroc_val = metrics.roc_auc_score(data_GT[:, i], data_PRED[:, i])\\n    recall_val = metrics.recall_score(data_GT[:, i], y_pred[:, i])\\n    all_auroc.append(auroc_val)\\n    if auroc_val >= 0.7 and i != disease_index:\\n        print(f\\\"{concepts[i]}({i}), auroc: {auroc_val}, recall: {recall_val}\\\")\\n        sub_auroc.append(auroc_val)\\n        sub_recall.append(recall_val)\\n        cnt += 1\\n\\nprint(cnt)\\nnp.mean(np.array(sub_auroc)), np.mean(np.array(sub_recall))\";\n",
       "                var nbb_cells = Jupyter.notebook.get_cells();\n",
       "                for (var i = 0; i < nbb_cells.length; ++i) {\n",
       "                    if (nbb_cells[i].input_prompt_number == nbb_cell_id) {\n",
       "                        if (nbb_cells[i].get_text() == nbb_unformatted_code) {\n",
       "                             nbb_cells[i].set_text(nbb_formatted_code);\n",
       "                        }\n",
       "                        break;\n",
       "                    }\n",
       "                }\n",
       "            }, 500);\n",
       "            "
      ],
      "text/plain": [
       "<IPython.core.display.Javascript object>"
      ]
     },
     "metadata": {},
     "output_type": "display_data"
    }
   ],
   "source": [
    "data_GT = test_attr.cpu().numpy()\n",
    "data_PRED = test_proba_concept.cpu().numpy()\n",
    "y_pred = np.where(data_PRED > 0.5, 1, 0)\n",
    "sub_auroc = []\n",
    "sub_recall = []\n",
    "all_auroc = []\n",
    "cnt = 0\n",
    "for i in range(len(concepts)):\n",
    "    auroc_val = metrics.roc_auc_score(data_GT[:, i], data_PRED[:, i])\n",
    "    recall_val = metrics.recall_score(data_GT[:, i], y_pred[:, i])\n",
    "    all_auroc.append(auroc_val)\n",
    "    if auroc_val >= 0.7 and i != disease_index:\n",
    "        print(f\"{concepts[i]}({i}), auroc: {auroc_val}, recall: {recall_val}\")\n",
    "        sub_auroc.append(auroc_val)\n",
    "        sub_recall.append(recall_val)\n",
    "        cnt += 1\n",
    "\n",
    "print(cnt)\n",
    "np.mean(np.array(sub_auroc)), np.mean(np.array(sub_recall))"
   ]
  },
  {
   "cell_type": "code",
   "execution_count": 15,
   "metadata": {},
   "outputs": [
    {
     "name": "stdout",
     "output_type": "stream",
     "text": [
      "107\n"
     ]
    },
    {
     "data": {
      "text/plain": [
       "(0.7179512478289677, 0.6085155989907404)"
      ]
     },
     "execution_count": 15,
     "metadata": {},
     "output_type": "execute_result"
    },
    {
     "data": {
      "application/javascript": [
       "\n",
       "            setTimeout(function() {\n",
       "                var nbb_cell_id = 15;\n",
       "                var nbb_unformatted_code = \"data_GT = test_attr.cpu().numpy()\\ndata_PRED = test_proba_concept.cpu().numpy()\\ny_pred = np.where(data_PRED > 0.5, 1, 0)\\nauroc = []\\nrecall = []\\nfor i in range(len(concepts)):\\n    try:\\n        auroc.append(metrics.roc_auc_score(data_GT[:, i], data_PRED[:, i]))\\n        recall.append(metrics.recall_score(data_GT[:, i], y_pred[:, i]))\\n    except ValueError:\\n        pass\\n\\nprint(len(auroc))\\n\\nmean_auroc = np.mean(np.array(auroc))\\nmean_recall = np.mean(np.array(recall))\\nmean_auroc, mean_recall\";\n",
       "                var nbb_formatted_code = \"data_GT = test_attr.cpu().numpy()\\ndata_PRED = test_proba_concept.cpu().numpy()\\ny_pred = np.where(data_PRED > 0.5, 1, 0)\\nauroc = []\\nrecall = []\\nfor i in range(len(concepts)):\\n    try:\\n        auroc.append(metrics.roc_auc_score(data_GT[:, i], data_PRED[:, i]))\\n        recall.append(metrics.recall_score(data_GT[:, i], y_pred[:, i]))\\n    except ValueError:\\n        pass\\n\\nprint(len(auroc))\\n\\nmean_auroc = np.mean(np.array(auroc))\\nmean_recall = np.mean(np.array(recall))\\nmean_auroc, mean_recall\";\n",
       "                var nbb_cells = Jupyter.notebook.get_cells();\n",
       "                for (var i = 0; i < nbb_cells.length; ++i) {\n",
       "                    if (nbb_cells[i].input_prompt_number == nbb_cell_id) {\n",
       "                        if (nbb_cells[i].get_text() == nbb_unformatted_code) {\n",
       "                             nbb_cells[i].set_text(nbb_formatted_code);\n",
       "                        }\n",
       "                        break;\n",
       "                    }\n",
       "                }\n",
       "            }, 500);\n",
       "            "
      ],
      "text/plain": [
       "<IPython.core.display.Javascript object>"
      ]
     },
     "metadata": {},
     "output_type": "display_data"
    }
   ],
   "source": [
    "data_GT = test_attr.cpu().numpy()\n",
    "data_PRED = test_proba_concept.cpu().numpy()\n",
    "y_pred = np.where(data_PRED > 0.5, 1, 0)\n",
    "auroc = []\n",
    "recall = []\n",
    "for i in range(len(concepts)):\n",
    "    try:\n",
    "        auroc.append(metrics.roc_auc_score(data_GT[:, i], data_PRED[:, i]))\n",
    "        recall.append(metrics.recall_score(data_GT[:, i], y_pred[:, i]))\n",
    "    except ValueError:\n",
    "        pass\n",
    "\n",
    "print(len(auroc))\n",
    "\n",
    "mean_auroc = np.mean(np.array(auroc))\n",
    "mean_recall = np.mean(np.array(recall))\n",
    "mean_auroc, mean_recall"
   ]
  },
  {
   "cell_type": "code",
   "execution_count": 16,
   "metadata": {},
   "outputs": [
    {
     "data": {
      "text/plain": [
       "(0.7179512478289677, 0.6085155989907404)"
      ]
     },
     "execution_count": 16,
     "metadata": {},
     "output_type": "execute_result"
    },
    {
     "data": {
      "application/javascript": [
       "\n",
       "            setTimeout(function() {\n",
       "                var nbb_cell_id = 16;\n",
       "                var nbb_unformatted_code = \"mean_auroc = np.mean(np.array(auroc))\\nmean_recall = np.mean(np.array(recall))\\nmean_auroc, mean_recall\";\n",
       "                var nbb_formatted_code = \"mean_auroc = np.mean(np.array(auroc))\\nmean_recall = np.mean(np.array(recall))\\nmean_auroc, mean_recall\";\n",
       "                var nbb_cells = Jupyter.notebook.get_cells();\n",
       "                for (var i = 0; i < nbb_cells.length; ++i) {\n",
       "                    if (nbb_cells[i].input_prompt_number == nbb_cell_id) {\n",
       "                        if (nbb_cells[i].get_text() == nbb_unformatted_code) {\n",
       "                             nbb_cells[i].set_text(nbb_formatted_code);\n",
       "                        }\n",
       "                        break;\n",
       "                    }\n",
       "                }\n",
       "            }, 500);\n",
       "            "
      ],
      "text/plain": [
       "<IPython.core.display.Javascript object>"
      ]
     },
     "metadata": {},
     "output_type": "display_data"
    }
   ],
   "source": [
    "mean_auroc = np.mean(np.array(auroc))\n",
    "mean_recall = np.mean(np.array(recall))\n",
    "mean_auroc, mean_recall"
   ]
  },
  {
   "cell_type": "code",
   "execution_count": 17,
   "metadata": {},
   "outputs": [
    {
     "data": {
      "text/plain": [
       "(tensor(62), torch.Size([107]))"
      ]
     },
     "execution_count": 17,
     "metadata": {},
     "output_type": "execute_result"
    },
    {
     "data": {
      "application/javascript": [
       "\n",
       "            setTimeout(function() {\n",
       "                var nbb_cell_id = 17;\n",
       "                var nbb_unformatted_code = \"mask_select = np.array(all_auroc) >= 0.7\\nmask_select[disease_index] = False\\n\\ntorch_mask = torch.from_numpy(mask_select)\\ntorch_mask.sum(), torch_mask.size()\";\n",
       "                var nbb_formatted_code = \"mask_select = np.array(all_auroc) >= 0.7\\nmask_select[disease_index] = False\\n\\ntorch_mask = torch.from_numpy(mask_select)\\ntorch_mask.sum(), torch_mask.size()\";\n",
       "                var nbb_cells = Jupyter.notebook.get_cells();\n",
       "                for (var i = 0; i < nbb_cells.length; ++i) {\n",
       "                    if (nbb_cells[i].input_prompt_number == nbb_cell_id) {\n",
       "                        if (nbb_cells[i].get_text() == nbb_unformatted_code) {\n",
       "                             nbb_cells[i].set_text(nbb_formatted_code);\n",
       "                        }\n",
       "                        break;\n",
       "                    }\n",
       "                }\n",
       "            }, 500);\n",
       "            "
      ],
      "text/plain": [
       "<IPython.core.display.Javascript object>"
      ]
     },
     "metadata": {},
     "output_type": "display_data"
    }
   ],
   "source": [
    "mask_select = np.array(all_auroc) >= 0.7\n",
    "mask_select[disease_index] = False\n",
    "\n",
    "torch_mask = torch.from_numpy(mask_select)\n",
    "torch_mask.sum(), torch_mask.size()"
   ]
  },
  {
   "cell_type": "code",
   "execution_count": 18,
   "metadata": {},
   "outputs": [
    {
     "name": "stdout",
     "output_type": "stream",
     "text": [
      "Test sizes: \n",
      "torch.Size([24072, 62])\n",
      "torch.Size([24072, 62])\n",
      "torch.Size([24072, 62])\n",
      "Val sizes: \n",
      "torch.Size([23449, 62])\n",
      "torch.Size([23449, 62])\n",
      "torch.Size([23449, 62])\n",
      "Train sizes: \n",
      "torch.Size([187548, 62])\n",
      "torch.Size([187548, 62])\n",
      "torch.Size([187548, 62])\n",
      "62\n"
     ]
    },
    {
     "data": {
      "application/javascript": [
       "\n",
       "            setTimeout(function() {\n",
       "                var nbb_cell_id = 18;\n",
       "                var nbb_unformatted_code = \"cnt = 0\\nth = 0.7\\nconcept_select = []\\n\\ntest_select_attr = []\\ntest_select_proba_concept = []\\ntest_select_logits_concept = []\\n\\n\\nval_select_attr = []\\nval_select_proba_concept = []\\nval_select_logits_concept = []\\n\\n\\ntrain_select_attr = []\\ntrain_select_proba_concept = []\\ntrain_select_logits_concept = []\\n\\n\\ntest_select_proba_concept = []\\nfor i in range(len(concepts)):\\n    if auroc[i] >= th and i != disease_index:\\n        test_select_attr.append(test_attr[:, i])\\n        test_select_proba_concept.append(test_proba_concept[:, i])\\n        test_select_logits_concept.append(test_logits_concept[:, i])\\n\\n        val_select_attr.append(val_attr[:, i])\\n        val_select_proba_concept.append(val_proba_concept[:, i])\\n        val_select_logits_concept.append(val_logits_concept[:, i])\\n\\n        train_select_attr.append(train_attr[:, i])\\n        train_select_proba_concept.append(train_proba_concept[:, i])\\n        train_select_logits_concept.append(train_logits_concept[:, i])\\n\\n        concept_select.append(concepts[i])\\n        cnt += 1\\n\\ntest_select_attr = torch.stack(test_select_attr, dim=1)\\ntest_select_proba_concept = torch.stack(test_select_proba_concept, dim=1)\\ntest_select_logits_concept = torch.stack(test_select_logits_concept, dim=1)\\nval_select_attr = torch.stack(val_select_attr, dim=1)\\nval_select_proba_concept = torch.stack(val_select_proba_concept, dim=1)\\nval_select_logits_concept = torch.stack(val_select_logits_concept, dim=1)\\ntrain_select_attr = torch.stack(train_select_attr, dim=1)\\ntrain_select_proba_concept = torch.stack(train_select_proba_concept, dim=1)\\ntrain_select_logits_concept = torch.stack(train_select_logits_concept, dim=1)\\n\\n\\nprint(\\\"Test sizes: \\\")\\nprint(test_select_attr.size())\\nprint(test_select_proba_concept.size())\\nprint(test_select_logits_concept.size())\\nprint(\\\"Val sizes: \\\")\\nprint(val_select_attr.size())\\nprint(val_select_proba_concept.size())\\nprint(val_select_logits_concept.size())\\nprint(\\\"Train sizes: \\\")\\nprint(train_select_attr.size())\\nprint(train_select_proba_concept.size())\\nprint(train_select_logits_concept.size())\\nprint(cnt)\";\n",
       "                var nbb_formatted_code = \"cnt = 0\\nth = 0.7\\nconcept_select = []\\n\\ntest_select_attr = []\\ntest_select_proba_concept = []\\ntest_select_logits_concept = []\\n\\n\\nval_select_attr = []\\nval_select_proba_concept = []\\nval_select_logits_concept = []\\n\\n\\ntrain_select_attr = []\\ntrain_select_proba_concept = []\\ntrain_select_logits_concept = []\\n\\n\\ntest_select_proba_concept = []\\nfor i in range(len(concepts)):\\n    if auroc[i] >= th and i != disease_index:\\n        test_select_attr.append(test_attr[:, i])\\n        test_select_proba_concept.append(test_proba_concept[:, i])\\n        test_select_logits_concept.append(test_logits_concept[:, i])\\n\\n        val_select_attr.append(val_attr[:, i])\\n        val_select_proba_concept.append(val_proba_concept[:, i])\\n        val_select_logits_concept.append(val_logits_concept[:, i])\\n\\n        train_select_attr.append(train_attr[:, i])\\n        train_select_proba_concept.append(train_proba_concept[:, i])\\n        train_select_logits_concept.append(train_logits_concept[:, i])\\n\\n        concept_select.append(concepts[i])\\n        cnt += 1\\n\\ntest_select_attr = torch.stack(test_select_attr, dim=1)\\ntest_select_proba_concept = torch.stack(test_select_proba_concept, dim=1)\\ntest_select_logits_concept = torch.stack(test_select_logits_concept, dim=1)\\nval_select_attr = torch.stack(val_select_attr, dim=1)\\nval_select_proba_concept = torch.stack(val_select_proba_concept, dim=1)\\nval_select_logits_concept = torch.stack(val_select_logits_concept, dim=1)\\ntrain_select_attr = torch.stack(train_select_attr, dim=1)\\ntrain_select_proba_concept = torch.stack(train_select_proba_concept, dim=1)\\ntrain_select_logits_concept = torch.stack(train_select_logits_concept, dim=1)\\n\\n\\nprint(\\\"Test sizes: \\\")\\nprint(test_select_attr.size())\\nprint(test_select_proba_concept.size())\\nprint(test_select_logits_concept.size())\\nprint(\\\"Val sizes: \\\")\\nprint(val_select_attr.size())\\nprint(val_select_proba_concept.size())\\nprint(val_select_logits_concept.size())\\nprint(\\\"Train sizes: \\\")\\nprint(train_select_attr.size())\\nprint(train_select_proba_concept.size())\\nprint(train_select_logits_concept.size())\\nprint(cnt)\";\n",
       "                var nbb_cells = Jupyter.notebook.get_cells();\n",
       "                for (var i = 0; i < nbb_cells.length; ++i) {\n",
       "                    if (nbb_cells[i].input_prompt_number == nbb_cell_id) {\n",
       "                        if (nbb_cells[i].get_text() == nbb_unformatted_code) {\n",
       "                             nbb_cells[i].set_text(nbb_formatted_code);\n",
       "                        }\n",
       "                        break;\n",
       "                    }\n",
       "                }\n",
       "            }, 500);\n",
       "            "
      ],
      "text/plain": [
       "<IPython.core.display.Javascript object>"
      ]
     },
     "metadata": {},
     "output_type": "display_data"
    }
   ],
   "source": [
    "cnt = 0\n",
    "th = 0.7\n",
    "concept_select = []\n",
    "\n",
    "test_select_attr = []\n",
    "test_select_proba_concept = []\n",
    "test_select_logits_concept = []\n",
    "\n",
    "\n",
    "val_select_attr = []\n",
    "val_select_proba_concept = []\n",
    "val_select_logits_concept = []\n",
    "\n",
    "\n",
    "train_select_attr = []\n",
    "train_select_proba_concept = []\n",
    "train_select_logits_concept = []\n",
    "\n",
    "\n",
    "test_select_proba_concept = []\n",
    "for i in range(len(concepts)):\n",
    "    if auroc[i] >= th and i != disease_index:\n",
    "        test_select_attr.append(test_attr[:, i])\n",
    "        test_select_proba_concept.append(test_proba_concept[:, i])\n",
    "        test_select_logits_concept.append(test_logits_concept[:, i])\n",
    "\n",
    "        val_select_attr.append(val_attr[:, i])\n",
    "        val_select_proba_concept.append(val_proba_concept[:, i])\n",
    "        val_select_logits_concept.append(val_logits_concept[:, i])\n",
    "\n",
    "        train_select_attr.append(train_attr[:, i])\n",
    "        train_select_proba_concept.append(train_proba_concept[:, i])\n",
    "        train_select_logits_concept.append(train_logits_concept[:, i])\n",
    "\n",
    "        concept_select.append(concepts[i])\n",
    "        cnt += 1\n",
    "\n",
    "test_select_attr = torch.stack(test_select_attr, dim=1)\n",
    "test_select_proba_concept = torch.stack(test_select_proba_concept, dim=1)\n",
    "test_select_logits_concept = torch.stack(test_select_logits_concept, dim=1)\n",
    "val_select_attr = torch.stack(val_select_attr, dim=1)\n",
    "val_select_proba_concept = torch.stack(val_select_proba_concept, dim=1)\n",
    "val_select_logits_concept = torch.stack(val_select_logits_concept, dim=1)\n",
    "train_select_attr = torch.stack(train_select_attr, dim=1)\n",
    "train_select_proba_concept = torch.stack(train_select_proba_concept, dim=1)\n",
    "train_select_logits_concept = torch.stack(train_select_logits_concept, dim=1)\n",
    "\n",
    "\n",
    "print(\"Test sizes: \")\n",
    "print(test_select_attr.size())\n",
    "print(test_select_proba_concept.size())\n",
    "print(test_select_logits_concept.size())\n",
    "print(\"Val sizes: \")\n",
    "print(val_select_attr.size())\n",
    "print(val_select_proba_concept.size())\n",
    "print(val_select_logits_concept.size())\n",
    "print(\"Train sizes: \")\n",
    "print(train_select_attr.size())\n",
    "print(train_select_proba_concept.size())\n",
    "print(train_select_logits_concept.size())\n",
    "print(cnt)"
   ]
  },
  {
   "cell_type": "code",
   "execution_count": 21,
   "metadata": {},
   "outputs": [
    {
     "name": "stdout",
     "output_type": "stream",
     "text": [
      "/ocean/projects/asc170022p/shg121/PhD/ICLR-2022/out/mimic_cxr/t/lr_0.01_epochs_60_loss_BCE_W_flattening_type_flatten_layer_features_denseblock4/densenet121/edema/dataset_g\n"
     ]
    },
    {
     "data": {
      "application/javascript": [
       "\n",
       "            setTimeout(function() {\n",
       "                var nbb_cell_id = 21;\n",
       "                var nbb_unformatted_code = \"metric = \\\"auroc\\\"\\n\\nutils.save_tensor(\\n    path=os.path.join(path, \\\"dataset_g\\\", f\\\"torch_concepts_mask_{metric}.pt\\\"),\\n    tensor_to_save=torch_mask,\\n)\\n\\nutils.save_tensor(\\n    path=os.path.join(path, \\\"dataset_g\\\", f\\\"test_select_{metric}_attributes.pt\\\"),\\n    tensor_to_save=test_select_attr,\\n)\\nutils.save_tensor(\\n    path=os.path.join(path, \\\"dataset_g\\\", f\\\"test_select_proba_{metric}_concepts.pt\\\"),\\n    tensor_to_save=test_select_proba_concept,\\n)\\nutils.save_tensor(\\n    path=os.path.join(path, \\\"dataset_g\\\", f\\\"test_select_logits_{metric}_concepts.pt\\\"),\\n    tensor_to_save=test_select_logits_concept,\\n)\\n\\nutils.save_tensor(\\n    path=os.path.join(path, \\\"dataset_g\\\", f\\\"val_select_{metric}_attributes.pt\\\"),\\n    tensor_to_save=val_select_attr,\\n)\\nutils.save_tensor(\\n    path=os.path.join(path, \\\"dataset_g\\\", f\\\"val_select_proba_{metric}_concepts.pt\\\"),\\n    tensor_to_save=val_select_proba_concept,\\n)\\nutils.save_tensor(\\n    path=os.path.join(path, \\\"dataset_g\\\", f\\\"val_select_logits_{metric}_concepts.pt\\\"),\\n    tensor_to_save=val_select_logits_concept,\\n)\\n\\nutils.save_tensor(\\n    path=os.path.join(path, \\\"dataset_g\\\", f\\\"train_select_{metric}_attributes.pt\\\"),\\n    tensor_to_save=train_select_attr,\\n)\\nutils.save_tensor(\\n    path=os.path.join(path, \\\"dataset_g\\\", f\\\"train_select_proba_{metric}_concepts.pt\\\"),\\n    tensor_to_save=train_select_proba_concept,\\n)\\nutils.save_tensor(\\n    path=os.path.join(path, \\\"dataset_g\\\", f\\\"train_select_logits_{metric}_concepts.pt\\\"),\\n    tensor_to_save=train_select_logits_concept,\\n)\\n\\npickle.dump(\\n    concept_select,\\n    open(os.path.join(path, \\\"dataset_g\\\", f\\\"selected_concepts_{metric}.pkl\\\"), \\\"wb\\\"),\\n)\\nprint(os.path.join(path, \\\"dataset_g\\\"))\";\n",
       "                var nbb_formatted_code = \"metric = \\\"auroc\\\"\\n\\nutils.save_tensor(\\n    path=os.path.join(path, \\\"dataset_g\\\", f\\\"torch_concepts_mask_{metric}.pt\\\"),\\n    tensor_to_save=torch_mask,\\n)\\n\\nutils.save_tensor(\\n    path=os.path.join(path, \\\"dataset_g\\\", f\\\"test_select_{metric}_attributes.pt\\\"),\\n    tensor_to_save=test_select_attr,\\n)\\nutils.save_tensor(\\n    path=os.path.join(path, \\\"dataset_g\\\", f\\\"test_select_proba_{metric}_concepts.pt\\\"),\\n    tensor_to_save=test_select_proba_concept,\\n)\\nutils.save_tensor(\\n    path=os.path.join(path, \\\"dataset_g\\\", f\\\"test_select_logits_{metric}_concepts.pt\\\"),\\n    tensor_to_save=test_select_logits_concept,\\n)\\n\\nutils.save_tensor(\\n    path=os.path.join(path, \\\"dataset_g\\\", f\\\"val_select_{metric}_attributes.pt\\\"),\\n    tensor_to_save=val_select_attr,\\n)\\nutils.save_tensor(\\n    path=os.path.join(path, \\\"dataset_g\\\", f\\\"val_select_proba_{metric}_concepts.pt\\\"),\\n    tensor_to_save=val_select_proba_concept,\\n)\\nutils.save_tensor(\\n    path=os.path.join(path, \\\"dataset_g\\\", f\\\"val_select_logits_{metric}_concepts.pt\\\"),\\n    tensor_to_save=val_select_logits_concept,\\n)\\n\\nutils.save_tensor(\\n    path=os.path.join(path, \\\"dataset_g\\\", f\\\"train_select_{metric}_attributes.pt\\\"),\\n    tensor_to_save=train_select_attr,\\n)\\nutils.save_tensor(\\n    path=os.path.join(path, \\\"dataset_g\\\", f\\\"train_select_proba_{metric}_concepts.pt\\\"),\\n    tensor_to_save=train_select_proba_concept,\\n)\\nutils.save_tensor(\\n    path=os.path.join(path, \\\"dataset_g\\\", f\\\"train_select_logits_{metric}_concepts.pt\\\"),\\n    tensor_to_save=train_select_logits_concept,\\n)\\n\\npickle.dump(\\n    concept_select,\\n    open(os.path.join(path, \\\"dataset_g\\\", f\\\"selected_concepts_{metric}.pkl\\\"), \\\"wb\\\"),\\n)\\nprint(os.path.join(path, \\\"dataset_g\\\"))\";\n",
       "                var nbb_cells = Jupyter.notebook.get_cells();\n",
       "                for (var i = 0; i < nbb_cells.length; ++i) {\n",
       "                    if (nbb_cells[i].input_prompt_number == nbb_cell_id) {\n",
       "                        if (nbb_cells[i].get_text() == nbb_unformatted_code) {\n",
       "                             nbb_cells[i].set_text(nbb_formatted_code);\n",
       "                        }\n",
       "                        break;\n",
       "                    }\n",
       "                }\n",
       "            }, 500);\n",
       "            "
      ],
      "text/plain": [
       "<IPython.core.display.Javascript object>"
      ]
     },
     "metadata": {},
     "output_type": "display_data"
    }
   ],
   "source": [
    "metric = \"auroc\"\n",
    "\n",
    "utils.save_tensor(\n",
    "    path=os.path.join(path, \"dataset_g\", f\"torch_concepts_mask_{metric}.pt\"),\n",
    "    tensor_to_save=torch_mask,\n",
    ")\n",
    "\n",
    "utils.save_tensor(\n",
    "    path=os.path.join(path, \"dataset_g\", f\"test_select_{metric}_attributes.pt\"),\n",
    "    tensor_to_save=test_select_attr,\n",
    ")\n",
    "utils.save_tensor(\n",
    "    path=os.path.join(path, \"dataset_g\", f\"test_select_proba_{metric}_concepts.pt\"),\n",
    "    tensor_to_save=test_select_proba_concept,\n",
    ")\n",
    "utils.save_tensor(\n",
    "    path=os.path.join(path, \"dataset_g\", f\"test_select_logits_{metric}_concepts.pt\"),\n",
    "    tensor_to_save=test_select_logits_concept,\n",
    ")\n",
    "\n",
    "utils.save_tensor(\n",
    "    path=os.path.join(path, \"dataset_g\", f\"val_select_{metric}_attributes.pt\"),\n",
    "    tensor_to_save=val_select_attr,\n",
    ")\n",
    "utils.save_tensor(\n",
    "    path=os.path.join(path, \"dataset_g\", f\"val_select_proba_{metric}_concepts.pt\"),\n",
    "    tensor_to_save=val_select_proba_concept,\n",
    ")\n",
    "utils.save_tensor(\n",
    "    path=os.path.join(path, \"dataset_g\", f\"val_select_logits_{metric}_concepts.pt\"),\n",
    "    tensor_to_save=val_select_logits_concept,\n",
    ")\n",
    "\n",
    "utils.save_tensor(\n",
    "    path=os.path.join(path, \"dataset_g\", f\"train_select_{metric}_attributes.pt\"),\n",
    "    tensor_to_save=train_select_attr,\n",
    ")\n",
    "utils.save_tensor(\n",
    "    path=os.path.join(path, \"dataset_g\", f\"train_select_proba_{metric}_concepts.pt\"),\n",
    "    tensor_to_save=train_select_proba_concept,\n",
    ")\n",
    "utils.save_tensor(\n",
    "    path=os.path.join(path, \"dataset_g\", f\"train_select_logits_{metric}_concepts.pt\"),\n",
    "    tensor_to_save=train_select_logits_concept,\n",
    ")\n",
    "\n",
    "pickle.dump(\n",
    "    concept_select,\n",
    "    open(os.path.join(path, \"dataset_g\", f\"selected_concepts_{metric}.pkl\"), \"wb\"),\n",
    ")\n",
    "print(os.path.join(path, \"dataset_g\"))"
   ]
  },
  {
   "cell_type": "code",
   "execution_count": 10,
   "metadata": {},
   "outputs": [
    {
     "data": {
      "text/plain": [
       "['hilar_unspec',\n",
       " 'left_pleural',\n",
       " 'right_pleural',\n",
       " 'pleural_unspec',\n",
       " 'heart_size',\n",
       " 'left_diaphragm',\n",
       " 'right_diaphragm',\n",
       " 'retrocardiac',\n",
       " 'left_apical_lung',\n",
       " 'left_lung_unspec',\n",
       " 'right_lower_lung',\n",
       " 'right_lung_unspec',\n",
       " 'lung_bases',\n",
       " 'mediastinal',\n",
       " 'right_atrium',\n",
       " 'right_ventricle',\n",
       " 'aorta',\n",
       " 'svc',\n",
       " 'interstitium',\n",
       " 'parenchymal',\n",
       " 'stomach',\n",
       " 'effusion',\n",
       " 'atelectasis',\n",
       " 'tube',\n",
       " 'consolidation',\n",
       " 'process',\n",
       " 'abnormality',\n",
       " 'enlarge',\n",
       " 'tip',\n",
       " 'low',\n",
       " 'line',\n",
       " 'congestion',\n",
       " 'catheter',\n",
       " 'cardiomegaly',\n",
       " 'air',\n",
       " 'tortuous',\n",
       " 'lead',\n",
       " 'disease',\n",
       " 'calcification',\n",
       " 'device',\n",
       " 'engorgement',\n",
       " 'elevation',\n",
       " 'wire',\n",
       " 'fluid',\n",
       " 'degenerative',\n",
       " 'pacemaker',\n",
       " 'marking',\n",
       " 'scar',\n",
       " 'widen',\n",
       " 'collapse',\n",
       " 'emphysema',\n",
       " 'crowd',\n",
       " 'infiltrate',\n",
       " 'deformity',\n",
       " 'hernia',\n",
       " 'drainage',\n",
       " 'distention',\n",
       " 'shift',\n",
       " 'pressure',\n",
       " 'chf',\n",
       " 'redistribution',\n",
       " 'aspiration']"
      ]
     },
     "execution_count": 10,
     "metadata": {},
     "output_type": "execute_result"
    },
    {
     "data": {
      "application/javascript": [
       "\n",
       "            setTimeout(function() {\n",
       "                var nbb_cell_id = 10;\n",
       "                var nbb_unformatted_code = \"concept_select\";\n",
       "                var nbb_formatted_code = \"concept_select\";\n",
       "                var nbb_cells = Jupyter.notebook.get_cells();\n",
       "                for (var i = 0; i < nbb_cells.length; ++i) {\n",
       "                    if (nbb_cells[i].input_prompt_number == nbb_cell_id) {\n",
       "                        if (nbb_cells[i].get_text() == nbb_unformatted_code) {\n",
       "                             nbb_cells[i].set_text(nbb_formatted_code);\n",
       "                        }\n",
       "                        break;\n",
       "                    }\n",
       "                }\n",
       "            }, 500);\n",
       "            "
      ],
      "text/plain": [
       "<IPython.core.display.Javascript object>"
      ]
     },
     "metadata": {},
     "output_type": "display_data"
    }
   ],
   "source": [
    "concept_select"
   ]
  },
  {
   "cell_type": "code",
   "execution_count": 18,
   "metadata": {},
   "outputs": [
    {
     "data": {
      "text/plain": [
       "(tensor([21120]), tensor([166428]))"
      ]
     },
     "execution_count": 18,
     "metadata": {},
     "output_type": "execute_result"
    },
    {
     "data": {
      "application/javascript": [
       "\n",
       "            setTimeout(function() {\n",
       "                var nbb_cell_id = 18;\n",
       "                var nbb_unformatted_code = \"y_gt_tr = torch.load(os.path.join(path, \\\"dataset_g\\\", f\\\"train_class_labels.pt\\\"))\\n(y_gt_tr == 1).sum(dim=0), (y_gt_tr == 0).sum(dim=0)\";\n",
       "                var nbb_formatted_code = \"y_gt_tr = torch.load(os.path.join(path, \\\"dataset_g\\\", f\\\"train_class_labels.pt\\\"))\\n(y_gt_tr == 1).sum(dim=0), (y_gt_tr == 0).sum(dim=0)\";\n",
       "                var nbb_cells = Jupyter.notebook.get_cells();\n",
       "                for (var i = 0; i < nbb_cells.length; ++i) {\n",
       "                    if (nbb_cells[i].input_prompt_number == nbb_cell_id) {\n",
       "                        if (nbb_cells[i].get_text() == nbb_unformatted_code) {\n",
       "                             nbb_cells[i].set_text(nbb_formatted_code);\n",
       "                        }\n",
       "                        break;\n",
       "                    }\n",
       "                }\n",
       "            }, 500);\n",
       "            "
      ],
      "text/plain": [
       "<IPython.core.display.Javascript object>"
      ]
     },
     "metadata": {},
     "output_type": "display_data"
    }
   ],
   "source": [
    "y_gt_tr = torch.load(os.path.join(path, \"dataset_g\", f\"train_class_labels.pt\"))\n",
    "(y_gt_tr == 1).sum(dim=0), (y_gt_tr == 0).sum(dim=0)"
   ]
  },
  {
   "cell_type": "code",
   "execution_count": 19,
   "metadata": {},
   "outputs": [
    {
     "data": {
      "text/plain": [
       "0.11261117458343506"
      ]
     },
     "execution_count": 19,
     "metadata": {},
     "output_type": "execute_result"
    },
    {
     "data": {
      "application/javascript": [
       "\n",
       "            setTimeout(function() {\n",
       "                var nbb_cell_id = 19;\n",
       "                var nbb_unformatted_code = \"((y_gt_tr == 1).sum(dim=0) / y_gt_tr.size(0)).item()\";\n",
       "                var nbb_formatted_code = \"((y_gt_tr == 1).sum(dim=0) / y_gt_tr.size(0)).item()\";\n",
       "                var nbb_cells = Jupyter.notebook.get_cells();\n",
       "                for (var i = 0; i < nbb_cells.length; ++i) {\n",
       "                    if (nbb_cells[i].input_prompt_number == nbb_cell_id) {\n",
       "                        if (nbb_cells[i].get_text() == nbb_unformatted_code) {\n",
       "                             nbb_cells[i].set_text(nbb_formatted_code);\n",
       "                        }\n",
       "                        break;\n",
       "                    }\n",
       "                }\n",
       "            }, 500);\n",
       "            "
      ],
      "text/plain": [
       "<IPython.core.display.Javascript object>"
      ]
     },
     "metadata": {},
     "output_type": "display_data"
    }
   ],
   "source": [
    "((y_gt_tr == 1).sum(dim=0) / y_gt_tr.size(0)).item()"
   ]
  }
 ],
 "metadata": {
  "kernelspec": {
   "display_name": "python_3_7",
   "language": "python",
   "name": "python_3_7"
  },
  "language_info": {
   "codemirror_mode": {
    "name": "ipython",
    "version": 3
   },
   "file_extension": ".py",
   "mimetype": "text/x-python",
   "name": "python",
   "nbconvert_exporter": "python",
   "pygments_lexer": "ipython3",
   "version": "3.7.11"
  }
 },
 "nbformat": 4,
 "nbformat_minor": 4
}
